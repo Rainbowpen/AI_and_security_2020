{
  "nbformat": 4,
  "nbformat_minor": 0,
  "metadata": {
    "colab": {
      "name": "1_基本輸入與輸出.ipynb",
      "provenance": [],
      "collapsed_sections": [],
      "authorship_tag": "ABX9TyPFno+EEw11O1X9DQPvRBJI",
      "include_colab_link": true
    },
    "kernelspec": {
      "name": "python3",
      "display_name": "Python 3"
    }
  },
  "cells": [
    {
      "cell_type": "markdown",
      "metadata": {
        "id": "view-in-github",
        "colab_type": "text"
      },
      "source": [
        "<a href=\"https://colab.research.google.com/github/Rainbowpen/AI_and_security_2020/blob/master/1_%E5%9F%BA%E6%9C%AC%E8%BC%B8%E5%85%A5%E8%88%87%E8%BC%B8%E5%87%BA.ipynb\" target=\"_parent\"><img src=\"https://colab.research.google.com/assets/colab-badge.svg\" alt=\"Open In Colab\"/></a>"
      ]
    },
    {
      "cell_type": "code",
      "metadata": {
        "id": "RQAaMxxYDfT3",
        "colab_type": "code",
        "colab": {}
      },
      "source": [
        ""
      ],
      "execution_count": 23,
      "outputs": []
    },
    {
      "cell_type": "markdown",
      "metadata": {
        "id": "BIowh0e8DyFf",
        "colab_type": "text"
      },
      "source": [
        "\n",
        "```\n",
        "[1]標準輸入(stdin)與標準輸出(stdout)\n",
        "   python輸入:input(), raw_input()\n",
        "   python輸出: print()\n",
        "   python格式化輸出技術\n",
        "\n",
        "[2]\n",
        "```\n",
        "```\n",
        "進階學習主題:\n",
        "[10]讀取檔案與輸出到檔案\n",
        "[20]資料庫讀取與輸出\n",
        "```"
      ]
    },
    {
      "cell_type": "markdown",
      "metadata": {
        "id": "tExvfjqXERCw",
        "colab_type": "text"
      },
      "source": [
        "# 基礎輸入與輸出(Basic Input and Output)\n",
        "\n",
        "## 基本輸入:讀取使用者的輸入\n",
        "```\n",
        "使用input時，會從標準輸入(stdin)中讀取輸入資料\n",
        "這些資料是string字串型態{重要}\n",
        "stdin==Standard Input\n",
        "```"
      ]
    },
    {
      "cell_type": "code",
      "metadata": {
        "id": "dIgDt49lEX_S",
        "colab_type": "code",
        "colab": {
          "base_uri": "https://localhost:8080/",
          "height": 97
        },
        "outputId": "29c371dd-eecc-4230-d74a-d4480a7bac1d"
      },
      "source": [
        "# -*- coding: utf-8 -*-\n",
        "x = input('Enter your name:')\n",
        "print('Hello, ' + x)\n",
        "\n",
        "a = input(\"請輸入：\")\n",
        "a\n",
        "\n"
      ],
      "execution_count": 24,
      "outputs": [
        {
          "output_type": "stream",
          "text": [
            "Enter your name:123\n",
            "Hello, 123\n",
            "請輸入：556\n"
          ],
          "name": "stdout"
        },
        {
          "output_type": "execute_result",
          "data": {
            "application/vnd.google.colaboratory.intrinsic+json": {
              "type": "string"
            },
            "text/plain": [
              "'556'"
            ]
          },
          "metadata": {
            "tags": []
          },
          "execution_count": 24
        }
      ]
    },
    {
      "cell_type": "markdown",
      "metadata": {
        "id": "uzraAHAYdnmZ",
        "colab_type": "text"
      },
      "source": [
        "###  使用Python內建的type()函數顯示資料型態\n"
      ]
    },
    {
      "cell_type": "markdown",
      "metadata": {
        "id": "yBsLRz52eAJo",
        "colab_type": "text"
      },
      "source": [
        ""
      ]
    },
    {
      "cell_type": "code",
      "metadata": {
        "id": "lZh3J-29eAuD",
        "colab_type": "code",
        "colab": {
          "base_uri": "https://localhost:8080/",
          "height": 36
        },
        "outputId": "86216a78-fa12-4ec4-d771-d3d3eab2df08"
      },
      "source": [
        "type(a)"
      ],
      "execution_count": 25,
      "outputs": [
        {
          "output_type": "execute_result",
          "data": {
            "text/plain": [
              "str"
            ]
          },
          "metadata": {
            "tags": []
          },
          "execution_count": 25
        }
      ]
    },
    {
      "cell_type": "markdown",
      "metadata": {
        "id": "4lESLXM2Eyx5",
        "colab_type": "text"
      },
      "source": [
        "### 程式錯誤與更正\n",
        "```\n",
        "小明明正在學習python程式\n",
        "老師出了一題\n",
        "要輸入一個整數分數\n",
        "然後加30後\n",
        "輸出最後答案\n",
        "底下是小明明的python程式\n",
        "請指出底下的錯誤並更正\n",
        "```\n",
        "#### 小明明的python程式\n",
        "```\n",
        "a = input(\"請輸入：\")\n",
        "a\n",
        "```\n",
        "```\n",
        "b=a+1\n",
        "b\n",
        "```\n",
        "```\n",
        "TypeError                                 Traceback (most recent call last)\n",
        "<ipython-input-15-1bf84b7b9877> in <module>()\n",
        "----> 1 b=a+1\n",
        "      2 b\n",
        "\n",
        "TypeError: must be str, not int\n",
        "```\n",
        "\n",
        "```\n",
        "TypeError :資料型態(data type)錯誤\n",
        "```\n",
        "#### 更正的 小明明python程式"
      ]
    },
    {
      "cell_type": "code",
      "metadata": {
        "id": "arJ_w7sWE38W",
        "colab_type": "code",
        "colab": {
          "base_uri": "https://localhost:8080/",
          "height": 75
        },
        "outputId": "e4e0f8c2-fd96-4139-e3ee-4b2619658c10"
      },
      "source": [
        "a = input(\"請輸入：\")\n",
        "#print(a.isdigit())\n",
        "if a.isdigit() == True:\n",
        "    a = int(a)\n",
        "    print(a)\n",
        "    b=a+1\n",
        "    print(b)\n",
        "else:\n",
        "    print(str(a) + \" is not a number!!!\")"
      ],
      "execution_count": 26,
      "outputs": [
        {
          "output_type": "stream",
          "text": [
            "請輸入：23\n",
            "23\n",
            "24\n"
          ],
          "name": "stdout"
        }
      ]
    },
    {
      "cell_type": "markdown",
      "metadata": {
        "id": "6yb86pjNEjCH",
        "colab_type": "text"
      },
      "source": [
        "####如何讀取使用者輸入的整數===>使用eval()函數"
      ]
    },
    {
      "cell_type": "code",
      "metadata": {
        "id": "BRRgIfkeccBd",
        "colab_type": "code",
        "colab": {
          "base_uri": "https://localhost:8080/",
          "height": 56
        },
        "outputId": "0c7d09ad-ffec-4c5f-c3ab-36decca0b58f"
      },
      "source": [
        "\n",
        "a = eval(input(\"請輸入：\"))\n",
        "a\n",
        "\n",
        "b=a+1\n",
        "b\n"
      ],
      "execution_count": 27,
      "outputs": [
        {
          "output_type": "stream",
          "text": [
            "請輸入：44\n"
          ],
          "name": "stdout"
        },
        {
          "output_type": "execute_result",
          "data": {
            "text/plain": [
              "45"
            ]
          },
          "metadata": {
            "tags": []
          },
          "execution_count": 27
        }
      ]
    },
    {
      "cell_type": "markdown",
      "metadata": {
        "id": "A_tkco6eckUA",
        "colab_type": "text"
      },
      "source": [
        "#### 超級重要:一次輸入多（兩）個資料"
      ]
    },
    {
      "cell_type": "code",
      "metadata": {
        "id": "QC6kbxxEci_p",
        "colab_type": "code",
        "colab": {
          "base_uri": "https://localhost:8080/",
          "height": 56
        },
        "outputId": "b0250708-06a3-45b7-ba7e-b98053dd20cc"
      },
      "source": [
        "\n",
        "a,b = eval(input(\"請輸入兩個數位：\"))\n",
        "a,b\n"
      ],
      "execution_count": 28,
      "outputs": [
        {
          "output_type": "stream",
          "text": [
            "請輸入兩個數位：5,6\n"
          ],
          "name": "stdout"
        },
        {
          "output_type": "execute_result",
          "data": {
            "text/plain": [
              "(5, 6)"
            ]
          },
          "metadata": {
            "tags": []
          },
          "execution_count": 28
        }
      ]
    },
    {
      "cell_type": "markdown",
      "metadata": {
        "id": "3BfBTP2Lb8bx",
        "colab_type": "text"
      },
      "source": [
        "\n",
        "\n",
        "### 高階技巧:[初學可略過]\n"
      ]
    },
    {
      "cell_type": "code",
      "metadata": {
        "id": "i9yVIDk4crob",
        "colab_type": "code",
        "colab": {
          "base_uri": "https://localhost:8080/",
          "height": 450
        },
        "outputId": "73fdae11-8aa4-494a-ef70-37b4f61e933d"
      },
      "source": [
        "x, y, z = [int(x) for x in input(\"Enter three value: \").split()] \n",
        "print(\"First Number is: \", x) \n",
        "print(\"Second Number is: \", y) \n",
        "print(\"Third Number is: \", z) \n",
        "print()\n",
        " \n",
        "x, y, z = [int(x) for x in input(\"Enter three value: \").split(\",\")] \n",
        "print(\"First Number is: \", x) \n",
        "print(\"Second Number is: \", y) \n",
        "print(\"Third Number is: \", z) \n",
        "print()\n",
        " \n",
        "a, b = input(\"Enter a two value: \").split() \n",
        "print(\"First number is {} and second number is {}\".format(a, b)) \n",
        "print()"
      ],
      "execution_count": 29,
      "outputs": [
        {
          "output_type": "stream",
          "text": [
            "Enter three value: 2,3,4\n"
          ],
          "name": "stdout"
        },
        {
          "output_type": "error",
          "ename": "ValueError",
          "evalue": "ignored",
          "traceback": [
            "\u001b[0;31m---------------------------------------------------------------------------\u001b[0m",
            "\u001b[0;31mValueError\u001b[0m                                Traceback (most recent call last)",
            "\u001b[0;32m<ipython-input-29-78cb5753efc2>\u001b[0m in \u001b[0;36m<module>\u001b[0;34m()\u001b[0m\n\u001b[0;32m----> 1\u001b[0;31m \u001b[0mx\u001b[0m\u001b[0;34m,\u001b[0m \u001b[0my\u001b[0m\u001b[0;34m,\u001b[0m \u001b[0mz\u001b[0m \u001b[0;34m=\u001b[0m \u001b[0;34m[\u001b[0m\u001b[0mint\u001b[0m\u001b[0;34m(\u001b[0m\u001b[0mx\u001b[0m\u001b[0;34m)\u001b[0m \u001b[0;32mfor\u001b[0m \u001b[0mx\u001b[0m \u001b[0;32min\u001b[0m \u001b[0minput\u001b[0m\u001b[0;34m(\u001b[0m\u001b[0;34m\"Enter three value: \"\u001b[0m\u001b[0;34m)\u001b[0m\u001b[0;34m.\u001b[0m\u001b[0msplit\u001b[0m\u001b[0;34m(\u001b[0m\u001b[0;34m)\u001b[0m\u001b[0;34m]\u001b[0m\u001b[0;34m\u001b[0m\u001b[0;34m\u001b[0m\u001b[0m\n\u001b[0m\u001b[1;32m      2\u001b[0m \u001b[0mprint\u001b[0m\u001b[0;34m(\u001b[0m\u001b[0;34m\"First Number is: \"\u001b[0m\u001b[0;34m,\u001b[0m \u001b[0mx\u001b[0m\u001b[0;34m)\u001b[0m\u001b[0;34m\u001b[0m\u001b[0;34m\u001b[0m\u001b[0m\n\u001b[1;32m      3\u001b[0m \u001b[0mprint\u001b[0m\u001b[0;34m(\u001b[0m\u001b[0;34m\"Second Number is: \"\u001b[0m\u001b[0;34m,\u001b[0m \u001b[0my\u001b[0m\u001b[0;34m)\u001b[0m\u001b[0;34m\u001b[0m\u001b[0;34m\u001b[0m\u001b[0m\n\u001b[1;32m      4\u001b[0m \u001b[0mprint\u001b[0m\u001b[0;34m(\u001b[0m\u001b[0;34m\"Third Number is: \"\u001b[0m\u001b[0;34m,\u001b[0m \u001b[0mz\u001b[0m\u001b[0;34m)\u001b[0m\u001b[0;34m\u001b[0m\u001b[0;34m\u001b[0m\u001b[0m\n\u001b[1;32m      5\u001b[0m \u001b[0mprint\u001b[0m\u001b[0;34m(\u001b[0m\u001b[0;34m)\u001b[0m\u001b[0;34m\u001b[0m\u001b[0;34m\u001b[0m\u001b[0m\n",
            "\u001b[0;32m<ipython-input-29-78cb5753efc2>\u001b[0m in \u001b[0;36m<listcomp>\u001b[0;34m(.0)\u001b[0m\n\u001b[0;32m----> 1\u001b[0;31m \u001b[0mx\u001b[0m\u001b[0;34m,\u001b[0m \u001b[0my\u001b[0m\u001b[0;34m,\u001b[0m \u001b[0mz\u001b[0m \u001b[0;34m=\u001b[0m \u001b[0;34m[\u001b[0m\u001b[0mint\u001b[0m\u001b[0;34m(\u001b[0m\u001b[0mx\u001b[0m\u001b[0;34m)\u001b[0m \u001b[0;32mfor\u001b[0m \u001b[0mx\u001b[0m \u001b[0;32min\u001b[0m \u001b[0minput\u001b[0m\u001b[0;34m(\u001b[0m\u001b[0;34m\"Enter three value: \"\u001b[0m\u001b[0;34m)\u001b[0m\u001b[0;34m.\u001b[0m\u001b[0msplit\u001b[0m\u001b[0;34m(\u001b[0m\u001b[0;34m)\u001b[0m\u001b[0;34m]\u001b[0m\u001b[0;34m\u001b[0m\u001b[0;34m\u001b[0m\u001b[0m\n\u001b[0m\u001b[1;32m      2\u001b[0m \u001b[0mprint\u001b[0m\u001b[0;34m(\u001b[0m\u001b[0;34m\"First Number is: \"\u001b[0m\u001b[0;34m,\u001b[0m \u001b[0mx\u001b[0m\u001b[0;34m)\u001b[0m\u001b[0;34m\u001b[0m\u001b[0;34m\u001b[0m\u001b[0m\n\u001b[1;32m      3\u001b[0m \u001b[0mprint\u001b[0m\u001b[0;34m(\u001b[0m\u001b[0;34m\"Second Number is: \"\u001b[0m\u001b[0;34m,\u001b[0m \u001b[0my\u001b[0m\u001b[0;34m)\u001b[0m\u001b[0;34m\u001b[0m\u001b[0;34m\u001b[0m\u001b[0m\n\u001b[1;32m      4\u001b[0m \u001b[0mprint\u001b[0m\u001b[0;34m(\u001b[0m\u001b[0;34m\"Third Number is: \"\u001b[0m\u001b[0;34m,\u001b[0m \u001b[0mz\u001b[0m\u001b[0;34m)\u001b[0m\u001b[0;34m\u001b[0m\u001b[0;34m\u001b[0m\u001b[0m\n\u001b[1;32m      5\u001b[0m \u001b[0mprint\u001b[0m\u001b[0;34m(\u001b[0m\u001b[0;34m)\u001b[0m\u001b[0;34m\u001b[0m\u001b[0;34m\u001b[0m\u001b[0m\n",
            "\u001b[0;31mValueError\u001b[0m: invalid literal for int() with base 10: '2,3,4'"
          ]
        }
      ]
    }
  ]
}