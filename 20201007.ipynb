{
  "nbformat": 4,
  "nbformat_minor": 0,
  "metadata": {
    "colab": {
      "name": "20201007.ipynb",
      "provenance": [],
      "authorship_tag": "ABX9TyMw8ie13M7UuWbtqWXq8m1m",
      "include_colab_link": true
    },
    "kernelspec": {
      "name": "python3",
      "display_name": "Python 3"
    }
  },
  "cells": [
    {
      "cell_type": "markdown",
      "metadata": {
        "id": "view-in-github",
        "colab_type": "text"
      },
      "source": [
        "<a href=\"https://colab.research.google.com/github/Rainbowpen/AI_and_security_2020/blob/master/20201007.ipynb\" target=\"_parent\"><img src=\"https://colab.research.google.com/assets/colab-badge.svg\" alt=\"Open In Colab\"/></a>"
      ]
    },
    {
      "cell_type": "markdown",
      "metadata": {
        "id": "ZsRovmLRJnX1"
      },
      "source": [
        "# np.random.uniform\n",
        "https://numpy.org/doc/stable/reference/random/generated/numpy.random.uniform.html"
      ]
    },
    {
      "cell_type": "code",
      "metadata": {
        "id": "_cqH5kHYEurR",
        "outputId": "98722d35-b2d8-42c7-b626-b07bc1399aab",
        "colab": {
          "base_uri": "https://localhost:8080/",
          "height": 56
        }
      },
      "source": [
        "import numpy as np\n",
        "a = np.random.uniform(0,1,10)\n",
        "print(a)\n",
        "\n",
        "#count, bins, ignored = plt.hist(s, 15, density=True)\n",
        "#plt.plot(bins, np.ones_like(bins), linewidth=2, color='r')\n",
        "#plt.show()"
      ],
      "execution_count": 17,
      "outputs": [
        {
          "output_type": "stream",
          "text": [
            "[0.1934092  0.85030733 0.55219158 0.16086252 0.90797692 0.42372643\n",
            " 0.28356491 0.53848697 0.30161453 0.7574276 ]\n"
          ],
          "name": "stdout"
        }
      ]
    },
    {
      "cell_type": "code",
      "metadata": {
        "id": "RNHKf6fQMWp5",
        "outputId": "4f218b9b-807e-4caa-cd8e-98abbb3b72d9",
        "colab": {
          "base_uri": "https://localhost:8080/",
          "height": 304
        }
      },
      "source": [
        "import matplotlib.pyplot as plt\n",
        "\n",
        "array_uniform = np.random.uniform(0,1,10) \n",
        "print(array_uniform)\n",
        "plt.plot(array_uniform, linewidth=2, color='b')\n",
        "plt.show()"
      ],
      "execution_count": 18,
      "outputs": [
        {
          "output_type": "stream",
          "text": [
            "[0.5009469  0.48720477 0.84378413 0.92073288 0.30578449 0.72207983\n",
            " 0.11035336 0.48820517 0.24507409 0.84274816]\n"
          ],
          "name": "stdout"
        },
        {
          "output_type": "display_data",
          "data": {
            "image/png": "[encoded data removed]",
            "text/plain": [
              "<Figure size 432x288 with 1 Axes>"
            ]
          },
          "metadata": {
            "tags": [],
            "needs_background": "light"
          }
        }
      ]
    },
    {
      "cell_type": "markdown",
      "metadata": {
        "id": "WwVXa-zZK_hw"
      },
      "source": [
        "# numpy.ndarray\n",
        "https://numpy.org/doc/stable/reference/generated/numpy.ndarray.html"
      ]
    },
    {
      "cell_type": "code",
      "metadata": {
        "id": "xYWC8MTj-1j7",
        "outputId": "f985f053-e429-4db0-e0d8-7b443994aac0",
        "colab": {
          "base_uri": "https://localhost:8080/",
          "height": 56
        }
      },
      "source": [
        "import numpy as np\n",
        "# Generate some random data\n",
        "data = np.random.randn(2, 3)\n",
        "data"
      ],
      "execution_count": 19,
      "outputs": [
        {
          "output_type": "execute_result",
          "data": {
            "text/plain": [
              "array([[-0.36114429, -0.14448784, -1.58356057],\n",
              "       [ 0.37193902, -0.64661673, -1.32793979]])"
            ]
          },
          "metadata": {
            "tags": []
          },
          "execution_count": 19
        }
      ]
    },
    {
      "cell_type": "code",
      "metadata": {
        "id": "ZgXGqnLULAtQ",
        "outputId": "4172f26f-8cd7-40d2-e18d-20e59fc93ea7",
        "colab": {
          "base_uri": "https://localhost:8080/",
          "height": 56
        }
      },
      "source": [
        "\n",
        "np.ndarray(shape=(2,2), dtype=float, order='F')"
      ],
      "execution_count": 20,
      "outputs": [
        {
          "output_type": "execute_result",
          "data": {
            "text/plain": [
              "array([[ 54.  , 388.8 ],\n",
              "       [ 36.  , 253.44]])"
            ]
          },
          "metadata": {
            "tags": []
          },
          "execution_count": 20
        }
      ]
    },
    {
      "cell_type": "code",
      "metadata": {
        "id": "0CKA3F5eLQ8o",
        "outputId": "9d3570f6-79ae-4114-8306-83ee57dd8686",
        "colab": {
          "base_uri": "https://localhost:8080/",
          "height": 36
        }
      },
      "source": [
        "np.ndarray((2,), buffer=np.array([1,2,3]),\n",
        "           offset=np.int_().itemsize,\n",
        "           dtype=int) # offset = 1*itemsize, i.e. skip first element"
      ],
      "execution_count": 21,
      "outputs": [
        {
          "output_type": "execute_result",
          "data": {
            "text/plain": [
              "array([2, 3])"
            ]
          },
          "metadata": {
            "tags": []
          },
          "execution_count": 21
        }
      ]
    },
    {
      "cell_type": "code",
      "metadata": {
        "id": "1tFodqjnLjia",
        "outputId": "8281a09c-0968-4b1f-b07a-b414ac9e0771",
        "colab": {
          "base_uri": "https://localhost:8080/",
          "height": 75
        }
      },
      "source": [
        "x = np.arange(9).reshape((3,3))\n",
        "x"
      ],
      "execution_count": 22,
      "outputs": [
        {
          "output_type": "execute_result",
          "data": {
            "text/plain": [
              "array([[0, 1, 2],\n",
              "       [3, 4, 5],\n",
              "       [6, 7, 8]])"
            ]
          },
          "metadata": {
            "tags": []
          },
          "execution_count": 22
        }
      ]
    },
    {
      "cell_type": "markdown",
      "metadata": {
        "id": "o9RBvjqx9iap"
      },
      "source": [
        "# np.zeros\n",
        "https://numpy.org/doc/stable/reference/generated/numpy.zeros.html"
      ]
    },
    {
      "cell_type": "code",
      "metadata": {
        "id": "LaxmDoZf9qTK",
        "outputId": "1c70c1bf-7a11-4a5f-cb72-f481e3cb9535",
        "colab": {
          "base_uri": "https://localhost:8080/",
          "height": 36
        }
      },
      "source": [
        "np.zeros(10)"
      ],
      "execution_count": 23,
      "outputs": [
        {
          "output_type": "execute_result",
          "data": {
            "text/plain": [
              "array([0., 0., 0., 0., 0., 0., 0., 0., 0., 0.])"
            ]
          },
          "metadata": {
            "tags": []
          },
          "execution_count": 23
        }
      ]
    },
    {
      "cell_type": "markdown",
      "metadata": {
        "id": "0TS0-a3f9vIF"
      },
      "source": [
        "# np.ones\n",
        "https://numpy.org/doc/stable/reference/generated/numpy.ones.html"
      ]
    },
    {
      "cell_type": "code",
      "metadata": {
        "id": "wSIkDw2M9suc",
        "outputId": "87642d6a-d69b-4794-d3a5-01d7216dbc98",
        "colab": {
          "base_uri": "https://localhost:8080/",
          "height": 36
        }
      },
      "source": [
        "np.ones(10)\n",
        "np.ones(10) * (10)"
      ],
      "execution_count": 24,
      "outputs": [
        {
          "output_type": "execute_result",
          "data": {
            "text/plain": [
              "array([10., 10., 10., 10., 10., 10., 10., 10., 10., 10.])"
            ]
          },
          "metadata": {
            "tags": []
          },
          "execution_count": 24
        }
      ]
    },
    {
      "cell_type": "markdown",
      "metadata": {
        "id": "FSRNwZOoGXE7"
      },
      "source": [
        "# numpy.random.normal\n",
        "https://numpy.org/doc/stable/reference/random/generated/numpy.random.normal.html"
      ]
    },
    {
      "cell_type": "code",
      "metadata": {
        "id": "thkJDkoEDk6K",
        "outputId": "cf73ba15-96bd-41a3-d293-5743e069de39",
        "colab": {
          "base_uri": "https://localhost:8080/",
          "height": 265
        }
      },
      "source": [
        "import numpy as np\n",
        "import matplotlib.pyplot as plt\n",
        "\n",
        "mu, sigma = 0, 0.1 # mean and standard deviation\n",
        "s = np.random.normal(mu, sigma, 10000)\n",
        "\n",
        "abs(mu - np.mean(s))\n",
        "\n",
        "count, bins, ignored = plt.hist(s, 30, density=True)\n",
        "plt.plot(bins, 1/(sigma * np.sqrt(2 * np.pi)) *np.exp( - (bins - mu)**2 / (2 * sigma**2) ),\n",
        "         linewidth=2, color='r')\n",
        "plt.show()"
      ],
      "execution_count": 25,
      "outputs": [
        {
          "output_type": "display_data",
          "data": {
            "image/png": "[encoded data removed]",
            "text/plain": [
              "<Figure size 432x288 with 1 Axes>"
            ]
          },
          "metadata": {
            "tags": [],
            "needs_background": "light"
          }
        }
      ]
    },
    {
      "cell_type": "markdown",
      "metadata": {
        "id": "0v7hgMplLiRu"
      },
      "source": [
        "# numpy.diag\n",
        "https://numpy.org/doc/stable/reference/generated/numpy.diag.html"
      ]
    },
    {
      "cell_type": "code",
      "metadata": {
        "id": "utMDONDTLwRK",
        "outputId": "888e9971-5dad-4c88-86b5-8cba0bee6554",
        "colab": {
          "base_uri": "https://localhost:8080/",
          "height": 75
        }
      },
      "source": [
        "array10 = np.diag((1,1,1))\n",
        "array10"
      ],
      "execution_count": 26,
      "outputs": [
        {
          "output_type": "execute_result",
          "data": {
            "text/plain": [
              "array([[1, 0, 0],\n",
              "       [0, 1, 0],\n",
              "       [0, 0, 1]])"
            ]
          },
          "metadata": {
            "tags": []
          },
          "execution_count": 26
        }
      ]
    }
  ]
}