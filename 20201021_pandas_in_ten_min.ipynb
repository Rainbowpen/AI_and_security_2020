{
  "nbformat": 4,
  "nbformat_minor": 0,
  "metadata": {
    "colab": {
      "name": "20201021_pandas_in_ten_min.ipynb",
      "provenance": [],
      "authorship_tag": "ABX9TyMMci8F6wCkqcnLDRZuS3Sl",
      "include_colab_link": true
    },
    "kernelspec": {
      "name": "python3",
      "display_name": "Python 3"
    }
  },
  "cells": [
    {
      "cell_type": "markdown",
      "metadata": {
        "id": "view-in-github",
        "colab_type": "text"
      },
      "source": [
        "<a href=\"https://colab.research.google.com/github/Rainbowpen/AI_and_security_2020/blob/master/20201021_pandas_in_ten_min.ipynb\" target=\"_parent\"><img src=\"https://colab.research.google.com/assets/colab-badge.svg\" alt=\"Open In Colab\"/></a>"
      ]
    },
    {
      "cell_type": "markdown",
      "metadata": {
        "id": "GtpEHaFxHv5M"
      },
      "source": [
        "# pandas in ten min notes 10/ 21/ 2020\n",
        "[10 minutes to pandas](https://pandas.pydata.org/pandas-docs/stable/user_guide/10min.html#minutes-to-pandas)\n",
        "\n",
        "\n"
      ]
    },
    {
      "cell_type": "markdown",
      "metadata": {
        "id": "2m4hoOnGOrc5"
      },
      "source": [
        "### import all we need."
      ]
    },
    {
      "cell_type": "code",
      "metadata": {
        "id": "sOnb166A1Lqb"
      },
      "source": [
        "import pandas as pd\n",
        "import numpy as np"
      ],
      "execution_count": 62,
      "outputs": []
    },
    {
      "cell_type": "markdown",
      "metadata": {
        "id": "RRC0pKEINvs1"
      },
      "source": [
        "### Object creation"
      ]
    },
    {
      "cell_type": "markdown",
      "metadata": {
        "id": "lH_lR4i4G9B1"
      },
      "source": [
        "Creating a Series by passing a list of values, letting pandas create a default integer index:"
      ]
    },
    {
      "cell_type": "code",
      "metadata": {
        "id": "GDfZt70k1kD3",
        "outputId": "b70f020d-493d-4c01-ee2e-a371c2a68a29",
        "colab": {
          "base_uri": "https://localhost:8080/",
          "height": 136
        }
      },
      "source": [
        "s = pd.Series([1, 3, 5, np.nan, 6, 8])\n",
        "s"
      ],
      "execution_count": 63,
      "outputs": [
        {
          "output_type": "execute_result",
          "data": {
            "text/plain": [
              "0    1.0\n",
              "1    3.0\n",
              "2    5.0\n",
              "3    NaN\n",
              "4    6.0\n",
              "5    8.0\n",
              "dtype: float64"
            ]
          },
          "metadata": {
            "tags": []
          },
          "execution_count": 63
        }
      ]
    },
    {
      "cell_type": "markdown",
      "metadata": {
        "id": "QckdfDjaGo3L"
      },
      "source": [
        "Creating a DataFrame by passing a NumPy array, with a datetime index and labeled columns:\n",
        "\n",
        "pd.date_range(\"date_index1_format_in_yyyymmdd\", index_size)"
      ]
    },
    {
      "cell_type": "code",
      "metadata": {
        "id": "fTOOpzmP1zRm",
        "outputId": "081a86e9-39af-4768-d707-d49f62764e7a",
        "colab": {
          "base_uri": "https://localhost:8080/",
          "height": 68
        }
      },
      "source": [
        "dates = pd.date_range('20201021', periods=6)\n",
        "dates"
      ],
      "execution_count": 64,
      "outputs": [
        {
          "output_type": "execute_result",
          "data": {
            "text/plain": [
              "DatetimeIndex(['2020-10-21', '2020-10-22', '2020-10-23', '2020-10-24',\n",
              "               '2020-10-25', '2020-10-26'],\n",
              "              dtype='datetime64[ns]', freq='D')"
            ]
          },
          "metadata": {
            "tags": []
          },
          "execution_count": 64
        }
      ]
    },
    {
      "cell_type": "code",
      "metadata": {
        "id": "dz0BaajU1_U3",
        "outputId": "6a9bf95a-5ddc-46e8-8074-74809c6201e0",
        "colab": {
          "base_uri": "https://localhost:8080/",
          "height": 235
        }
      },
      "source": [
        "df = pd.DataFrame(np.random.randn(6, 4), index=dates, columns=list('ABCD'))\n",
        "df"
      ],
      "execution_count": 65,
      "outputs": [
        {
          "output_type": "execute_result",
          "data": {
            "text/html": [
              "<div>\n",
              "<style scoped>\n",
              "    .dataframe tbody tr th:only-of-type {\n",
              "        vertical-align: middle;\n",
              "    }\n",
              "\n",
              "    .dataframe tbody tr th {\n",
              "        vertical-align: top;\n",
              "    }\n",
              "\n",
              "    .dataframe thead th {\n",
              "        text-align: right;\n",
              "    }\n",
              "</style>\n",
              "<table border=\"1\" class=\"dataframe\">\n",
              "  <thead>\n",
              "    <tr style=\"text-align: right;\">\n",
              "      <th></th>\n",
              "      <th>A</th>\n",
              "      <th>B</th>\n",
              "      <th>C</th>\n",
              "      <th>D</th>\n",
              "    </tr>\n",
              "  </thead>\n",
              "  <tbody>\n",
              "    <tr>\n",
              "      <th>2020-10-21</th>\n",
              "      <td>0.101432</td>\n",
              "      <td>0.204162</td>\n",
              "      <td>-0.969108</td>\n",
              "      <td>1.123149</td>\n",
              "    </tr>\n",
              "    <tr>\n",
              "      <th>2020-10-22</th>\n",
              "      <td>-0.046813</td>\n",
              "      <td>0.618827</td>\n",
              "      <td>-0.214207</td>\n",
              "      <td>0.841476</td>\n",
              "    </tr>\n",
              "    <tr>\n",
              "      <th>2020-10-23</th>\n",
              "      <td>0.619177</td>\n",
              "      <td>-2.047334</td>\n",
              "      <td>-0.052190</td>\n",
              "      <td>2.604018</td>\n",
              "    </tr>\n",
              "    <tr>\n",
              "      <th>2020-10-24</th>\n",
              "      <td>0.417396</td>\n",
              "      <td>0.461080</td>\n",
              "      <td>-2.584827</td>\n",
              "      <td>0.096725</td>\n",
              "    </tr>\n",
              "    <tr>\n",
              "      <th>2020-10-25</th>\n",
              "      <td>-0.119892</td>\n",
              "      <td>1.469900</td>\n",
              "      <td>-1.928688</td>\n",
              "      <td>0.738520</td>\n",
              "    </tr>\n",
              "    <tr>\n",
              "      <th>2020-10-26</th>\n",
              "      <td>-0.560210</td>\n",
              "      <td>1.062971</td>\n",
              "      <td>0.700149</td>\n",
              "      <td>-2.138059</td>\n",
              "    </tr>\n",
              "  </tbody>\n",
              "</table>\n",
              "</div>"
            ],
            "text/plain": [
              "                   A         B         C         D\n",
              "2020-10-21  0.101432  0.204162 -0.969108  1.123149\n",
              "2020-10-22 -0.046813  0.618827 -0.214207  0.841476\n",
              "2020-10-23  0.619177 -2.047334 -0.052190  2.604018\n",
              "2020-10-24  0.417396  0.461080 -2.584827  0.096725\n",
              "2020-10-25 -0.119892  1.469900 -1.928688  0.738520\n",
              "2020-10-26 -0.560210  1.062971  0.700149 -2.138059"
            ]
          },
          "metadata": {
            "tags": []
          },
          "execution_count": 65
        }
      ]
    },
    {
      "cell_type": "code",
      "metadata": {
        "id": "rYCi7fFa3hxW",
        "outputId": "0aa4ecd9-7c3c-48b1-8032-a64f38a9dee0",
        "colab": {
          "base_uri": "https://localhost:8080/",
          "height": 173
        }
      },
      "source": [
        " df2 = pd.DataFrame({'A': 1.,\n",
        "            'B': pd.Timestamp('20201021'),\n",
        "            'C': pd.Series(1, index=list(range(4)), dtype='float32'),\n",
        "            'D': np.array([3] * 4, dtype='int32'),\n",
        "            'E': pd.Categorical([\"test\", \"train\", \"test\", \"train\"]),\n",
        "            'F': 'foo'})\n",
        "df2\n"
      ],
      "execution_count": 66,
      "outputs": [
        {
          "output_type": "execute_result",
          "data": {
            "text/html": [
              "<div>\n",
              "<style scoped>\n",
              "    .dataframe tbody tr th:only-of-type {\n",
              "        vertical-align: middle;\n",
              "    }\n",
              "\n",
              "    .dataframe tbody tr th {\n",
              "        vertical-align: top;\n",
              "    }\n",
              "\n",
              "    .dataframe thead th {\n",
              "        text-align: right;\n",
              "    }\n",
              "</style>\n",
              "<table border=\"1\" class=\"dataframe\">\n",
              "  <thead>\n",
              "    <tr style=\"text-align: right;\">\n",
              "      <th></th>\n",
              "      <th>A</th>\n",
              "      <th>B</th>\n",
              "      <th>C</th>\n",
              "      <th>D</th>\n",
              "      <th>E</th>\n",
              "      <th>F</th>\n",
              "    </tr>\n",
              "  </thead>\n",
              "  <tbody>\n",
              "    <tr>\n",
              "      <th>0</th>\n",
              "      <td>1.0</td>\n",
              "      <td>2020-10-21</td>\n",
              "      <td>1.0</td>\n",
              "      <td>3</td>\n",
              "      <td>test</td>\n",
              "      <td>foo</td>\n",
              "    </tr>\n",
              "    <tr>\n",
              "      <th>1</th>\n",
              "      <td>1.0</td>\n",
              "      <td>2020-10-21</td>\n",
              "      <td>1.0</td>\n",
              "      <td>3</td>\n",
              "      <td>train</td>\n",
              "      <td>foo</td>\n",
              "    </tr>\n",
              "    <tr>\n",
              "      <th>2</th>\n",
              "      <td>1.0</td>\n",
              "      <td>2020-10-21</td>\n",
              "      <td>1.0</td>\n",
              "      <td>3</td>\n",
              "      <td>test</td>\n",
              "      <td>foo</td>\n",
              "    </tr>\n",
              "    <tr>\n",
              "      <th>3</th>\n",
              "      <td>1.0</td>\n",
              "      <td>2020-10-21</td>\n",
              "      <td>1.0</td>\n",
              "      <td>3</td>\n",
              "      <td>train</td>\n",
              "      <td>foo</td>\n",
              "    </tr>\n",
              "  </tbody>\n",
              "</table>\n",
              "</div>"
            ],
            "text/plain": [
              "     A          B    C  D      E    F\n",
              "0  1.0 2020-10-21  1.0  3   test  foo\n",
              "1  1.0 2020-10-21  1.0  3  train  foo\n",
              "2  1.0 2020-10-21  1.0  3   test  foo\n",
              "3  1.0 2020-10-21  1.0  3  train  foo"
            ]
          },
          "metadata": {
            "tags": []
          },
          "execution_count": 66
        }
      ]
    },
    {
      "cell_type": "markdown",
      "metadata": {
        "id": "t3YRXMejGbeO"
      },
      "source": [
        "pd.dtypes\n",
        "display types with columns"
      ]
    },
    {
      "cell_type": "code",
      "metadata": {
        "id": "dmekYYr3DfpF",
        "outputId": "74d14273-597f-4206-d5a3-27791daec36a",
        "colab": {
          "base_uri": "https://localhost:8080/",
          "height": 136
        }
      },
      "source": [
        "df2.dtypes"
      ],
      "execution_count": 67,
      "outputs": [
        {
          "output_type": "execute_result",
          "data": {
            "text/plain": [
              "A           float64\n",
              "B    datetime64[ns]\n",
              "C           float32\n",
              "D             int32\n",
              "E          category\n",
              "F            object\n",
              "dtype: object"
            ]
          },
          "metadata": {
            "tags": []
          },
          "execution_count": 67
        }
      ]
    },
    {
      "cell_type": "markdown",
      "metadata": {
        "id": "Jy-tLSUsNBw4"
      },
      "source": [
        "### Viewing data"
      ]
    },
    {
      "cell_type": "markdown",
      "metadata": {
        "id": "XeRGLAL3GWs7"
      },
      "source": [
        "Here is how to view the top and bottom rows of the frame:\n",
        "\n",
        "pd.head(index_from_head)"
      ]
    },
    {
      "cell_type": "code",
      "metadata": {
        "id": "GnpBuvPzD4SB",
        "outputId": "e91ea301-28f2-403e-b75c-d64ebd89ca0d",
        "colab": {
          "base_uri": "https://localhost:8080/",
          "height": 111
        }
      },
      "source": [
        "df2.head(2)"
      ],
      "execution_count": 68,
      "outputs": [
        {
          "output_type": "execute_result",
          "data": {
            "text/html": [
              "<div>\n",
              "<style scoped>\n",
              "    .dataframe tbody tr th:only-of-type {\n",
              "        vertical-align: middle;\n",
              "    }\n",
              "\n",
              "    .dataframe tbody tr th {\n",
              "        vertical-align: top;\n",
              "    }\n",
              "\n",
              "    .dataframe thead th {\n",
              "        text-align: right;\n",
              "    }\n",
              "</style>\n",
              "<table border=\"1\" class=\"dataframe\">\n",
              "  <thead>\n",
              "    <tr style=\"text-align: right;\">\n",
              "      <th></th>\n",
              "      <th>A</th>\n",
              "      <th>B</th>\n",
              "      <th>C</th>\n",
              "      <th>D</th>\n",
              "      <th>E</th>\n",
              "      <th>F</th>\n",
              "    </tr>\n",
              "  </thead>\n",
              "  <tbody>\n",
              "    <tr>\n",
              "      <th>0</th>\n",
              "      <td>1.0</td>\n",
              "      <td>2020-10-21</td>\n",
              "      <td>1.0</td>\n",
              "      <td>3</td>\n",
              "      <td>test</td>\n",
              "      <td>foo</td>\n",
              "    </tr>\n",
              "    <tr>\n",
              "      <th>1</th>\n",
              "      <td>1.0</td>\n",
              "      <td>2020-10-21</td>\n",
              "      <td>1.0</td>\n",
              "      <td>3</td>\n",
              "      <td>train</td>\n",
              "      <td>foo</td>\n",
              "    </tr>\n",
              "  </tbody>\n",
              "</table>\n",
              "</div>"
            ],
            "text/plain": [
              "     A          B    C  D      E    F\n",
              "0  1.0 2020-10-21  1.0  3   test  foo\n",
              "1  1.0 2020-10-21  1.0  3  train  foo"
            ]
          },
          "metadata": {
            "tags": []
          },
          "execution_count": 68
        }
      ]
    },
    {
      "cell_type": "markdown",
      "metadata": {
        "id": "TYW1zd1yFx-a"
      },
      "source": [
        "pd.tail(index_from_tail)"
      ]
    },
    {
      "cell_type": "code",
      "metadata": {
        "id": "XMWgZGvkD7mm",
        "outputId": "43e25d1c-a773-443f-921c-4950212a95a1",
        "colab": {
          "base_uri": "https://localhost:8080/",
          "height": 111
        }
      },
      "source": [
        "df2.tail(2)"
      ],
      "execution_count": 69,
      "outputs": [
        {
          "output_type": "execute_result",
          "data": {
            "text/html": [
              "<div>\n",
              "<style scoped>\n",
              "    .dataframe tbody tr th:only-of-type {\n",
              "        vertical-align: middle;\n",
              "    }\n",
              "\n",
              "    .dataframe tbody tr th {\n",
              "        vertical-align: top;\n",
              "    }\n",
              "\n",
              "    .dataframe thead th {\n",
              "        text-align: right;\n",
              "    }\n",
              "</style>\n",
              "<table border=\"1\" class=\"dataframe\">\n",
              "  <thead>\n",
              "    <tr style=\"text-align: right;\">\n",
              "      <th></th>\n",
              "      <th>A</th>\n",
              "      <th>B</th>\n",
              "      <th>C</th>\n",
              "      <th>D</th>\n",
              "      <th>E</th>\n",
              "      <th>F</th>\n",
              "    </tr>\n",
              "  </thead>\n",
              "  <tbody>\n",
              "    <tr>\n",
              "      <th>2</th>\n",
              "      <td>1.0</td>\n",
              "      <td>2020-10-21</td>\n",
              "      <td>1.0</td>\n",
              "      <td>3</td>\n",
              "      <td>test</td>\n",
              "      <td>foo</td>\n",
              "    </tr>\n",
              "    <tr>\n",
              "      <th>3</th>\n",
              "      <td>1.0</td>\n",
              "      <td>2020-10-21</td>\n",
              "      <td>1.0</td>\n",
              "      <td>3</td>\n",
              "      <td>train</td>\n",
              "      <td>foo</td>\n",
              "    </tr>\n",
              "  </tbody>\n",
              "</table>\n",
              "</div>"
            ],
            "text/plain": [
              "     A          B    C  D      E    F\n",
              "2  1.0 2020-10-21  1.0  3   test  foo\n",
              "3  1.0 2020-10-21  1.0  3  train  foo"
            ]
          },
          "metadata": {
            "tags": []
          },
          "execution_count": 69
        }
      ]
    },
    {
      "cell_type": "markdown",
      "metadata": {
        "id": "FkTR5bzhNU95"
      },
      "source": [
        "Display the index, columns:"
      ]
    },
    {
      "cell_type": "markdown",
      "metadata": {
        "id": "zkTLiv08FvqZ"
      },
      "source": [
        "pd.index"
      ]
    },
    {
      "cell_type": "code",
      "metadata": {
        "id": "qNvPJxqbEIiV",
        "outputId": "b7d5b1c2-3721-48d1-d99d-bf4b20e256b7",
        "colab": {
          "base_uri": "https://localhost:8080/",
          "height": 34
        }
      },
      "source": [
        "df2.index"
      ],
      "execution_count": 70,
      "outputs": [
        {
          "output_type": "execute_result",
          "data": {
            "text/plain": [
              "Int64Index([0, 1, 2, 3], dtype='int64')"
            ]
          },
          "metadata": {
            "tags": []
          },
          "execution_count": 70
        }
      ]
    },
    {
      "cell_type": "markdown",
      "metadata": {
        "id": "Dpv3DhopFkTI"
      },
      "source": [
        "pd.columns"
      ]
    },
    {
      "cell_type": "code",
      "metadata": {
        "id": "kQIRl7NxESt_",
        "outputId": "e6279302-1c55-46ed-ad41-79e970be9b90",
        "colab": {
          "base_uri": "https://localhost:8080/",
          "height": 34
        }
      },
      "source": [
        "df2.columns"
      ],
      "execution_count": 71,
      "outputs": [
        {
          "output_type": "execute_result",
          "data": {
            "text/plain": [
              "Index(['A', 'B', 'C', 'D', 'E', 'F'], dtype='object')"
            ]
          },
          "metadata": {
            "tags": []
          },
          "execution_count": 71
        }
      ]
    },
    {
      "cell_type": "markdown",
      "metadata": {
        "id": "cGLN40NXFdMu"
      },
      "source": [
        "pd.to_numpy()"
      ]
    },
    {
      "cell_type": "code",
      "metadata": {
        "id": "WU97fNGoEe7_",
        "outputId": "02f93abf-b1d9-4efd-9067-4d26e8837e17",
        "colab": {
          "base_uri": "https://localhost:8080/",
          "height": 119
        }
      },
      "source": [
        "df.to_numpy()\n",
        "\n"
      ],
      "execution_count": 72,
      "outputs": [
        {
          "output_type": "execute_result",
          "data": {
            "text/plain": [
              "array([[ 0.10143218,  0.20416171, -0.9691082 ,  1.12314852],\n",
              "       [-0.0468132 ,  0.61882696, -0.21420692,  0.84147605],\n",
              "       [ 0.61917663, -2.04733398, -0.05219034,  2.60401754],\n",
              "       [ 0.41739601,  0.46107965, -2.58482721,  0.09672486],\n",
              "       [-0.11989232,  1.46989985, -1.92868831,  0.73852026],\n",
              "       [-0.56020993,  1.06297139,  0.70014876, -2.1380588 ]])"
            ]
          },
          "metadata": {
            "tags": []
          },
          "execution_count": 72
        }
      ]
    },
    {
      "cell_type": "code",
      "metadata": {
        "id": "LiGp5J2hEjzh",
        "outputId": "55ff1bca-4e22-4d92-dba0-4b07f1597f30",
        "colab": {
          "base_uri": "https://localhost:8080/",
          "height": 102
        }
      },
      "source": [
        "df2.to_numpy()"
      ],
      "execution_count": 73,
      "outputs": [
        {
          "output_type": "execute_result",
          "data": {
            "text/plain": [
              "array([[1.0, Timestamp('2020-10-21 00:00:00'), 1.0, 3, 'test', 'foo'],\n",
              "       [1.0, Timestamp('2020-10-21 00:00:00'), 1.0, 3, 'train', 'foo'],\n",
              "       [1.0, Timestamp('2020-10-21 00:00:00'), 1.0, 3, 'test', 'foo'],\n",
              "       [1.0, Timestamp('2020-10-21 00:00:00'), 1.0, 3, 'train', 'foo']],\n",
              "      dtype=object)"
            ]
          },
          "metadata": {
            "tags": []
          },
          "execution_count": 73
        }
      ]
    },
    {
      "cell_type": "markdown",
      "metadata": {
        "id": "ebpijZ2jFYiB"
      },
      "source": [
        "describe() shows a quick statistic summary of your data:"
      ]
    },
    {
      "cell_type": "code",
      "metadata": {
        "id": "fkNCPuwjEo5u",
        "outputId": "ee9549b6-9a5b-4f74-df67-7d0fe56a8720",
        "colab": {
          "base_uri": "https://localhost:8080/",
          "height": 297
        }
      },
      "source": [
        "df.describe()"
      ],
      "execution_count": 74,
      "outputs": [
        {
          "output_type": "execute_result",
          "data": {
            "text/html": [
              "<div>\n",
              "<style scoped>\n",
              "    .dataframe tbody tr th:only-of-type {\n",
              "        vertical-align: middle;\n",
              "    }\n",
              "\n",
              "    .dataframe tbody tr th {\n",
              "        vertical-align: top;\n",
              "    }\n",
              "\n",
              "    .dataframe thead th {\n",
              "        text-align: right;\n",
              "    }\n",
              "</style>\n",
              "<table border=\"1\" class=\"dataframe\">\n",
              "  <thead>\n",
              "    <tr style=\"text-align: right;\">\n",
              "      <th></th>\n",
              "      <th>A</th>\n",
              "      <th>B</th>\n",
              "      <th>C</th>\n",
              "      <th>D</th>\n",
              "    </tr>\n",
              "  </thead>\n",
              "  <tbody>\n",
              "    <tr>\n",
              "      <th>count</th>\n",
              "      <td>6.000000</td>\n",
              "      <td>6.000000</td>\n",
              "      <td>6.000000</td>\n",
              "      <td>6.000000</td>\n",
              "    </tr>\n",
              "    <tr>\n",
              "      <th>mean</th>\n",
              "      <td>0.068515</td>\n",
              "      <td>0.294934</td>\n",
              "      <td>-0.841479</td>\n",
              "      <td>0.544305</td>\n",
              "    </tr>\n",
              "    <tr>\n",
              "      <th>std</th>\n",
              "      <td>0.417162</td>\n",
              "      <td>1.232672</td>\n",
              "      <td>1.235365</td>\n",
              "      <td>1.555565</td>\n",
              "    </tr>\n",
              "    <tr>\n",
              "      <th>min</th>\n",
              "      <td>-0.560210</td>\n",
              "      <td>-2.047334</td>\n",
              "      <td>-2.584827</td>\n",
              "      <td>-2.138059</td>\n",
              "    </tr>\n",
              "    <tr>\n",
              "      <th>25%</th>\n",
              "      <td>-0.101623</td>\n",
              "      <td>0.268391</td>\n",
              "      <td>-1.688793</td>\n",
              "      <td>0.257174</td>\n",
              "    </tr>\n",
              "    <tr>\n",
              "      <th>50%</th>\n",
              "      <td>0.027309</td>\n",
              "      <td>0.539953</td>\n",
              "      <td>-0.591658</td>\n",
              "      <td>0.789998</td>\n",
              "    </tr>\n",
              "    <tr>\n",
              "      <th>75%</th>\n",
              "      <td>0.338405</td>\n",
              "      <td>0.951935</td>\n",
              "      <td>-0.092694</td>\n",
              "      <td>1.052730</td>\n",
              "    </tr>\n",
              "    <tr>\n",
              "      <th>max</th>\n",
              "      <td>0.619177</td>\n",
              "      <td>1.469900</td>\n",
              "      <td>0.700149</td>\n",
              "      <td>2.604018</td>\n",
              "    </tr>\n",
              "  </tbody>\n",
              "</table>\n",
              "</div>"
            ],
            "text/plain": [
              "              A         B         C         D\n",
              "count  6.000000  6.000000  6.000000  6.000000\n",
              "mean   0.068515  0.294934 -0.841479  0.544305\n",
              "std    0.417162  1.232672  1.235365  1.555565\n",
              "min   -0.560210 -2.047334 -2.584827 -2.138059\n",
              "25%   -0.101623  0.268391 -1.688793  0.257174\n",
              "50%    0.027309  0.539953 -0.591658  0.789998\n",
              "75%    0.338405  0.951935 -0.092694  1.052730\n",
              "max    0.619177  1.469900  0.700149  2.604018"
            ]
          },
          "metadata": {
            "tags": []
          },
          "execution_count": 74
        }
      ]
    },
    {
      "cell_type": "markdown",
      "metadata": {
        "id": "Imfi6-UtIz6H"
      },
      "source": [
        "pd.sort_index(axis=\"0 or 1\", ascending=\"bool or list of bools, default True\")"
      ]
    },
    {
      "cell_type": "code",
      "metadata": {
        "id": "JUMAwTizIyfQ",
        "outputId": "3199fe30-ba27-4b36-e8fd-2c42211fd3dd",
        "colab": {
          "base_uri": "https://localhost:8080/",
          "height": 235
        }
      },
      "source": [
        "df.sort_index(axis=0, ascending=False)"
      ],
      "execution_count": 75,
      "outputs": [
        {
          "output_type": "execute_result",
          "data": {
            "text/html": [
              "<div>\n",
              "<style scoped>\n",
              "    .dataframe tbody tr th:only-of-type {\n",
              "        vertical-align: middle;\n",
              "    }\n",
              "\n",
              "    .dataframe tbody tr th {\n",
              "        vertical-align: top;\n",
              "    }\n",
              "\n",
              "    .dataframe thead th {\n",
              "        text-align: right;\n",
              "    }\n",
              "</style>\n",
              "<table border=\"1\" class=\"dataframe\">\n",
              "  <thead>\n",
              "    <tr style=\"text-align: right;\">\n",
              "      <th></th>\n",
              "      <th>A</th>\n",
              "      <th>B</th>\n",
              "      <th>C</th>\n",
              "      <th>D</th>\n",
              "    </tr>\n",
              "  </thead>\n",
              "  <tbody>\n",
              "    <tr>\n",
              "      <th>2020-10-26</th>\n",
              "      <td>-0.560210</td>\n",
              "      <td>1.062971</td>\n",
              "      <td>0.700149</td>\n",
              "      <td>-2.138059</td>\n",
              "    </tr>\n",
              "    <tr>\n",
              "      <th>2020-10-25</th>\n",
              "      <td>-0.119892</td>\n",
              "      <td>1.469900</td>\n",
              "      <td>-1.928688</td>\n",
              "      <td>0.738520</td>\n",
              "    </tr>\n",
              "    <tr>\n",
              "      <th>2020-10-24</th>\n",
              "      <td>0.417396</td>\n",
              "      <td>0.461080</td>\n",
              "      <td>-2.584827</td>\n",
              "      <td>0.096725</td>\n",
              "    </tr>\n",
              "    <tr>\n",
              "      <th>2020-10-23</th>\n",
              "      <td>0.619177</td>\n",
              "      <td>-2.047334</td>\n",
              "      <td>-0.052190</td>\n",
              "      <td>2.604018</td>\n",
              "    </tr>\n",
              "    <tr>\n",
              "      <th>2020-10-22</th>\n",
              "      <td>-0.046813</td>\n",
              "      <td>0.618827</td>\n",
              "      <td>-0.214207</td>\n",
              "      <td>0.841476</td>\n",
              "    </tr>\n",
              "    <tr>\n",
              "      <th>2020-10-21</th>\n",
              "      <td>0.101432</td>\n",
              "      <td>0.204162</td>\n",
              "      <td>-0.969108</td>\n",
              "      <td>1.123149</td>\n",
              "    </tr>\n",
              "  </tbody>\n",
              "</table>\n",
              "</div>"
            ],
            "text/plain": [
              "                   A         B         C         D\n",
              "2020-10-26 -0.560210  1.062971  0.700149 -2.138059\n",
              "2020-10-25 -0.119892  1.469900 -1.928688  0.738520\n",
              "2020-10-24  0.417396  0.461080 -2.584827  0.096725\n",
              "2020-10-23  0.619177 -2.047334 -0.052190  2.604018\n",
              "2020-10-22 -0.046813  0.618827 -0.214207  0.841476\n",
              "2020-10-21  0.101432  0.204162 -0.969108  1.123149"
            ]
          },
          "metadata": {
            "tags": []
          },
          "execution_count": 75
        }
      ]
    },
    {
      "cell_type": "code",
      "metadata": {
        "id": "irx7stgdJwJ1",
        "outputId": "4ac53cb8-77d6-4bbb-a1ef-a44837c38b12",
        "colab": {
          "base_uri": "https://localhost:8080/",
          "height": 235
        }
      },
      "source": [
        "df.sort_index(axis=1, ascending=False)"
      ],
      "execution_count": 76,
      "outputs": [
        {
          "output_type": "execute_result",
          "data": {
            "text/html": [
              "<div>\n",
              "<style scoped>\n",
              "    .dataframe tbody tr th:only-of-type {\n",
              "        vertical-align: middle;\n",
              "    }\n",
              "\n",
              "    .dataframe tbody tr th {\n",
              "        vertical-align: top;\n",
              "    }\n",
              "\n",
              "    .dataframe thead th {\n",
              "        text-align: right;\n",
              "    }\n",
              "</style>\n",
              "<table border=\"1\" class=\"dataframe\">\n",
              "  <thead>\n",
              "    <tr style=\"text-align: right;\">\n",
              "      <th></th>\n",
              "      <th>D</th>\n",
              "      <th>C</th>\n",
              "      <th>B</th>\n",
              "      <th>A</th>\n",
              "    </tr>\n",
              "  </thead>\n",
              "  <tbody>\n",
              "    <tr>\n",
              "      <th>2020-10-21</th>\n",
              "      <td>1.123149</td>\n",
              "      <td>-0.969108</td>\n",
              "      <td>0.204162</td>\n",
              "      <td>0.101432</td>\n",
              "    </tr>\n",
              "    <tr>\n",
              "      <th>2020-10-22</th>\n",
              "      <td>0.841476</td>\n",
              "      <td>-0.214207</td>\n",
              "      <td>0.618827</td>\n",
              "      <td>-0.046813</td>\n",
              "    </tr>\n",
              "    <tr>\n",
              "      <th>2020-10-23</th>\n",
              "      <td>2.604018</td>\n",
              "      <td>-0.052190</td>\n",
              "      <td>-2.047334</td>\n",
              "      <td>0.619177</td>\n",
              "    </tr>\n",
              "    <tr>\n",
              "      <th>2020-10-24</th>\n",
              "      <td>0.096725</td>\n",
              "      <td>-2.584827</td>\n",
              "      <td>0.461080</td>\n",
              "      <td>0.417396</td>\n",
              "    </tr>\n",
              "    <tr>\n",
              "      <th>2020-10-25</th>\n",
              "      <td>0.738520</td>\n",
              "      <td>-1.928688</td>\n",
              "      <td>1.469900</td>\n",
              "      <td>-0.119892</td>\n",
              "    </tr>\n",
              "    <tr>\n",
              "      <th>2020-10-26</th>\n",
              "      <td>-2.138059</td>\n",
              "      <td>0.700149</td>\n",
              "      <td>1.062971</td>\n",
              "      <td>-0.560210</td>\n",
              "    </tr>\n",
              "  </tbody>\n",
              "</table>\n",
              "</div>"
            ],
            "text/plain": [
              "                   D         C         B         A\n",
              "2020-10-21  1.123149 -0.969108  0.204162  0.101432\n",
              "2020-10-22  0.841476 -0.214207  0.618827 -0.046813\n",
              "2020-10-23  2.604018 -0.052190 -2.047334  0.619177\n",
              "2020-10-24  0.096725 -2.584827  0.461080  0.417396\n",
              "2020-10-25  0.738520 -1.928688  1.469900 -0.119892\n",
              "2020-10-26 -2.138059  0.700149  1.062971 -0.560210"
            ]
          },
          "metadata": {
            "tags": []
          },
          "execution_count": 76
        }
      ]
    },
    {
      "cell_type": "markdown",
      "metadata": {
        "id": "Snt7KJpcMufy"
      },
      "source": [
        "### Getting"
      ]
    },
    {
      "cell_type": "markdown",
      "metadata": {
        "id": "rixQCEPSM4Pv"
      },
      "source": [
        "Selecting a single column, which yields a Series, equivalent to df.A:"
      ]
    },
    {
      "cell_type": "code",
      "metadata": {
        "id": "GOyB_hufMwGY",
        "outputId": "7adeb560-6fbf-4f0d-e1f0-a657a944d913",
        "colab": {
          "base_uri": "https://localhost:8080/",
          "height": 136
        }
      },
      "source": [
        "df['A']"
      ],
      "execution_count": 77,
      "outputs": [
        {
          "output_type": "execute_result",
          "data": {
            "text/plain": [
              "2020-10-21    0.101432\n",
              "2020-10-22   -0.046813\n",
              "2020-10-23    0.619177\n",
              "2020-10-24    0.417396\n",
              "2020-10-25   -0.119892\n",
              "2020-10-26   -0.560210\n",
              "Freq: D, Name: A, dtype: float64"
            ]
          },
          "metadata": {
            "tags": []
          },
          "execution_count": 77
        }
      ]
    },
    {
      "cell_type": "markdown",
      "metadata": {
        "id": "wwMqHx0BM5W-"
      },
      "source": [
        "Selecting via [], which slices the rows."
      ]
    },
    {
      "cell_type": "code",
      "metadata": {
        "id": "UKaHOyukM2B6",
        "outputId": "8c224d40-fe5f-48c3-ea54-087061e7baaf",
        "colab": {
          "base_uri": "https://localhost:8080/",
          "height": 142
        }
      },
      "source": [
        "df[0:3]"
      ],
      "execution_count": 78,
      "outputs": [
        {
          "output_type": "execute_result",
          "data": {
            "text/html": [
              "<div>\n",
              "<style scoped>\n",
              "    .dataframe tbody tr th:only-of-type {\n",
              "        vertical-align: middle;\n",
              "    }\n",
              "\n",
              "    .dataframe tbody tr th {\n",
              "        vertical-align: top;\n",
              "    }\n",
              "\n",
              "    .dataframe thead th {\n",
              "        text-align: right;\n",
              "    }\n",
              "</style>\n",
              "<table border=\"1\" class=\"dataframe\">\n",
              "  <thead>\n",
              "    <tr style=\"text-align: right;\">\n",
              "      <th></th>\n",
              "      <th>A</th>\n",
              "      <th>B</th>\n",
              "      <th>C</th>\n",
              "      <th>D</th>\n",
              "    </tr>\n",
              "  </thead>\n",
              "  <tbody>\n",
              "    <tr>\n",
              "      <th>2020-10-21</th>\n",
              "      <td>0.101432</td>\n",
              "      <td>0.204162</td>\n",
              "      <td>-0.969108</td>\n",
              "      <td>1.123149</td>\n",
              "    </tr>\n",
              "    <tr>\n",
              "      <th>2020-10-22</th>\n",
              "      <td>-0.046813</td>\n",
              "      <td>0.618827</td>\n",
              "      <td>-0.214207</td>\n",
              "      <td>0.841476</td>\n",
              "    </tr>\n",
              "    <tr>\n",
              "      <th>2020-10-23</th>\n",
              "      <td>0.619177</td>\n",
              "      <td>-2.047334</td>\n",
              "      <td>-0.052190</td>\n",
              "      <td>2.604018</td>\n",
              "    </tr>\n",
              "  </tbody>\n",
              "</table>\n",
              "</div>"
            ],
            "text/plain": [
              "                   A         B         C         D\n",
              "2020-10-21  0.101432  0.204162 -0.969108  1.123149\n",
              "2020-10-22 -0.046813  0.618827 -0.214207  0.841476\n",
              "2020-10-23  0.619177 -2.047334 -0.052190  2.604018"
            ]
          },
          "metadata": {
            "tags": []
          },
          "execution_count": 78
        }
      ]
    },
    {
      "cell_type": "markdown",
      "metadata": {
        "id": "oI0E6NpxIkqa"
      },
      "source": [
        "### Selection by label"
      ]
    },
    {
      "cell_type": "code",
      "metadata": {
        "id": "BpjWhRDLKLj8",
        "outputId": "b276927b-25e0-4ff8-df45-fb7209c5ccff",
        "colab": {
          "base_uri": "https://localhost:8080/",
          "height": 102
        }
      },
      "source": [
        "df.loc[dates[0]]"
      ],
      "execution_count": 79,
      "outputs": [
        {
          "output_type": "execute_result",
          "data": {
            "text/plain": [
              "A    0.101432\n",
              "B    0.204162\n",
              "C   -0.969108\n",
              "D    1.123149\n",
              "Name: 2020-10-21 00:00:00, dtype: float64"
            ]
          },
          "metadata": {
            "tags": []
          },
          "execution_count": 79
        }
      ]
    },
    {
      "cell_type": "code",
      "metadata": {
        "id": "ocaA4q55KMVQ",
        "outputId": "85409bf0-98fa-4d63-d554-a4dd911826e4",
        "colab": {
          "base_uri": "https://localhost:8080/",
          "height": 235
        }
      },
      "source": [
        "df.loc[:, ['A', 'B']]"
      ],
      "execution_count": 80,
      "outputs": [
        {
          "output_type": "execute_result",
          "data": {
            "text/html": [
              "<div>\n",
              "<style scoped>\n",
              "    .dataframe tbody tr th:only-of-type {\n",
              "        vertical-align: middle;\n",
              "    }\n",
              "\n",
              "    .dataframe tbody tr th {\n",
              "        vertical-align: top;\n",
              "    }\n",
              "\n",
              "    .dataframe thead th {\n",
              "        text-align: right;\n",
              "    }\n",
              "</style>\n",
              "<table border=\"1\" class=\"dataframe\">\n",
              "  <thead>\n",
              "    <tr style=\"text-align: right;\">\n",
              "      <th></th>\n",
              "      <th>A</th>\n",
              "      <th>B</th>\n",
              "    </tr>\n",
              "  </thead>\n",
              "  <tbody>\n",
              "    <tr>\n",
              "      <th>2020-10-21</th>\n",
              "      <td>0.101432</td>\n",
              "      <td>0.204162</td>\n",
              "    </tr>\n",
              "    <tr>\n",
              "      <th>2020-10-22</th>\n",
              "      <td>-0.046813</td>\n",
              "      <td>0.618827</td>\n",
              "    </tr>\n",
              "    <tr>\n",
              "      <th>2020-10-23</th>\n",
              "      <td>0.619177</td>\n",
              "      <td>-2.047334</td>\n",
              "    </tr>\n",
              "    <tr>\n",
              "      <th>2020-10-24</th>\n",
              "      <td>0.417396</td>\n",
              "      <td>0.461080</td>\n",
              "    </tr>\n",
              "    <tr>\n",
              "      <th>2020-10-25</th>\n",
              "      <td>-0.119892</td>\n",
              "      <td>1.469900</td>\n",
              "    </tr>\n",
              "    <tr>\n",
              "      <th>2020-10-26</th>\n",
              "      <td>-0.560210</td>\n",
              "      <td>1.062971</td>\n",
              "    </tr>\n",
              "  </tbody>\n",
              "</table>\n",
              "</div>"
            ],
            "text/plain": [
              "                   A         B\n",
              "2020-10-21  0.101432  0.204162\n",
              "2020-10-22 -0.046813  0.618827\n",
              "2020-10-23  0.619177 -2.047334\n",
              "2020-10-24  0.417396  0.461080\n",
              "2020-10-25 -0.119892  1.469900\n",
              "2020-10-26 -0.560210  1.062971"
            ]
          },
          "metadata": {
            "tags": []
          },
          "execution_count": 80
        }
      ]
    },
    {
      "cell_type": "code",
      "metadata": {
        "id": "7Em3OIrtKOnX",
        "outputId": "46e3443d-abf9-4831-f554-4fa73c47a714",
        "colab": {
          "base_uri": "https://localhost:8080/",
          "height": 173
        }
      },
      "source": [
        "df.loc['20201021':'20201024', ['A', 'B']]"
      ],
      "execution_count": 81,
      "outputs": [
        {
          "output_type": "execute_result",
          "data": {
            "text/html": [
              "<div>\n",
              "<style scoped>\n",
              "    .dataframe tbody tr th:only-of-type {\n",
              "        vertical-align: middle;\n",
              "    }\n",
              "\n",
              "    .dataframe tbody tr th {\n",
              "        vertical-align: top;\n",
              "    }\n",
              "\n",
              "    .dataframe thead th {\n",
              "        text-align: right;\n",
              "    }\n",
              "</style>\n",
              "<table border=\"1\" class=\"dataframe\">\n",
              "  <thead>\n",
              "    <tr style=\"text-align: right;\">\n",
              "      <th></th>\n",
              "      <th>A</th>\n",
              "      <th>B</th>\n",
              "    </tr>\n",
              "  </thead>\n",
              "  <tbody>\n",
              "    <tr>\n",
              "      <th>2020-10-21</th>\n",
              "      <td>0.101432</td>\n",
              "      <td>0.204162</td>\n",
              "    </tr>\n",
              "    <tr>\n",
              "      <th>2020-10-22</th>\n",
              "      <td>-0.046813</td>\n",
              "      <td>0.618827</td>\n",
              "    </tr>\n",
              "    <tr>\n",
              "      <th>2020-10-23</th>\n",
              "      <td>0.619177</td>\n",
              "      <td>-2.047334</td>\n",
              "    </tr>\n",
              "    <tr>\n",
              "      <th>2020-10-24</th>\n",
              "      <td>0.417396</td>\n",
              "      <td>0.461080</td>\n",
              "    </tr>\n",
              "  </tbody>\n",
              "</table>\n",
              "</div>"
            ],
            "text/plain": [
              "                   A         B\n",
              "2020-10-21  0.101432  0.204162\n",
              "2020-10-22 -0.046813  0.618827\n",
              "2020-10-23  0.619177 -2.047334\n",
              "2020-10-24  0.417396  0.461080"
            ]
          },
          "metadata": {
            "tags": []
          },
          "execution_count": 81
        }
      ]
    },
    {
      "cell_type": "code",
      "metadata": {
        "id": "K4RrIrEjKSrY",
        "outputId": "420ea6d4-01ce-435c-fc85-73f1523fc5e4",
        "colab": {
          "base_uri": "https://localhost:8080/",
          "height": 68
        }
      },
      "source": [
        "df.loc['20201023', ['A', 'B']]"
      ],
      "execution_count": 82,
      "outputs": [
        {
          "output_type": "execute_result",
          "data": {
            "text/plain": [
              "A    0.619177\n",
              "B   -2.047334\n",
              "Name: 2020-10-23 00:00:00, dtype: float64"
            ]
          },
          "metadata": {
            "tags": []
          },
          "execution_count": 82
        }
      ]
    },
    {
      "cell_type": "code",
      "metadata": {
        "id": "I5Ci6mT-KUb2",
        "outputId": "71080c4d-0a6e-4971-d713-acd17dbfcc3d",
        "colab": {
          "base_uri": "https://localhost:8080/",
          "height": 34
        }
      },
      "source": [
        "df.loc[dates[0], 'A']"
      ],
      "execution_count": 83,
      "outputs": [
        {
          "output_type": "execute_result",
          "data": {
            "text/plain": [
              "0.1014321755655674"
            ]
          },
          "metadata": {
            "tags": []
          },
          "execution_count": 83
        }
      ]
    },
    {
      "cell_type": "code",
      "metadata": {
        "id": "ptcm2nvCKY5M",
        "outputId": "a22e57b9-2d4b-4d9f-eb18-b3fd3fee6838",
        "colab": {
          "base_uri": "https://localhost:8080/",
          "height": 34
        }
      },
      "source": [
        "df.at[dates[0], 'A']"
      ],
      "execution_count": 84,
      "outputs": [
        {
          "output_type": "execute_result",
          "data": {
            "text/plain": [
              "0.1014321755655674"
            ]
          },
          "metadata": {
            "tags": []
          },
          "execution_count": 84
        }
      ]
    },
    {
      "cell_type": "markdown",
      "metadata": {
        "id": "R1NO4ZfhKnT1"
      },
      "source": [
        "### Selection by position"
      ]
    },
    {
      "cell_type": "markdown",
      "metadata": {
        "id": "rs7NmlQePQti"
      },
      "source": [
        "Select via the position of the passed integers:"
      ]
    },
    {
      "cell_type": "code",
      "metadata": {
        "id": "-4KhDbrLKoc4",
        "outputId": "153d766b-f927-4dde-c9aa-576a52519190",
        "colab": {
          "base_uri": "https://localhost:8080/",
          "height": 102
        }
      },
      "source": [
        "df.iloc[3]"
      ],
      "execution_count": 85,
      "outputs": [
        {
          "output_type": "execute_result",
          "data": {
            "text/plain": [
              "A    0.417396\n",
              "B    0.461080\n",
              "C   -2.584827\n",
              "D    0.096725\n",
              "Name: 2020-10-24 00:00:00, dtype: float64"
            ]
          },
          "metadata": {
            "tags": []
          },
          "execution_count": 85
        }
      ]
    },
    {
      "cell_type": "markdown",
      "metadata": {
        "id": "3G8DI2-YPgNK"
      },
      "source": [
        "By integer slices, acting similar to numpy/python:"
      ]
    },
    {
      "cell_type": "code",
      "metadata": {
        "id": "VJdD5WnuKsEf",
        "outputId": "5031da3f-7323-46b6-8b96-5c1e394ce552",
        "colab": {
          "base_uri": "https://localhost:8080/",
          "height": 111
        }
      },
      "source": [
        "df.iloc[3:5, 0:2]"
      ],
      "execution_count": 86,
      "outputs": [
        {
          "output_type": "execute_result",
          "data": {
            "text/html": [
              "<div>\n",
              "<style scoped>\n",
              "    .dataframe tbody tr th:only-of-type {\n",
              "        vertical-align: middle;\n",
              "    }\n",
              "\n",
              "    .dataframe tbody tr th {\n",
              "        vertical-align: top;\n",
              "    }\n",
              "\n",
              "    .dataframe thead th {\n",
              "        text-align: right;\n",
              "    }\n",
              "</style>\n",
              "<table border=\"1\" class=\"dataframe\">\n",
              "  <thead>\n",
              "    <tr style=\"text-align: right;\">\n",
              "      <th></th>\n",
              "      <th>A</th>\n",
              "      <th>B</th>\n",
              "    </tr>\n",
              "  </thead>\n",
              "  <tbody>\n",
              "    <tr>\n",
              "      <th>2020-10-24</th>\n",
              "      <td>0.417396</td>\n",
              "      <td>0.46108</td>\n",
              "    </tr>\n",
              "    <tr>\n",
              "      <th>2020-10-25</th>\n",
              "      <td>-0.119892</td>\n",
              "      <td>1.46990</td>\n",
              "    </tr>\n",
              "  </tbody>\n",
              "</table>\n",
              "</div>"
            ],
            "text/plain": [
              "                   A        B\n",
              "2020-10-24  0.417396  0.46108\n",
              "2020-10-25 -0.119892  1.46990"
            ]
          },
          "metadata": {
            "tags": []
          },
          "execution_count": 86
        }
      ]
    },
    {
      "cell_type": "markdown",
      "metadata": {
        "id": "dynWmXmZPlfQ"
      },
      "source": [
        "By lists of integer position locations, similar to the numpy/python style:"
      ]
    },
    {
      "cell_type": "code",
      "metadata": {
        "id": "HGVyFzCnKtq3",
        "outputId": "e6d0c77a-6daf-477c-9936-46236bd478bf",
        "colab": {
          "base_uri": "https://localhost:8080/",
          "height": 142
        }
      },
      "source": [
        "df.iloc[[1, 2, 4], [0, 2]]"
      ],
      "execution_count": 87,
      "outputs": [
        {
          "output_type": "execute_result",
          "data": {
            "text/html": [
              "<div>\n",
              "<style scoped>\n",
              "    .dataframe tbody tr th:only-of-type {\n",
              "        vertical-align: middle;\n",
              "    }\n",
              "\n",
              "    .dataframe tbody tr th {\n",
              "        vertical-align: top;\n",
              "    }\n",
              "\n",
              "    .dataframe thead th {\n",
              "        text-align: right;\n",
              "    }\n",
              "</style>\n",
              "<table border=\"1\" class=\"dataframe\">\n",
              "  <thead>\n",
              "    <tr style=\"text-align: right;\">\n",
              "      <th></th>\n",
              "      <th>A</th>\n",
              "      <th>C</th>\n",
              "    </tr>\n",
              "  </thead>\n",
              "  <tbody>\n",
              "    <tr>\n",
              "      <th>2020-10-22</th>\n",
              "      <td>-0.046813</td>\n",
              "      <td>-0.214207</td>\n",
              "    </tr>\n",
              "    <tr>\n",
              "      <th>2020-10-23</th>\n",
              "      <td>0.619177</td>\n",
              "      <td>-0.052190</td>\n",
              "    </tr>\n",
              "    <tr>\n",
              "      <th>2020-10-25</th>\n",
              "      <td>-0.119892</td>\n",
              "      <td>-1.928688</td>\n",
              "    </tr>\n",
              "  </tbody>\n",
              "</table>\n",
              "</div>"
            ],
            "text/plain": [
              "                   A         C\n",
              "2020-10-22 -0.046813 -0.214207\n",
              "2020-10-23  0.619177 -0.052190\n",
              "2020-10-25 -0.119892 -1.928688"
            ]
          },
          "metadata": {
            "tags": []
          },
          "execution_count": 87
        }
      ]
    },
    {
      "cell_type": "markdown",
      "metadata": {
        "id": "vU93EogWPqTr"
      },
      "source": [
        "For slicing rows explicitly:"
      ]
    },
    {
      "cell_type": "code",
      "metadata": {
        "id": "BkBN7JbmKuKQ",
        "outputId": "dca65d91-e8c9-4ac5-de90-10ca344f9c17",
        "colab": {
          "base_uri": "https://localhost:8080/",
          "height": 111
        }
      },
      "source": [
        "df.iloc[1:3, :]"
      ],
      "execution_count": 88,
      "outputs": [
        {
          "output_type": "execute_result",
          "data": {
            "text/html": [
              "<div>\n",
              "<style scoped>\n",
              "    .dataframe tbody tr th:only-of-type {\n",
              "        vertical-align: middle;\n",
              "    }\n",
              "\n",
              "    .dataframe tbody tr th {\n",
              "        vertical-align: top;\n",
              "    }\n",
              "\n",
              "    .dataframe thead th {\n",
              "        text-align: right;\n",
              "    }\n",
              "</style>\n",
              "<table border=\"1\" class=\"dataframe\">\n",
              "  <thead>\n",
              "    <tr style=\"text-align: right;\">\n",
              "      <th></th>\n",
              "      <th>A</th>\n",
              "      <th>B</th>\n",
              "      <th>C</th>\n",
              "      <th>D</th>\n",
              "    </tr>\n",
              "  </thead>\n",
              "  <tbody>\n",
              "    <tr>\n",
              "      <th>2020-10-22</th>\n",
              "      <td>-0.046813</td>\n",
              "      <td>0.618827</td>\n",
              "      <td>-0.214207</td>\n",
              "      <td>0.841476</td>\n",
              "    </tr>\n",
              "    <tr>\n",
              "      <th>2020-10-23</th>\n",
              "      <td>0.619177</td>\n",
              "      <td>-2.047334</td>\n",
              "      <td>-0.052190</td>\n",
              "      <td>2.604018</td>\n",
              "    </tr>\n",
              "  </tbody>\n",
              "</table>\n",
              "</div>"
            ],
            "text/plain": [
              "                   A         B         C         D\n",
              "2020-10-22 -0.046813  0.618827 -0.214207  0.841476\n",
              "2020-10-23  0.619177 -2.047334 -0.052190  2.604018"
            ]
          },
          "metadata": {
            "tags": []
          },
          "execution_count": 88
        }
      ]
    },
    {
      "cell_type": "markdown",
      "metadata": {
        "id": "ZVJsqlmCPsJ8"
      },
      "source": [
        "For slicing columns explicitly:"
      ]
    },
    {
      "cell_type": "code",
      "metadata": {
        "id": "JHuxJWAdKxFf",
        "outputId": "b3770c92-391e-4671-b03e-9750f032e683",
        "colab": {
          "base_uri": "https://localhost:8080/",
          "height": 235
        }
      },
      "source": [
        "df.iloc[:, 1:3]"
      ],
      "execution_count": 89,
      "outputs": [
        {
          "output_type": "execute_result",
          "data": {
            "text/html": [
              "<div>\n",
              "<style scoped>\n",
              "    .dataframe tbody tr th:only-of-type {\n",
              "        vertical-align: middle;\n",
              "    }\n",
              "\n",
              "    .dataframe tbody tr th {\n",
              "        vertical-align: top;\n",
              "    }\n",
              "\n",
              "    .dataframe thead th {\n",
              "        text-align: right;\n",
              "    }\n",
              "</style>\n",
              "<table border=\"1\" class=\"dataframe\">\n",
              "  <thead>\n",
              "    <tr style=\"text-align: right;\">\n",
              "      <th></th>\n",
              "      <th>B</th>\n",
              "      <th>C</th>\n",
              "    </tr>\n",
              "  </thead>\n",
              "  <tbody>\n",
              "    <tr>\n",
              "      <th>2020-10-21</th>\n",
              "      <td>0.204162</td>\n",
              "      <td>-0.969108</td>\n",
              "    </tr>\n",
              "    <tr>\n",
              "      <th>2020-10-22</th>\n",
              "      <td>0.618827</td>\n",
              "      <td>-0.214207</td>\n",
              "    </tr>\n",
              "    <tr>\n",
              "      <th>2020-10-23</th>\n",
              "      <td>-2.047334</td>\n",
              "      <td>-0.052190</td>\n",
              "    </tr>\n",
              "    <tr>\n",
              "      <th>2020-10-24</th>\n",
              "      <td>0.461080</td>\n",
              "      <td>-2.584827</td>\n",
              "    </tr>\n",
              "    <tr>\n",
              "      <th>2020-10-25</th>\n",
              "      <td>1.469900</td>\n",
              "      <td>-1.928688</td>\n",
              "    </tr>\n",
              "    <tr>\n",
              "      <th>2020-10-26</th>\n",
              "      <td>1.062971</td>\n",
              "      <td>0.700149</td>\n",
              "    </tr>\n",
              "  </tbody>\n",
              "</table>\n",
              "</div>"
            ],
            "text/plain": [
              "                   B         C\n",
              "2020-10-21  0.204162 -0.969108\n",
              "2020-10-22  0.618827 -0.214207\n",
              "2020-10-23 -2.047334 -0.052190\n",
              "2020-10-24  0.461080 -2.584827\n",
              "2020-10-25  1.469900 -1.928688\n",
              "2020-10-26  1.062971  0.700149"
            ]
          },
          "metadata": {
            "tags": []
          },
          "execution_count": 89
        }
      ]
    },
    {
      "cell_type": "markdown",
      "metadata": {
        "id": "S12GhlLGPwhW"
      },
      "source": [
        "For getting a value explicitly:"
      ]
    },
    {
      "cell_type": "code",
      "metadata": {
        "id": "pimscsgnKzFM",
        "outputId": "a63c0d90-fac3-400a-e1b8-d9f8313f3d29",
        "colab": {
          "base_uri": "https://localhost:8080/",
          "height": 34
        }
      },
      "source": [
        "df.iloc[1, 1]"
      ],
      "execution_count": 90,
      "outputs": [
        {
          "output_type": "execute_result",
          "data": {
            "text/plain": [
              "0.6188269554007276"
            ]
          },
          "metadata": {
            "tags": []
          },
          "execution_count": 90
        }
      ]
    },
    {
      "cell_type": "markdown",
      "metadata": {
        "id": "seWKsZ9EP9UL"
      },
      "source": [
        "For getting fast access to a scalar (equivalent to the prior method):"
      ]
    },
    {
      "cell_type": "code",
      "metadata": {
        "id": "HQyd_yt8K1Qe",
        "outputId": "10c84b9c-0380-4e89-f1c6-b12dc1f19204",
        "colab": {
          "base_uri": "https://localhost:8080/",
          "height": 34
        }
      },
      "source": [
        "df.iat[1, 1]"
      ],
      "execution_count": 91,
      "outputs": [
        {
          "output_type": "execute_result",
          "data": {
            "text/plain": [
              "0.6188269554007276"
            ]
          },
          "metadata": {
            "tags": []
          },
          "execution_count": 91
        }
      ]
    },
    {
      "cell_type": "markdown",
      "metadata": {
        "id": "4k0UabiRK-Pg"
      },
      "source": [
        "### Boolean indexing"
      ]
    },
    {
      "cell_type": "markdown",
      "metadata": {
        "id": "fapWwFytQCXZ"
      },
      "source": [
        "Using a single column’s values to select data."
      ]
    },
    {
      "cell_type": "code",
      "metadata": {
        "id": "HZNTHhe-K_0n",
        "outputId": "e7c8a972-497c-4036-9f1e-39eda761328a",
        "colab": {
          "base_uri": "https://localhost:8080/",
          "height": 142
        }
      },
      "source": [
        "df[df['A'] > 0]"
      ],
      "execution_count": 92,
      "outputs": [
        {
          "output_type": "execute_result",
          "data": {
            "text/html": [
              "<div>\n",
              "<style scoped>\n",
              "    .dataframe tbody tr th:only-of-type {\n",
              "        vertical-align: middle;\n",
              "    }\n",
              "\n",
              "    .dataframe tbody tr th {\n",
              "        vertical-align: top;\n",
              "    }\n",
              "\n",
              "    .dataframe thead th {\n",
              "        text-align: right;\n",
              "    }\n",
              "</style>\n",
              "<table border=\"1\" class=\"dataframe\">\n",
              "  <thead>\n",
              "    <tr style=\"text-align: right;\">\n",
              "      <th></th>\n",
              "      <th>A</th>\n",
              "      <th>B</th>\n",
              "      <th>C</th>\n",
              "      <th>D</th>\n",
              "    </tr>\n",
              "  </thead>\n",
              "  <tbody>\n",
              "    <tr>\n",
              "      <th>2020-10-21</th>\n",
              "      <td>0.101432</td>\n",
              "      <td>0.204162</td>\n",
              "      <td>-0.969108</td>\n",
              "      <td>1.123149</td>\n",
              "    </tr>\n",
              "    <tr>\n",
              "      <th>2020-10-23</th>\n",
              "      <td>0.619177</td>\n",
              "      <td>-2.047334</td>\n",
              "      <td>-0.052190</td>\n",
              "      <td>2.604018</td>\n",
              "    </tr>\n",
              "    <tr>\n",
              "      <th>2020-10-24</th>\n",
              "      <td>0.417396</td>\n",
              "      <td>0.461080</td>\n",
              "      <td>-2.584827</td>\n",
              "      <td>0.096725</td>\n",
              "    </tr>\n",
              "  </tbody>\n",
              "</table>\n",
              "</div>"
            ],
            "text/plain": [
              "                   A         B         C         D\n",
              "2020-10-21  0.101432  0.204162 -0.969108  1.123149\n",
              "2020-10-23  0.619177 -2.047334 -0.052190  2.604018\n",
              "2020-10-24  0.417396  0.461080 -2.584827  0.096725"
            ]
          },
          "metadata": {
            "tags": []
          },
          "execution_count": 92
        }
      ]
    },
    {
      "cell_type": "markdown",
      "metadata": {
        "id": "aKRJ7D_4QDcz"
      },
      "source": [
        "Selecting values from a DataFrame where a boolean condition is met."
      ]
    },
    {
      "cell_type": "code",
      "metadata": {
        "id": "mN_w6-gpLDko",
        "outputId": "dfceeeda-f49e-449d-e2d3-2cf5b9f26842",
        "colab": {
          "base_uri": "https://localhost:8080/",
          "height": 235
        }
      },
      "source": [
        "df[df > 0]"
      ],
      "execution_count": 93,
      "outputs": [
        {
          "output_type": "execute_result",
          "data": {
            "text/html": [
              "<div>\n",
              "<style scoped>\n",
              "    .dataframe tbody tr th:only-of-type {\n",
              "        vertical-align: middle;\n",
              "    }\n",
              "\n",
              "    .dataframe tbody tr th {\n",
              "        vertical-align: top;\n",
              "    }\n",
              "\n",
              "    .dataframe thead th {\n",
              "        text-align: right;\n",
              "    }\n",
              "</style>\n",
              "<table border=\"1\" class=\"dataframe\">\n",
              "  <thead>\n",
              "    <tr style=\"text-align: right;\">\n",
              "      <th></th>\n",
              "      <th>A</th>\n",
              "      <th>B</th>\n",
              "      <th>C</th>\n",
              "      <th>D</th>\n",
              "    </tr>\n",
              "  </thead>\n",
              "  <tbody>\n",
              "    <tr>\n",
              "      <th>2020-10-21</th>\n",
              "      <td>0.101432</td>\n",
              "      <td>0.204162</td>\n",
              "      <td>NaN</td>\n",
              "      <td>1.123149</td>\n",
              "    </tr>\n",
              "    <tr>\n",
              "      <th>2020-10-22</th>\n",
              "      <td>NaN</td>\n",
              "      <td>0.618827</td>\n",
              "      <td>NaN</td>\n",
              "      <td>0.841476</td>\n",
              "    </tr>\n",
              "    <tr>\n",
              "      <th>2020-10-23</th>\n",
              "      <td>0.619177</td>\n",
              "      <td>NaN</td>\n",
              "      <td>NaN</td>\n",
              "      <td>2.604018</td>\n",
              "    </tr>\n",
              "    <tr>\n",
              "      <th>2020-10-24</th>\n",
              "      <td>0.417396</td>\n",
              "      <td>0.461080</td>\n",
              "      <td>NaN</td>\n",
              "      <td>0.096725</td>\n",
              "    </tr>\n",
              "    <tr>\n",
              "      <th>2020-10-25</th>\n",
              "      <td>NaN</td>\n",
              "      <td>1.469900</td>\n",
              "      <td>NaN</td>\n",
              "      <td>0.738520</td>\n",
              "    </tr>\n",
              "    <tr>\n",
              "      <th>2020-10-26</th>\n",
              "      <td>NaN</td>\n",
              "      <td>1.062971</td>\n",
              "      <td>0.700149</td>\n",
              "      <td>NaN</td>\n",
              "    </tr>\n",
              "  </tbody>\n",
              "</table>\n",
              "</div>"
            ],
            "text/plain": [
              "                   A         B         C         D\n",
              "2020-10-21  0.101432  0.204162       NaN  1.123149\n",
              "2020-10-22       NaN  0.618827       NaN  0.841476\n",
              "2020-10-23  0.619177       NaN       NaN  2.604018\n",
              "2020-10-24  0.417396  0.461080       NaN  0.096725\n",
              "2020-10-25       NaN  1.469900       NaN  0.738520\n",
              "2020-10-26       NaN  1.062971  0.700149       NaN"
            ]
          },
          "metadata": {
            "tags": []
          },
          "execution_count": 93
        }
      ]
    },
    {
      "cell_type": "markdown",
      "metadata": {
        "id": "Bfg6S27hQLJh"
      },
      "source": [
        "Using the isin() method for filtering:"
      ]
    },
    {
      "cell_type": "code",
      "metadata": {
        "id": "KmCfSDwtLXBv",
        "outputId": "337d8891-c14b-4754-f9cd-367c73dde6df",
        "colab": {
          "base_uri": "https://localhost:8080/",
          "height": 235
        }
      },
      "source": [
        "df2 = df.copy()\n",
        "df2"
      ],
      "execution_count": 94,
      "outputs": [
        {
          "output_type": "execute_result",
          "data": {
            "text/html": [
              "<div>\n",
              "<style scoped>\n",
              "    .dataframe tbody tr th:only-of-type {\n",
              "        vertical-align: middle;\n",
              "    }\n",
              "\n",
              "    .dataframe tbody tr th {\n",
              "        vertical-align: top;\n",
              "    }\n",
              "\n",
              "    .dataframe thead th {\n",
              "        text-align: right;\n",
              "    }\n",
              "</style>\n",
              "<table border=\"1\" class=\"dataframe\">\n",
              "  <thead>\n",
              "    <tr style=\"text-align: right;\">\n",
              "      <th></th>\n",
              "      <th>A</th>\n",
              "      <th>B</th>\n",
              "      <th>C</th>\n",
              "      <th>D</th>\n",
              "    </tr>\n",
              "  </thead>\n",
              "  <tbody>\n",
              "    <tr>\n",
              "      <th>2020-10-21</th>\n",
              "      <td>0.101432</td>\n",
              "      <td>0.204162</td>\n",
              "      <td>-0.969108</td>\n",
              "      <td>1.123149</td>\n",
              "    </tr>\n",
              "    <tr>\n",
              "      <th>2020-10-22</th>\n",
              "      <td>-0.046813</td>\n",
              "      <td>0.618827</td>\n",
              "      <td>-0.214207</td>\n",
              "      <td>0.841476</td>\n",
              "    </tr>\n",
              "    <tr>\n",
              "      <th>2020-10-23</th>\n",
              "      <td>0.619177</td>\n",
              "      <td>-2.047334</td>\n",
              "      <td>-0.052190</td>\n",
              "      <td>2.604018</td>\n",
              "    </tr>\n",
              "    <tr>\n",
              "      <th>2020-10-24</th>\n",
              "      <td>0.417396</td>\n",
              "      <td>0.461080</td>\n",
              "      <td>-2.584827</td>\n",
              "      <td>0.096725</td>\n",
              "    </tr>\n",
              "    <tr>\n",
              "      <th>2020-10-25</th>\n",
              "      <td>-0.119892</td>\n",
              "      <td>1.469900</td>\n",
              "      <td>-1.928688</td>\n",
              "      <td>0.738520</td>\n",
              "    </tr>\n",
              "    <tr>\n",
              "      <th>2020-10-26</th>\n",
              "      <td>-0.560210</td>\n",
              "      <td>1.062971</td>\n",
              "      <td>0.700149</td>\n",
              "      <td>-2.138059</td>\n",
              "    </tr>\n",
              "  </tbody>\n",
              "</table>\n",
              "</div>"
            ],
            "text/plain": [
              "                   A         B         C         D\n",
              "2020-10-21  0.101432  0.204162 -0.969108  1.123149\n",
              "2020-10-22 -0.046813  0.618827 -0.214207  0.841476\n",
              "2020-10-23  0.619177 -2.047334 -0.052190  2.604018\n",
              "2020-10-24  0.417396  0.461080 -2.584827  0.096725\n",
              "2020-10-25 -0.119892  1.469900 -1.928688  0.738520\n",
              "2020-10-26 -0.560210  1.062971  0.700149 -2.138059"
            ]
          },
          "metadata": {
            "tags": []
          },
          "execution_count": 94
        }
      ]
    },
    {
      "cell_type": "code",
      "metadata": {
        "id": "uTAEpeZZLY3v",
        "outputId": "7ff5f41b-4aa1-4651-9c5b-915f1bf46d19",
        "colab": {
          "base_uri": "https://localhost:8080/",
          "height": 111
        }
      },
      "source": [
        "df2['E'] = ['one', 'one', 'two', 'three', 'four', 'three']\n",
        "df2\n",
        "df2[df2['E'].isin(['two', 'four'])]"
      ],
      "execution_count": 95,
      "outputs": [
        {
          "output_type": "execute_result",
          "data": {
            "text/html": [
              "<div>\n",
              "<style scoped>\n",
              "    .dataframe tbody tr th:only-of-type {\n",
              "        vertical-align: middle;\n",
              "    }\n",
              "\n",
              "    .dataframe tbody tr th {\n",
              "        vertical-align: top;\n",
              "    }\n",
              "\n",
              "    .dataframe thead th {\n",
              "        text-align: right;\n",
              "    }\n",
              "</style>\n",
              "<table border=\"1\" class=\"dataframe\">\n",
              "  <thead>\n",
              "    <tr style=\"text-align: right;\">\n",
              "      <th></th>\n",
              "      <th>A</th>\n",
              "      <th>B</th>\n",
              "      <th>C</th>\n",
              "      <th>D</th>\n",
              "      <th>E</th>\n",
              "    </tr>\n",
              "  </thead>\n",
              "  <tbody>\n",
              "    <tr>\n",
              "      <th>2020-10-23</th>\n",
              "      <td>0.619177</td>\n",
              "      <td>-2.047334</td>\n",
              "      <td>-0.052190</td>\n",
              "      <td>2.604018</td>\n",
              "      <td>two</td>\n",
              "    </tr>\n",
              "    <tr>\n",
              "      <th>2020-10-25</th>\n",
              "      <td>-0.119892</td>\n",
              "      <td>1.469900</td>\n",
              "      <td>-1.928688</td>\n",
              "      <td>0.738520</td>\n",
              "      <td>four</td>\n",
              "    </tr>\n",
              "  </tbody>\n",
              "</table>\n",
              "</div>"
            ],
            "text/plain": [
              "                   A         B         C         D     E\n",
              "2020-10-23  0.619177 -2.047334 -0.052190  2.604018   two\n",
              "2020-10-25 -0.119892  1.469900 -1.928688  0.738520  four"
            ]
          },
          "metadata": {
            "tags": []
          },
          "execution_count": 95
        }
      ]
    }
  ]
}