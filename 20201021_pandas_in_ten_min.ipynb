{
  "nbformat": 4,
  "nbformat_minor": 0,
  "metadata": {
    "colab": {
      "name": "20201021_pandas_in_ten_min.ipynb",
      "provenance": [],
      "authorship_tag": "ABX9TyM75SPW34GLJB48WeL+QD+V",
      "include_colab_link": true
    },
    "kernelspec": {
      "name": "python3",
      "display_name": "Python 3"
    }
  },
  "cells": [
    {
      "cell_type": "markdown",
      "metadata": {
        "id": "view-in-github",
        "colab_type": "text"
      },
      "source": [
        "<a href=\"https://colab.research.google.com/github/Rainbowpen/AI_and_security_2020/blob/master/20201021_pandas_in_ten_min.ipynb\" target=\"_parent\"><img src=\"https://colab.research.google.com/assets/colab-badge.svg\" alt=\"Open In Colab\"/></a>"
      ]
    },
    {
      "cell_type": "markdown",
      "metadata": {
        "id": "GtpEHaFxHv5M"
      },
      "source": [
        "# pandas in ten min 2020/10/21\n",
        "### import what we need."
      ]
    },
    {
      "cell_type": "code",
      "metadata": {
        "id": "sOnb166A1Lqb"
      },
      "source": [
        "\n",
        "import pandas as pd\n",
        "import numpy as np\n"
      ],
      "execution_count": 3,
      "outputs": []
    },
    {
      "cell_type": "markdown",
      "metadata": {
        "id": "lH_lR4i4G9B1"
      },
      "source": [
        "### pd.Series()"
      ]
    },
    {
      "cell_type": "code",
      "metadata": {
        "id": "GDfZt70k1kD3",
        "outputId": "41ee4b78-e791-4989-d58b-e6a7c1bf7445",
        "colab": {
          "base_uri": "https://localhost:8080/",
          "height": 136
        }
      },
      "source": [
        "s = pd.Series([1, 3, 5, np.nan, 6, 8])\n",
        "s"
      ],
      "execution_count": 4,
      "outputs": [
        {
          "output_type": "execute_result",
          "data": {
            "text/plain": [
              "0    1.0\n",
              "1    3.0\n",
              "2    5.0\n",
              "3    NaN\n",
              "4    6.0\n",
              "5    8.0\n",
              "dtype: float64"
            ]
          },
          "metadata": {
            "tags": []
          },
          "execution_count": 4
        }
      ]
    },
    {
      "cell_type": "markdown",
      "metadata": {
        "id": "QckdfDjaGo3L"
      },
      "source": [
        "### pd.date_range(\"date_index1_format_in_yyyymmdd\", index_size)"
      ]
    },
    {
      "cell_type": "code",
      "metadata": {
        "id": "fTOOpzmP1zRm",
        "outputId": "1214e25c-315c-449f-e0f7-b7363ae2f4bc",
        "colab": {
          "base_uri": "https://localhost:8080/",
          "height": 68
        }
      },
      "source": [
        "dates = pd.date_range('20201021', periods=6)\n",
        "dates"
      ],
      "execution_count": 7,
      "outputs": [
        {
          "output_type": "execute_result",
          "data": {
            "text/plain": [
              "DatetimeIndex(['2020-10-21', '2020-10-22', '2020-10-23', '2020-10-24',\n",
              "               '2020-10-25', '2020-10-26'],\n",
              "              dtype='datetime64[ns]', freq='D')"
            ]
          },
          "metadata": {
            "tags": []
          },
          "execution_count": 7
        }
      ]
    },
    {
      "cell_type": "code",
      "metadata": {
        "id": "dz0BaajU1_U3",
        "outputId": "eb161bdd-e50b-45b5-c98a-d8eca9e38f02",
        "colab": {
          "base_uri": "https://localhost:8080/",
          "height": 235
        }
      },
      "source": [
        "df = pd.DataFrame(np.random.randn(6, 4), index=dates, columns=list('ABCD'))\n",
        "df"
      ],
      "execution_count": 8,
      "outputs": [
        {
          "output_type": "execute_result",
          "data": {
            "text/html": [
              "<div>\n",
              "<style scoped>\n",
              "    .dataframe tbody tr th:only-of-type {\n",
              "        vertical-align: middle;\n",
              "    }\n",
              "\n",
              "    .dataframe tbody tr th {\n",
              "        vertical-align: top;\n",
              "    }\n",
              "\n",
              "    .dataframe thead th {\n",
              "        text-align: right;\n",
              "    }\n",
              "</style>\n",
              "<table border=\"1\" class=\"dataframe\">\n",
              "  <thead>\n",
              "    <tr style=\"text-align: right;\">\n",
              "      <th></th>\n",
              "      <th>A</th>\n",
              "      <th>B</th>\n",
              "      <th>C</th>\n",
              "      <th>D</th>\n",
              "    </tr>\n",
              "  </thead>\n",
              "  <tbody>\n",
              "    <tr>\n",
              "      <th>2020-10-21</th>\n",
              "      <td>-1.294156</td>\n",
              "      <td>0.589888</td>\n",
              "      <td>-1.003934</td>\n",
              "      <td>-0.841057</td>\n",
              "    </tr>\n",
              "    <tr>\n",
              "      <th>2020-10-22</th>\n",
              "      <td>-0.574704</td>\n",
              "      <td>-0.105710</td>\n",
              "      <td>-0.181293</td>\n",
              "      <td>-0.816070</td>\n",
              "    </tr>\n",
              "    <tr>\n",
              "      <th>2020-10-23</th>\n",
              "      <td>-1.017676</td>\n",
              "      <td>-0.254178</td>\n",
              "      <td>-0.848883</td>\n",
              "      <td>-0.575096</td>\n",
              "    </tr>\n",
              "    <tr>\n",
              "      <th>2020-10-24</th>\n",
              "      <td>-0.400351</td>\n",
              "      <td>-1.016167</td>\n",
              "      <td>0.577274</td>\n",
              "      <td>1.411828</td>\n",
              "    </tr>\n",
              "    <tr>\n",
              "      <th>2020-10-25</th>\n",
              "      <td>0.065043</td>\n",
              "      <td>0.733899</td>\n",
              "      <td>0.209262</td>\n",
              "      <td>-0.153606</td>\n",
              "    </tr>\n",
              "    <tr>\n",
              "      <th>2020-10-26</th>\n",
              "      <td>-1.572219</td>\n",
              "      <td>0.298818</td>\n",
              "      <td>1.198155</td>\n",
              "      <td>-1.900943</td>\n",
              "    </tr>\n",
              "  </tbody>\n",
              "</table>\n",
              "</div>"
            ],
            "text/plain": [
              "                   A         B         C         D\n",
              "2020-10-21 -1.294156  0.589888 -1.003934 -0.841057\n",
              "2020-10-22 -0.574704 -0.105710 -0.181293 -0.816070\n",
              "2020-10-23 -1.017676 -0.254178 -0.848883 -0.575096\n",
              "2020-10-24 -0.400351 -1.016167  0.577274  1.411828\n",
              "2020-10-25  0.065043  0.733899  0.209262 -0.153606\n",
              "2020-10-26 -1.572219  0.298818  1.198155 -1.900943"
            ]
          },
          "metadata": {
            "tags": []
          },
          "execution_count": 8
        }
      ]
    },
    {
      "cell_type": "code",
      "metadata": {
        "id": "rYCi7fFa3hxW",
        "outputId": "63e0aa7d-7d5b-43b9-bd59-66b1c1d060c8",
        "colab": {
          "base_uri": "https://localhost:8080/",
          "height": 173
        }
      },
      "source": [
        " df2 = pd.DataFrame({'A': 1.,\n",
        "            'B': pd.Timestamp('20201021'),\n",
        "            'C': pd.Series(1, index=list(range(4)), dtype='float32'),\n",
        "            'D': np.array([3] * 4, dtype='int32'),\n",
        "            'E': pd.Categorical([\"test\", \"train\", \"test\", \"train\"]),\n",
        "            'F': 'foo'})\n",
        "df2\n"
      ],
      "execution_count": 10,
      "outputs": [
        {
          "output_type": "execute_result",
          "data": {
            "text/html": [
              "<div>\n",
              "<style scoped>\n",
              "    .dataframe tbody tr th:only-of-type {\n",
              "        vertical-align: middle;\n",
              "    }\n",
              "\n",
              "    .dataframe tbody tr th {\n",
              "        vertical-align: top;\n",
              "    }\n",
              "\n",
              "    .dataframe thead th {\n",
              "        text-align: right;\n",
              "    }\n",
              "</style>\n",
              "<table border=\"1\" class=\"dataframe\">\n",
              "  <thead>\n",
              "    <tr style=\"text-align: right;\">\n",
              "      <th></th>\n",
              "      <th>A</th>\n",
              "      <th>B</th>\n",
              "      <th>C</th>\n",
              "      <th>D</th>\n",
              "      <th>E</th>\n",
              "      <th>F</th>\n",
              "    </tr>\n",
              "  </thead>\n",
              "  <tbody>\n",
              "    <tr>\n",
              "      <th>0</th>\n",
              "      <td>1.0</td>\n",
              "      <td>2020-10-21</td>\n",
              "      <td>1.0</td>\n",
              "      <td>3</td>\n",
              "      <td>test</td>\n",
              "      <td>foo</td>\n",
              "    </tr>\n",
              "    <tr>\n",
              "      <th>1</th>\n",
              "      <td>1.0</td>\n",
              "      <td>2020-10-21</td>\n",
              "      <td>1.0</td>\n",
              "      <td>3</td>\n",
              "      <td>train</td>\n",
              "      <td>foo</td>\n",
              "    </tr>\n",
              "    <tr>\n",
              "      <th>2</th>\n",
              "      <td>1.0</td>\n",
              "      <td>2020-10-21</td>\n",
              "      <td>1.0</td>\n",
              "      <td>3</td>\n",
              "      <td>test</td>\n",
              "      <td>foo</td>\n",
              "    </tr>\n",
              "    <tr>\n",
              "      <th>3</th>\n",
              "      <td>1.0</td>\n",
              "      <td>2020-10-21</td>\n",
              "      <td>1.0</td>\n",
              "      <td>3</td>\n",
              "      <td>train</td>\n",
              "      <td>foo</td>\n",
              "    </tr>\n",
              "  </tbody>\n",
              "</table>\n",
              "</div>"
            ],
            "text/plain": [
              "     A          B    C  D      E    F\n",
              "0  1.0 2020-10-21  1.0  3   test  foo\n",
              "1  1.0 2020-10-21  1.0  3  train  foo\n",
              "2  1.0 2020-10-21  1.0  3   test  foo\n",
              "3  1.0 2020-10-21  1.0  3  train  foo"
            ]
          },
          "metadata": {
            "tags": []
          },
          "execution_count": 10
        }
      ]
    },
    {
      "cell_type": "markdown",
      "metadata": {
        "id": "t3YRXMejGbeO"
      },
      "source": [
        "### pd.dtypes\n",
        "display types with columns"
      ]
    },
    {
      "cell_type": "code",
      "metadata": {
        "id": "dmekYYr3DfpF",
        "outputId": "d0082e40-896d-4002-92e1-6c96293a9598",
        "colab": {
          "base_uri": "https://localhost:8080/",
          "height": 136
        }
      },
      "source": [
        "df2.dtypes"
      ],
      "execution_count": 25,
      "outputs": [
        {
          "output_type": "execute_result",
          "data": {
            "text/plain": [
              "A           float64\n",
              "B    datetime64[ns]\n",
              "C           float32\n",
              "D             int32\n",
              "E          category\n",
              "F            object\n",
              "dtype: object"
            ]
          },
          "metadata": {
            "tags": []
          },
          "execution_count": 25
        }
      ]
    },
    {
      "cell_type": "markdown",
      "metadata": {
        "id": "XeRGLAL3GWs7"
      },
      "source": [
        "### pd.head(index_from_head)"
      ]
    },
    {
      "cell_type": "code",
      "metadata": {
        "id": "GnpBuvPzD4SB",
        "outputId": "8b11a7c2-4f45-49e1-e464-29bdbcac701e",
        "colab": {
          "base_uri": "https://localhost:8080/",
          "height": 111
        }
      },
      "source": [
        "df2.head(2)"
      ],
      "execution_count": 26,
      "outputs": [
        {
          "output_type": "execute_result",
          "data": {
            "text/html": [
              "<div>\n",
              "<style scoped>\n",
              "    .dataframe tbody tr th:only-of-type {\n",
              "        vertical-align: middle;\n",
              "    }\n",
              "\n",
              "    .dataframe tbody tr th {\n",
              "        vertical-align: top;\n",
              "    }\n",
              "\n",
              "    .dataframe thead th {\n",
              "        text-align: right;\n",
              "    }\n",
              "</style>\n",
              "<table border=\"1\" class=\"dataframe\">\n",
              "  <thead>\n",
              "    <tr style=\"text-align: right;\">\n",
              "      <th></th>\n",
              "      <th>A</th>\n",
              "      <th>B</th>\n",
              "      <th>C</th>\n",
              "      <th>D</th>\n",
              "      <th>E</th>\n",
              "      <th>F</th>\n",
              "    </tr>\n",
              "  </thead>\n",
              "  <tbody>\n",
              "    <tr>\n",
              "      <th>0</th>\n",
              "      <td>1.0</td>\n",
              "      <td>2020-10-21</td>\n",
              "      <td>1.0</td>\n",
              "      <td>3</td>\n",
              "      <td>test</td>\n",
              "      <td>foo</td>\n",
              "    </tr>\n",
              "    <tr>\n",
              "      <th>1</th>\n",
              "      <td>1.0</td>\n",
              "      <td>2020-10-21</td>\n",
              "      <td>1.0</td>\n",
              "      <td>3</td>\n",
              "      <td>train</td>\n",
              "      <td>foo</td>\n",
              "    </tr>\n",
              "  </tbody>\n",
              "</table>\n",
              "</div>"
            ],
            "text/plain": [
              "     A          B    C  D      E    F\n",
              "0  1.0 2020-10-21  1.0  3   test  foo\n",
              "1  1.0 2020-10-21  1.0  3  train  foo"
            ]
          },
          "metadata": {
            "tags": []
          },
          "execution_count": 26
        }
      ]
    },
    {
      "cell_type": "markdown",
      "metadata": {
        "id": "TYW1zd1yFx-a"
      },
      "source": [
        "### pd.tail(index_from_tail)"
      ]
    },
    {
      "cell_type": "code",
      "metadata": {
        "id": "XMWgZGvkD7mm",
        "outputId": "514f2d2d-b01e-456d-e7b7-a3f1bec7af56",
        "colab": {
          "base_uri": "https://localhost:8080/",
          "height": 111
        }
      },
      "source": [
        "df2.tail(2)"
      ],
      "execution_count": 28,
      "outputs": [
        {
          "output_type": "execute_result",
          "data": {
            "text/html": [
              "<div>\n",
              "<style scoped>\n",
              "    .dataframe tbody tr th:only-of-type {\n",
              "        vertical-align: middle;\n",
              "    }\n",
              "\n",
              "    .dataframe tbody tr th {\n",
              "        vertical-align: top;\n",
              "    }\n",
              "\n",
              "    .dataframe thead th {\n",
              "        text-align: right;\n",
              "    }\n",
              "</style>\n",
              "<table border=\"1\" class=\"dataframe\">\n",
              "  <thead>\n",
              "    <tr style=\"text-align: right;\">\n",
              "      <th></th>\n",
              "      <th>A</th>\n",
              "      <th>B</th>\n",
              "      <th>C</th>\n",
              "      <th>D</th>\n",
              "      <th>E</th>\n",
              "      <th>F</th>\n",
              "    </tr>\n",
              "  </thead>\n",
              "  <tbody>\n",
              "    <tr>\n",
              "      <th>2</th>\n",
              "      <td>1.0</td>\n",
              "      <td>2020-10-21</td>\n",
              "      <td>1.0</td>\n",
              "      <td>3</td>\n",
              "      <td>test</td>\n",
              "      <td>foo</td>\n",
              "    </tr>\n",
              "    <tr>\n",
              "      <th>3</th>\n",
              "      <td>1.0</td>\n",
              "      <td>2020-10-21</td>\n",
              "      <td>1.0</td>\n",
              "      <td>3</td>\n",
              "      <td>train</td>\n",
              "      <td>foo</td>\n",
              "    </tr>\n",
              "  </tbody>\n",
              "</table>\n",
              "</div>"
            ],
            "text/plain": [
              "     A          B    C  D      E    F\n",
              "2  1.0 2020-10-21  1.0  3   test  foo\n",
              "3  1.0 2020-10-21  1.0  3  train  foo"
            ]
          },
          "metadata": {
            "tags": []
          },
          "execution_count": 28
        }
      ]
    },
    {
      "cell_type": "markdown",
      "metadata": {
        "id": "zkTLiv08FvqZ"
      },
      "source": [
        "### pd.index"
      ]
    },
    {
      "cell_type": "code",
      "metadata": {
        "id": "qNvPJxqbEIiV",
        "outputId": "fba1d9b2-d4a2-4654-e86c-ae804f8d880b",
        "colab": {
          "base_uri": "https://localhost:8080/",
          "height": 34
        }
      },
      "source": [
        "df2.index"
      ],
      "execution_count": 29,
      "outputs": [
        {
          "output_type": "execute_result",
          "data": {
            "text/plain": [
              "Int64Index([0, 1, 2, 3], dtype='int64')"
            ]
          },
          "metadata": {
            "tags": []
          },
          "execution_count": 29
        }
      ]
    },
    {
      "cell_type": "markdown",
      "metadata": {
        "id": "Dpv3DhopFkTI"
      },
      "source": [
        "### pd.columns"
      ]
    },
    {
      "cell_type": "code",
      "metadata": {
        "id": "kQIRl7NxESt_",
        "outputId": "3e269dc6-44f8-42c9-f430-575f250f6dd0",
        "colab": {
          "base_uri": "https://localhost:8080/",
          "height": 34
        }
      },
      "source": [
        "df2.columns"
      ],
      "execution_count": 30,
      "outputs": [
        {
          "output_type": "execute_result",
          "data": {
            "text/plain": [
              "Index(['A', 'B', 'C', 'D', 'E', 'F'], dtype='object')"
            ]
          },
          "metadata": {
            "tags": []
          },
          "execution_count": 30
        }
      ]
    },
    {
      "cell_type": "markdown",
      "metadata": {
        "id": "cGLN40NXFdMu"
      },
      "source": [
        "### pd.to_numpy()"
      ]
    },
    {
      "cell_type": "code",
      "metadata": {
        "id": "WU97fNGoEe7_",
        "outputId": "90ea47dd-f567-4807-b91c-a59208880d43",
        "colab": {
          "base_uri": "https://localhost:8080/",
          "height": 119
        }
      },
      "source": [
        "df.to_numpy()\n",
        "\n"
      ],
      "execution_count": 32,
      "outputs": [
        {
          "output_type": "execute_result",
          "data": {
            "text/plain": [
              "array([[-1.29415593,  0.58988792, -1.00393381, -0.84105659],\n",
              "       [-0.5747036 , -0.10571024, -0.18129286, -0.81607017],\n",
              "       [-1.01767579, -0.25417767, -0.84888336, -0.57509628],\n",
              "       [-0.40035127, -1.01616662,  0.57727374,  1.41182777],\n",
              "       [ 0.0650427 ,  0.73389925,  0.20926172, -0.15360621],\n",
              "       [-1.57221876,  0.29881846,  1.19815517, -1.90094292]])"
            ]
          },
          "metadata": {
            "tags": []
          },
          "execution_count": 32
        }
      ]
    },
    {
      "cell_type": "code",
      "metadata": {
        "id": "LiGp5J2hEjzh",
        "outputId": "3bbd98d0-0877-499a-de88-18948cfda899",
        "colab": {
          "base_uri": "https://localhost:8080/",
          "height": 102
        }
      },
      "source": [
        "df2.to_numpy()"
      ],
      "execution_count": 36,
      "outputs": [
        {
          "output_type": "execute_result",
          "data": {
            "text/plain": [
              "array([[1.0, Timestamp('2020-10-21 00:00:00'), 1.0, 3, 'test', 'foo'],\n",
              "       [1.0, Timestamp('2020-10-21 00:00:00'), 1.0, 3, 'train', 'foo'],\n",
              "       [1.0, Timestamp('2020-10-21 00:00:00'), 1.0, 3, 'test', 'foo'],\n",
              "       [1.0, Timestamp('2020-10-21 00:00:00'), 1.0, 3, 'train', 'foo']],\n",
              "      dtype=object)"
            ]
          },
          "metadata": {
            "tags": []
          },
          "execution_count": 36
        }
      ]
    },
    {
      "cell_type": "markdown",
      "metadata": {
        "id": "ebpijZ2jFYiB"
      },
      "source": [
        "### pd.describe()"
      ]
    },
    {
      "cell_type": "code",
      "metadata": {
        "id": "fkNCPuwjEo5u",
        "outputId": "74b20956-e232-45d8-daff-ef7285c5aa97",
        "colab": {
          "base_uri": "https://localhost:8080/",
          "height": 297
        }
      },
      "source": [
        "df.describe()"
      ],
      "execution_count": 35,
      "outputs": [
        {
          "output_type": "execute_result",
          "data": {
            "text/html": [
              "<div>\n",
              "<style scoped>\n",
              "    .dataframe tbody tr th:only-of-type {\n",
              "        vertical-align: middle;\n",
              "    }\n",
              "\n",
              "    .dataframe tbody tr th {\n",
              "        vertical-align: top;\n",
              "    }\n",
              "\n",
              "    .dataframe thead th {\n",
              "        text-align: right;\n",
              "    }\n",
              "</style>\n",
              "<table border=\"1\" class=\"dataframe\">\n",
              "  <thead>\n",
              "    <tr style=\"text-align: right;\">\n",
              "      <th></th>\n",
              "      <th>A</th>\n",
              "      <th>B</th>\n",
              "      <th>C</th>\n",
              "      <th>D</th>\n",
              "    </tr>\n",
              "  </thead>\n",
              "  <tbody>\n",
              "    <tr>\n",
              "      <th>count</th>\n",
              "      <td>6.000000</td>\n",
              "      <td>6.000000</td>\n",
              "      <td>6.000000</td>\n",
              "      <td>6.000000</td>\n",
              "    </tr>\n",
              "    <tr>\n",
              "      <th>mean</th>\n",
              "      <td>-0.799010</td>\n",
              "      <td>0.041092</td>\n",
              "      <td>-0.008237</td>\n",
              "      <td>-0.479157</td>\n",
              "    </tr>\n",
              "    <tr>\n",
              "      <th>std</th>\n",
              "      <td>0.607728</td>\n",
              "      <td>0.644067</td>\n",
              "      <td>0.845406</td>\n",
              "      <td>1.091510</td>\n",
              "    </tr>\n",
              "    <tr>\n",
              "      <th>min</th>\n",
              "      <td>-1.572219</td>\n",
              "      <td>-1.016167</td>\n",
              "      <td>-1.003934</td>\n",
              "      <td>-1.900943</td>\n",
              "    </tr>\n",
              "    <tr>\n",
              "      <th>25%</th>\n",
              "      <td>-1.225036</td>\n",
              "      <td>-0.217061</td>\n",
              "      <td>-0.681986</td>\n",
              "      <td>-0.834810</td>\n",
              "    </tr>\n",
              "    <tr>\n",
              "      <th>50%</th>\n",
              "      <td>-0.796190</td>\n",
              "      <td>0.096554</td>\n",
              "      <td>0.013984</td>\n",
              "      <td>-0.695583</td>\n",
              "    </tr>\n",
              "    <tr>\n",
              "      <th>75%</th>\n",
              "      <td>-0.443939</td>\n",
              "      <td>0.517121</td>\n",
              "      <td>0.485271</td>\n",
              "      <td>-0.258979</td>\n",
              "    </tr>\n",
              "    <tr>\n",
              "      <th>max</th>\n",
              "      <td>0.065043</td>\n",
              "      <td>0.733899</td>\n",
              "      <td>1.198155</td>\n",
              "      <td>1.411828</td>\n",
              "    </tr>\n",
              "  </tbody>\n",
              "</table>\n",
              "</div>"
            ],
            "text/plain": [
              "              A         B         C         D\n",
              "count  6.000000  6.000000  6.000000  6.000000\n",
              "mean  -0.799010  0.041092 -0.008237 -0.479157\n",
              "std    0.607728  0.644067  0.845406  1.091510\n",
              "min   -1.572219 -1.016167 -1.003934 -1.900943\n",
              "25%   -1.225036 -0.217061 -0.681986 -0.834810\n",
              "50%   -0.796190  0.096554  0.013984 -0.695583\n",
              "75%   -0.443939  0.517121  0.485271 -0.258979\n",
              "max    0.065043  0.733899  1.198155  1.411828"
            ]
          },
          "metadata": {
            "tags": []
          },
          "execution_count": 35
        }
      ]
    }
  ]
}