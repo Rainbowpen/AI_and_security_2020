{
  "nbformat": 4,
  "nbformat_minor": 0,
  "metadata": {
    "colab": {
      "name": "20201028_SQLAlchemy.ipynb",
      "provenance": [],
      "authorship_tag": "ABX9TyOvWxz8fHOJh+HvC9/w6h7/",
      "include_colab_link": true
    },
    "kernelspec": {
      "name": "python3",
      "display_name": "Python 3"
    }
  },
  "cells": [
    {
      "cell_type": "markdown",
      "metadata": {
        "id": "view-in-github",
        "colab_type": "text"
      },
      "source": [
        "<a href=\"https://colab.research.google.com/github/Rainbowpen/AI_and_security_2020/blob/master/20201028_SQLAlchemy.ipynb\" target=\"_parent\"><img src=\"https://colab.research.google.com/assets/colab-badge.svg\" alt=\"Open In Colab\"/></a>"
      ]
    },
    {
      "cell_type": "markdown",
      "metadata": {
        "id": "33BbSvPyTKSJ"
      },
      "source": [
        "# SQLAIchemy in python\n",
        "\n",
        "[original website](https://docs.sqlalchemy.org/en/13/orm/tutorial.html)"
      ]
    },
    {
      "cell_type": "code",
      "metadata": {
        "id": "AITUru9YTDyj"
      },
      "source": [
        ""
      ],
      "execution_count": null,
      "outputs": []
    }
  ]
}