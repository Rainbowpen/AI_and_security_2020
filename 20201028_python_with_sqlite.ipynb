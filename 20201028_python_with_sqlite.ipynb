{
  "nbformat": 4,
  "nbformat_minor": 0,
  "metadata": {
    "colab": {
      "name": "20201028_python_with_sqlite.ipynb",
      "provenance": [],
      "collapsed_sections": [],
      "authorship_tag": "ABX9TyPu/10W4WROVuLpQiSyR9Lw",
      "include_colab_link": true
    },
    "kernelspec": {
      "name": "python3",
      "display_name": "Python 3"
    }
  },
  "cells": [
    {
      "cell_type": "markdown",
      "metadata": {
        "id": "view-in-github",
        "colab_type": "text"
      },
      "source": [
        "<a href=\"https://colab.research.google.com/github/Rainbowpen/AI_and_security_2020/blob/master/20201028_python_with_sqlite.ipynb\" target=\"_parent\"><img src=\"https://colab.research.google.com/assets/colab-badge.svg\" alt=\"Open In Colab\"/></a>"
      ]
    },
    {
      "cell_type": "markdown",
      "metadata": {
        "id": "9xoibDoPUqrP"
      },
      "source": [
        "# Python with sqlite\n",
        "\n",
        "[original website](https://docs.python.org/3/library/sqlite3.html)"
      ]
    },
    {
      "cell_type": "code",
      "metadata": {
        "id": "YgRyFowFUDd8"
      },
      "source": [
        "import sqlite3\n",
        "conn = sqlite3.connect('example.db')"
      ],
      "execution_count": 1,
      "outputs": []
    },
    {
      "cell_type": "markdown",
      "metadata": {
        "id": "odQL8134VQoI"
      },
      "source": [
        "### Create table and insert data"
      ]
    },
    {
      "cell_type": "code",
      "metadata": {
        "id": "2GiiztV9VDmD"
      },
      "source": [
        "c = conn.cursor()\n",
        "\n",
        "# Create table\n",
        "c.execute('''CREATE TABLE stocks\n",
        "             (date text, trans text, symbol text, qty real, price real)''')\n",
        "\n",
        "# Insert a row of data\n",
        "c.execute(\"INSERT INTO stocks VALUES ('2020-10-28','BUY','NEW_COMPUTER',100,35.14)\")\n",
        "\n",
        "# Save (commit) the changes\n",
        "conn.commit()\n",
        "\n",
        "# We can also close the connection if we are done with it.\n",
        "# Just be sure any changes have been committed or they will be lost.\n",
        "conn.close()"
      ],
      "execution_count": 2,
      "outputs": []
    },
    {
      "cell_type": "markdown",
      "metadata": {
        "id": "c6RkWFlWVX5S"
      },
      "source": [
        "### Read data from your database, in this case is example.db"
      ]
    },
    {
      "cell_type": "code",
      "metadata": {
        "id": "YWjOle-UVkxW",
        "outputId": "11e1fb9c-b1b9-497d-ace5-954e0921f337",
        "colab": {
          "base_uri": "https://localhost:8080/",
          "height": 51
        }
      },
      "source": [
        "import sqlite3\n",
        "conn = sqlite3.connect('example.db')\n",
        "c = conn.cursor()\n",
        "\n",
        "# Never do this -- insecure!\n",
        "symbol = 'RHAT'\n",
        "c.execute(\"SELECT * FROM stocks WHERE symbol = '%s'\" % symbol)\n",
        "\n",
        "# Do this instead\n",
        "t = ('RHAT',)\n",
        "c.execute('SELECT * FROM stocks WHERE symbol=?', t)\n",
        "print(c.fetchone())\n",
        "\n",
        "# Larger example that inserts many records at a time\n",
        "purchases = [('2020-10-28', 'BUY', 'IBM', 1000, 45.00),\n",
        "             ('2020-10-28', 'BUY', 'MSFT', 1000, 72.00),\n",
        "             ('2020-10-28', 'SELL', 'IBM', 500, 53.00),\n",
        "            ]\n",
        "c.executemany('INSERT INTO stocks VALUES (?,?,?,?,?)', purchases)\n",
        "print(c.fetchone())"
      ],
      "execution_count": 3,
      "outputs": [
        {
          "output_type": "stream",
          "text": [
            "None\n",
            "None\n"
          ],
          "name": "stdout"
        }
      ]
    },
    {
      "cell_type": "markdown",
      "metadata": {
        "id": "gIM_RUmjWU3l"
      },
      "source": [
        "### List data "
      ]
    },
    {
      "cell_type": "code",
      "metadata": {
        "id": "te2yvlpJWXEJ",
        "outputId": "af749122-7eb4-448a-8752-e926c2057eef",
        "colab": {
          "base_uri": "https://localhost:8080/",
          "height": 85
        }
      },
      "source": [
        "for row in c.execute('SELECT * FROM stocks ORDER BY price'):\n",
        "    print(row)"
      ],
      "execution_count": 4,
      "outputs": [
        {
          "output_type": "stream",
          "text": [
            "('2020-10-28', 'BUY', 'NEW_COMPUTER', 100.0, 35.14)\n",
            "('2020-10-28', 'BUY', 'IBM', 1000.0, 45.0)\n",
            "('2020-10-28', 'SELL', 'IBM', 500.0, 53.0)\n",
            "('2020-10-28', 'BUY', 'MSFT', 1000.0, 72.0)\n"
          ],
          "name": "stdout"
        }
      ]
    }
  ]
}