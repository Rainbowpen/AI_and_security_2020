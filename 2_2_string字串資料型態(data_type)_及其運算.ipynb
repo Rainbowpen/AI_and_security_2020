{
  "nbformat": 4,
  "nbformat_minor": 0,
  "metadata": {
    "colab": {
      "name": "2_2_string字串資料型態(data type) 及其運算.ipynb",
      "provenance": [],
      "collapsed_sections": [],
      "authorship_tag": "ABX9TyOYfz614fyIC1ibCYOvdMYu",
      "include_colab_link": true
    },
    "kernelspec": {
      "name": "python3",
      "display_name": "Python 3"
    }
  },
  "cells": [
    {
      "cell_type": "markdown",
      "metadata": {
        "id": "view-in-github",
        "colab_type": "text"
      },
      "source": [
        "<a href=\"https://colab.research.google.com/github/Rainbowpen/AI_and_security_2020/blob/master/2_2_string%E5%AD%97%E4%B8%B2%E8%B3%87%E6%96%99%E5%9E%8B%E6%85%8B(data_type)_%E5%8F%8A%E5%85%B6%E9%81%8B%E7%AE%97.ipynb\" target=\"_parent\"><img src=\"https://colab.research.google.com/assets/colab-badge.svg\" alt=\"Open In Colab\"/></a>"
      ]
    },
    {
      "cell_type": "code",
      "metadata": {
        "id": "f3d6bxLIhDqr",
        "colab_type": "code",
        "colab": {}
      },
      "source": [
        ""
      ],
      "execution_count": 15,
      "outputs": []
    },
    {
      "cell_type": "markdown",
      "metadata": {
        "id": "DF0x20fzhNUn",
        "colab_type": "text"
      },
      "source": [
        "#2_2_string字串資料型態(data type) 及其運算\n",
        "---\n",
        "```\n",
        "[1]string字串 資料型態(data type) \n",
        "[2]string字串的運算\n",
        "[3]Python内建的字串函数(Built-in String Methods)\n",
        "```"
      ]
    },
    {
      "cell_type": "markdown",
      "metadata": {
        "id": "tz868bAuhXMm",
        "colab_type": "text"
      },
      "source": [
        "#[1]string字串 資料型態(data type)\n",
        "---\n",
        "```\n",
        "Python 字串資料型態 (str) \n",
        "\n",
        "變數值以一對雙引號 (「\"」)或單引號 (「'」)\n",
        "```"
      ]
    },
    {
      "cell_type": "code",
      "metadata": {
        "id": "WRC12Ge_hfIG",
        "colab_type": "code",
        "colab": {
          "base_uri": "https://localhost:8080/",
          "height": 75
        },
        "outputId": "408bee8f-4aa3-4493-a6e6-6abef54502a7"
      },
      "source": [
        "str1 = '這是字串'\n",
        "print(str1)\n",
        "\n",
        "str2 = \"這也是字串\"\n",
        "print(str2)\n",
        "\n",
        "str3 = 'allows embedded \"double\" quotes'\n",
        "print(str3)"
      ],
      "execution_count": 16,
      "outputs": [
        {
          "output_type": "stream",
          "text": [
            "這是字串\n",
            "這也是字串\n",
            "allows embedded \"double\" quotes\n"
          ],
          "name": "stdout"
        }
      ]
    },
    {
      "cell_type": "markdown",
      "metadata": {
        "id": "P9k7zruwhhnd",
        "colab_type": "text"
      },
      "source": [
        "#[2]string字串的運算\n",
        "---\n",
        "####存取字串中的值: 使用方括號"
      ]
    },
    {
      "cell_type": "code",
      "metadata": {
        "id": "uv3RdM7dhsod",
        "colab_type": "code",
        "colab": {
          "base_uri": "https://localhost:8080/",
          "height": 56
        },
        "outputId": "72f6eb48-a4fc-41b5-fd20-87a5d7160f93"
      },
      "source": [
        "#!/usr/bin/python\n",
        " \n",
        "var1 = 'Hello Python!'\n",
        " \n",
        "print(\"var1[0]: \", var1[0])\n",
        "print(\"var1[1:8]: \", var1[1:8])"
      ],
      "execution_count": 17,
      "outputs": [
        {
          "output_type": "stream",
          "text": [
            "var1[0]:  H\n",
            "var1[1:8]:  ello Py\n"
          ],
          "name": "stdout"
        }
      ]
    },
    {
      "cell_type": "markdown",
      "metadata": {
        "id": "HIwyLDkTh6A4",
        "colab_type": "text"
      },
      "source": [
        "####字串的更新"
      ]
    },
    {
      "cell_type": "code",
      "metadata": {
        "id": "Fe2Fy93Eh8cG",
        "colab_type": "code",
        "colab": {
          "base_uri": "https://localhost:8080/",
          "height": 75
        },
        "outputId": "38e54529-34f3-46cc-88f9-cdc46ede221c"
      },
      "source": [
        "#!/usr/bin/python\n",
        "# -*- coding: UTF-8 -*-\n",
        " \n",
        "str1 = 'Hello World!'\n",
        "\n",
        "print(\"更新前的字串-> \", str1[:])\n",
        "print(\"更新前的字串(也可以這樣寫)-> \", str1)\n",
        "print(\"更新後的字串-> \", str1[:6] + 'Python!')"
      ],
      "execution_count": 18,
      "outputs": [
        {
          "output_type": "stream",
          "text": [
            "更新前的字串->  Hello World!\n",
            "更新前的字串(也可以這樣寫)->  Hello World!\n",
            "更新後的字串->  Hello Python!\n"
          ],
          "name": "stdout"
        }
      ]
    },
    {
      "cell_type": "markdown",
      "metadata": {
        "id": "ExeYdlYmh-hH",
        "colab_type": "text"
      },
      "source": [
        "####字串的加法運算"
      ]
    },
    {
      "cell_type": "code",
      "metadata": {
        "id": "-vYcVeQ0iA2Y",
        "colab_type": "code",
        "colab": {
          "base_uri": "https://localhost:8080/",
          "height": 36
        },
        "outputId": "24d28f6a-a4d8-45a0-9118-e927ff36e9c0"
      },
      "source": [
        "str4=str1 + str2\n",
        "print(str4)"
      ],
      "execution_count": 19,
      "outputs": [
        {
          "output_type": "stream",
          "text": [
            "Hello World!這也是字串\n"
          ],
          "name": "stdout"
        }
      ]
    },
    {
      "cell_type": "markdown",
      "metadata": {
        "id": "Lic1RYGUiCbJ",
        "colab_type": "text"
      },
      "source": [
        "####更多練習"
      ]
    },
    {
      "cell_type": "code",
      "metadata": {
        "id": "lAWg24yoiE1W",
        "colab_type": "code",
        "colab": {
          "base_uri": "https://localhost:8080/",
          "height": 36
        },
        "outputId": "72402929-8478-4f16-85d0-8920f18b1fe8"
      },
      "source": [
        "a='  Hello   '\n",
        "b='  Python ! '\n",
        "\n",
        "a+b\n",
        "\n",
        "a*2\n",
        "\n",
        "a[1:4]\n",
        "\n",
        "\"H\" in a\n",
        "\n",
        "\"H\" not in a"
      ],
      "execution_count": 20,
      "outputs": [
        {
          "output_type": "execute_result",
          "data": {
            "text/plain": [
              "False"
            ]
          },
          "metadata": {
            "tags": []
          },
          "execution_count": 20
        }
      ]
    },
    {
      "cell_type": "markdown",
      "metadata": {
        "id": "srvMWZcPiIUR",
        "colab_type": "text"
      },
      "source": [
        "#字串反轉\n",
        "---\n",
        "```\n",
        "Reverse string in Python (5 different ways)\n",
        "\n",
        "https://www.geeksforgeeks.org/reverse-string-python-5-different-ways/\n",
        "```"
      ]
    },
    {
      "cell_type": "code",
      "metadata": {
        "id": "GEWiMfKaiOA2",
        "colab_type": "code",
        "colab": {
          "base_uri": "https://localhost:8080/",
          "height": 56
        },
        "outputId": "f2ba7ee7-69f9-4038-ce35-cad1736ec0f9"
      },
      "source": [
        "def reverse(s): \n",
        "    if len(s) == 0: \n",
        "        return s \n",
        "    else: \n",
        "        return reverse(s[1:]) + s[0] \n",
        "  \n",
        "#s = \"HappyHackingDay\"\n",
        "s = \"BreakAllCTF{HappyHackingDay}\"\n",
        "\n",
        "print (\"The original string  is : \",end=\"\") \n",
        "print (s) \n",
        "  \n",
        "print (\"The reversed string(using recursion) is : \",end=\"\") \n",
        "print (reverse(s))"
      ],
      "execution_count": 21,
      "outputs": [
        {
          "output_type": "stream",
          "text": [
            "The original string  is : BreakAllCTF{HappyHackingDay}\n",
            "The reversed string(using recursion) is : }yaDgnikcaHyppaH{FTCllAkaerB\n"
          ],
          "name": "stdout"
        }
      ]
    },
    {
      "cell_type": "markdown",
      "metadata": {
        "id": "fQiO6J_jiQxP",
        "colab_type": "text"
      },
      "source": [
        "#[3]Python内建的字串函数(Built-in String Methods)\n",
        "---\n",
        "```\n",
        "底下以幾個常見的示範\n",
        "\n",
        "更多的練習請參考底下\n",
        "\n",
        "https://www.tutorialspoint.com/python/python_strings.htm\n",
        "```"
      ]
    },
    {
      "cell_type": "code",
      "metadata": {
        "id": "BZi00cxZiUce",
        "colab_type": "code",
        "colab": {
          "base_uri": "https://localhost:8080/",
          "height": 36
        },
        "outputId": "bcf4f522-abe4-41c5-c0ec-1972825a8909"
      },
      "source": [
        "str1='happy python day'\n",
        "str2='    Oh!   '\n",
        "str4=str1 + str2\n",
        "print(str4.capitalize())\n"
      ],
      "execution_count": 22,
      "outputs": [
        {
          "output_type": "stream",
          "text": [
            "Happy python day    oh!   \n"
          ],
          "name": "stdout"
        }
      ]
    },
    {
      "cell_type": "code",
      "metadata": {
        "id": "IPTfPhSmiVlg",
        "colab_type": "code",
        "colab": {
          "base_uri": "https://localhost:8080/",
          "height": 36
        },
        "outputId": "dd46ccd2-09c2-41a4-e04a-30b21b0d7350"
      },
      "source": [
        "mystr = 'python'\n",
        "str4.find(mystr)#, beg=0, end=len(str4))"
      ],
      "execution_count": 23,
      "outputs": [
        {
          "output_type": "execute_result",
          "data": {
            "text/plain": [
              "6"
            ]
          },
          "metadata": {
            "tags": []
          },
          "execution_count": 23
        }
      ]
    },
    {
      "cell_type": "code",
      "metadata": {
        "id": "TMGNuxZSiW4n",
        "colab_type": "code",
        "colab": {
          "base_uri": "https://localhost:8080/",
          "height": 178
        },
        "outputId": "fc87e20a-2da8-4505-dfa8-c7a0f817a981"
      },
      "source": [
        "print(str4.encode('base64'))"
      ],
      "execution_count": 24,
      "outputs": [
        {
          "output_type": "error",
          "ename": "LookupError",
          "evalue": "ignored",
          "traceback": [
            "\u001b[0;31m---------------------------------------------------------------------------\u001b[0m",
            "\u001b[0;31mLookupError\u001b[0m                               Traceback (most recent call last)",
            "\u001b[0;32m<ipython-input-24-e4c721e7034e>\u001b[0m in \u001b[0;36m<module>\u001b[0;34m()\u001b[0m\n\u001b[0;32m----> 1\u001b[0;31m \u001b[0mprint\u001b[0m\u001b[0;34m(\u001b[0m\u001b[0mstr4\u001b[0m\u001b[0;34m.\u001b[0m\u001b[0mencode\u001b[0m\u001b[0;34m(\u001b[0m\u001b[0;34m'base64'\u001b[0m\u001b[0;34m)\u001b[0m\u001b[0;34m)\u001b[0m\u001b[0;34m\u001b[0m\u001b[0;34m\u001b[0m\u001b[0m\n\u001b[0m",
            "\u001b[0;31mLookupError\u001b[0m: 'base64' is not a text encoding; use codecs.encode() to handle arbitrary codecs"
          ]
        }
      ]
    },
    {
      "cell_type": "markdown",
      "metadata": {
        "id": "iaWI6lSdiYMa",
        "colab_type": "text"
      },
      "source": [
        "####isalpha() :檢測字串是否只由字母組"
      ]
    },
    {
      "cell_type": "code",
      "metadata": {
        "id": "zf3uOEXAiZ2O",
        "colab_type": "code",
        "colab": {}
      },
      "source": [
        "#!/usr/bin/python\n",
        "# -*- coding: UTF-8 -*-\n",
        " \n",
        "str = \"Python2019\"\n",
        "print(str.isalpha())\n",
        "\n",
        "str = \"Python\"\n",
        "print(str.isalpha())"
      ],
      "execution_count": null,
      "outputs": []
    },
    {
      "cell_type": "markdown",
      "metadata": {
        "id": "iV8Nfnmiib0n",
        "colab_type": "text"
      },
      "source": [
        "####isalnum():檢測字串是否由字母和數位組成\n",
        "```\n",
        "如果 string 至少有一個字元並且所有字元都是字母或數字則返回 True,\n",
        "否則返回 False\n",
        "```"
      ]
    },
    {
      "cell_type": "code",
      "metadata": {
        "id": "S0KK1gGeifN-",
        "colab_type": "code",
        "colab": {}
      },
      "source": [
        "#!/usr/bin/python\n",
        "# -*- coding: UTF-8 -*-\n",
        " \n",
        "str = \"Python2019\"\n",
        "print(str.isalnum())\n",
        "\n",
        "str = \"Python\"\n",
        "print(str.isalnum())\n",
        "\n",
        "str = \"2019\"\n",
        "print(str.isalnum())\n",
        "\n",
        "str = \"Python 2019\"\n",
        "print(str.isalnum())\n"
      ],
      "execution_count": null,
      "outputs": []
    }
  ]
}