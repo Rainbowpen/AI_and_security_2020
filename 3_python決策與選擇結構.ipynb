{
  "nbformat": 4,
  "nbformat_minor": 0,
  "metadata": {
    "colab": {
      "name": "3_python決策與選擇結構.ipynb",
      "provenance": [],
      "collapsed_sections": [],
      "authorship_tag": "ABX9TyMUdbQvc2Hnr3SC0jDNUfl6",
      "include_colab_link": true
    },
    "kernelspec": {
      "name": "python3",
      "display_name": "Python 3"
    }
  },
  "cells": [
    {
      "cell_type": "markdown",
      "metadata": {
        "id": "view-in-github",
        "colab_type": "text"
      },
      "source": [
        "<a href=\"https://colab.research.google.com/github/Rainbowpen/AI_and_security_2020/blob/master/3_python%E6%B1%BA%E7%AD%96%E8%88%87%E9%81%B8%E6%93%87%E7%B5%90%E6%A7%8B.ipynb\" target=\"_parent\"><img src=\"https://colab.research.google.com/assets/colab-badge.svg\" alt=\"Open In Colab\"/></a>"
      ]
    },
    {
      "cell_type": "code",
      "metadata": {
        "id": "hOLLZv92lF7B",
        "colab_type": "code",
        "colab": {}
      },
      "source": [
        ""
      ],
      "execution_count": null,
      "outputs": []
    },
    {
      "cell_type": "markdown",
      "metadata": {
        "id": "97F2bnr-lKEa",
        "colab_type": "text"
      },
      "source": [
        "#python決策與選擇結構\n",
        "---\n",
        "```\n",
        "[1]if\n",
        "[2]if ...elsif\n",
        "[3]if ...else\n",
        "[4]if ...elsif ...else\n",
        "[5]各種判斷條件\n",
        "   AND\n",
        "   OR\n",
        "```\n",
        "```\n",
        "單向判斷式（if⋯）: 是非題｜對的才要做\n",
        "雙向判斷式（if⋯else）: 二選一｜一定要選的\n",
        "多向判斷式（if⋯elif⋯else）: 多選一｜一定要選的\n",
        "\n",
        "```\n",
        "```\n",
        "程式流程控制　之 選擇(判斷) SELECTION /DECISION\n",
        "Python 程式碼縮排\n",
        "Python 語言以冒號「:」及縮排來表示程式區塊\n",
        "縮排為 1 個 Tab 鍵或 4 個空白鍵\n",
        "PS: Python沒有switch\n",
        "\n",
        "https://www.w3schools.com/python/python_conditions.asp\n",
        "```"
      ]
    },
    {
      "cell_type": "markdown",
      "metadata": {
        "id": "_lxEz8URlSSf",
        "colab_type": "text"
      },
      "source": [
        "#[1]if\n",
        "---"
      ]
    },
    {
      "cell_type": "code",
      "metadata": {
        "id": "GdDkkrRvlUxY",
        "colab_type": "code",
        "colab": {
          "base_uri": "https://localhost:8080/",
          "height": 36
        },
        "outputId": "5fd18485-20dc-43a0-c079-b1c98a063ad5"
      },
      "source": [
        "a = 33\n",
        "b = 200\n",
        "\n",
        "if b > a:\n",
        "  print(\"b is greater than a\")\n"
      ],
      "execution_count": 1,
      "outputs": [
        {
          "output_type": "stream",
          "text": [
            "b is greater than a\n"
          ],
          "name": "stdout"
        }
      ]
    },
    {
      "cell_type": "code",
      "metadata": {
        "id": "Ze4lQqcSlWKQ",
        "colab_type": "code",
        "colab": {}
      },
      "source": [
        "a = 33\n",
        "b = 20\n",
        "\n",
        "if b > a:\n",
        "  print(\"b is greater than a\")"
      ],
      "execution_count": 2,
      "outputs": []
    },
    {
      "cell_type": "markdown",
      "metadata": {
        "id": "gZpQdaNTlXvQ",
        "colab_type": "text"
      },
      "source": [
        "#[2]if ...elsif\n",
        "---"
      ]
    },
    {
      "cell_type": "code",
      "metadata": {
        "id": "LTqK-vkXlZxH",
        "colab_type": "code",
        "colab": {
          "base_uri": "https://localhost:8080/",
          "height": 36
        },
        "outputId": "e8cb6e16-7501-420f-f0e0-b8895da9fc9b"
      },
      "source": [
        "a = 32\n",
        "b = 33\n",
        "\n",
        "if b > a:\n",
        "  print(\"b is greater than a\")\n",
        "elif a == b:\n",
        "  print(\"a and b are equal\")"
      ],
      "execution_count": 3,
      "outputs": [
        {
          "output_type": "stream",
          "text": [
            "b is greater than a\n"
          ],
          "name": "stdout"
        }
      ]
    },
    {
      "cell_type": "code",
      "metadata": {
        "id": "swQIGOgvlbZo",
        "colab_type": "code",
        "colab": {
          "base_uri": "https://localhost:8080/",
          "height": 36
        },
        "outputId": "268da7c0-40f1-4ebb-f421-40806bdd3fc4"
      },
      "source": [
        "a = 33\n",
        "b = 33\n",
        "if b > a:\n",
        "  print(\"b is greater than a\")\n",
        "elif a == b:\n",
        "  print(\"a and b are equal\")"
      ],
      "execution_count": 4,
      "outputs": [
        {
          "output_type": "stream",
          "text": [
            "a and b are equal\n"
          ],
          "name": "stdout"
        }
      ]
    },
    {
      "cell_type": "code",
      "metadata": {
        "id": "4RLhOf9yldGC",
        "colab_type": "code",
        "colab": {}
      },
      "source": [
        "a = 35\n",
        "b = 33\n",
        "\n",
        "if b > a:\n",
        "  print(\"b is greater than a\")\n",
        "elif a == b:\n",
        "  print(\"a and b are equal\")"
      ],
      "execution_count": 5,
      "outputs": []
    },
    {
      "cell_type": "markdown",
      "metadata": {
        "id": "Sh1UbONQle6f",
        "colab_type": "text"
      },
      "source": [
        "#雙向判斷式（if⋯else）: 二選一｜一定要選的\n",
        "---"
      ]
    },
    {
      "cell_type": "code",
      "metadata": {
        "id": "57LHzr3tlidn",
        "colab_type": "code",
        "colab": {
          "base_uri": "https://localhost:8080/",
          "height": 36
        },
        "outputId": "4d456336-5e83-469d-dba3-f09d1c77f07c"
      },
      "source": [
        "a = 200\n",
        "b = 33\n",
        "\n",
        "if b > a:\n",
        "  print(\"b is greater than a\")\n",
        "else:\n",
        "  print(\"b is not greater than a\")"
      ],
      "execution_count": 6,
      "outputs": [
        {
          "output_type": "stream",
          "text": [
            "b is not greater than a\n"
          ],
          "name": "stdout"
        }
      ]
    },
    {
      "cell_type": "markdown",
      "metadata": {
        "id": "xdtoWp7Slk9x",
        "colab_type": "text"
      },
      "source": [
        "#[4]if ...elsif ...else 多選一｜一定要選的\n",
        "---"
      ]
    },
    {
      "cell_type": "code",
      "metadata": {
        "id": "dzOcjfSzloOo",
        "colab_type": "code",
        "colab": {
          "base_uri": "https://localhost:8080/",
          "height": 36
        },
        "outputId": "7984404c-ce1f-46a7-a16d-88216e13a4d7"
      },
      "source": [
        "a = 200\n",
        "b = 33\n",
        "\n",
        "if b > a:\n",
        "  print(\"b is greater than a\")\n",
        "elif a == b:\n",
        "  print(\"a and b are equal\")\n",
        "else:\n",
        "  print(\"a is greater than b\")"
      ],
      "execution_count": 7,
      "outputs": [
        {
          "output_type": "stream",
          "text": [
            "a is greater than b\n"
          ],
          "name": "stdout"
        }
      ]
    },
    {
      "cell_type": "markdown",
      "metadata": {
        "id": "pbOklvRulqBu",
        "colab_type": "text"
      },
      "source": [
        "#[5]各種判斷條件 AND OR\n",
        "---\n",
        "```\n",
        "#判斷是否為閏年\n",
        "```"
      ]
    },
    {
      "cell_type": "code",
      "metadata": {
        "id": "pSIB3w7klx4p",
        "colab_type": "code",
        "colab": {
          "base_uri": "https://localhost:8080/",
          "height": 56
        },
        "outputId": "d68aa56f-566f-44cc-bf48-7ca4f48c6ae4"
      },
      "source": [
        "year= eval(input(\"請輸入年\"))\n",
        "\n",
        "if ((year%400==0) or (year%4==0 and year%100!=0)):\n",
        "  print(\"{0} 是閏年\".format(year))\n",
        "else:\n",
        "  print(\"{0} 不是閏年\".format(year))"
      ],
      "execution_count": 8,
      "outputs": [
        {
          "output_type": "stream",
          "text": [
            "請輸入年1999\n",
            "1999 不是閏年\n"
          ],
          "name": "stdout"
        }
      ]
    },
    {
      "cell_type": "markdown",
      "metadata": {
        "id": "ejSZOYM1lzjV",
        "colab_type": "text"
      },
      "source": [
        "#歲月匆匆程式開發\n",
        "---\n",
        "```\n",
        "輸入:年月日\n",
        "輸出:已經過了多少日\n",
        "```"
      ]
    },
    {
      "cell_type": "code",
      "metadata": {
        "id": "JH3Zt4Jcl4eQ",
        "colab_type": "code",
        "colab": {
          "base_uri": "https://localhost:8080/",
          "height": 36
        },
        "outputId": "e5b7b3fd-326c-4d3b-8386-2ffe66054507"
      },
      "source": [
        "import time\n",
        "\n",
        "date = time.localtime()\t\n",
        "print(date)"
      ],
      "execution_count": 9,
      "outputs": [
        {
          "output_type": "stream",
          "text": [
            "time.struct_time(tm_year=2020, tm_mon=9, tm_mday=20, tm_hour=13, tm_min=33, tm_sec=46, tm_wday=6, tm_yday=264, tm_isdst=0)\n"
          ],
          "name": "stdout"
        }
      ]
    },
    {
      "cell_type": "code",
      "metadata": {
        "id": "f1HAk0qNl55p",
        "colab_type": "code",
        "colab": {
          "base_uri": "https://localhost:8080/",
          "height": 56
        },
        "outputId": "76cd4a6d-128b-42fb-f321-1edadd08f153"
      },
      "source": [
        "year, month, day = eval(input(\"請輸入年月日\"))\n",
        "year, month, day\n",
        "\n",
        "#請輸入年月日2019,5,22\n",
        "#(2019, 5, 22)"
      ],
      "execution_count": 10,
      "outputs": [
        {
          "output_type": "stream",
          "text": [
            "請輸入年月日2019,5,22\n"
          ],
          "name": "stdout"
        },
        {
          "output_type": "execute_result",
          "data": {
            "text/plain": [
              "(2019, 5, 22)"
            ]
          },
          "metadata": {
            "tags": []
          },
          "execution_count": 10
        }
      ]
    },
    {
      "cell_type": "code",
      "metadata": {
        "id": "OF_f5xZAl_4w",
        "colab_type": "code",
        "colab": {
          "base_uri": "https://localhost:8080/",
          "height": 36
        },
        "outputId": "22b14c08-8672-45e8-9289-503f0010ddfd"
      },
      "source": [
        "import time\n",
        "\n",
        "\n",
        "date = time.localtime()\t\t#取得目前的日期時間\n",
        "year = date[0]\n",
        "month = date[1]\n",
        "day = date[2]\n",
        "\n",
        "year, month, day = eval(input(\"請輸入年月日::\"))"
      ],
      "execution_count": 11,
      "outputs": [
        {
          "output_type": "stream",
          "text": [
            "請輸入年月日::2020,1,8\n"
          ],
          "name": "stdout"
        }
      ]
    },
    {
      "cell_type": "code",
      "metadata": {
        "id": "gNXJhkvAmDXy",
        "colab_type": "code",
        "colab": {}
      },
      "source": [
        "day_month = [31, 28, 31, 30, 31, 30, 31, 31, 30, 31, 30, 31]\n",
        "\n",
        "if year%400==0 or (year%4==0 and year%100!=0):\t\n",
        "  day_month[1] = 29"
      ],
      "execution_count": 12,
      "outputs": []
    },
    {
      "cell_type": "code",
      "metadata": {
        "id": "u2pcfnbImEew",
        "colab_type": "code",
        "colab": {
          "base_uri": "https://localhost:8080/",
          "height": 36
        },
        "outputId": "1dddb5c6-a6ad-4ae3-de8e-60cd34970340"
      },
      "source": [
        "if month==1:\n",
        "    print(day)\n",
        "else:\n",
        "    print(sum(day_month[:month-1])+day)"
      ],
      "execution_count": 13,
      "outputs": [
        {
          "output_type": "stream",
          "text": [
            "8\n"
          ],
          "name": "stdout"
        }
      ]
    },
    {
      "cell_type": "markdown",
      "metadata": {
        "id": "cqXr4iACmGOh",
        "colab_type": "text"
      },
      "source": [
        "#多向判斷式（if⋯elif⋯else）:收銀台程式開發\n",
        "---\n",
        "```\n",
        "百貨公司週年慶活動血拼大打折，\n",
        "吸引很多顧客上門，\n",
        "公司決定再加碼回饋客戶，\n",
        "\n",
        "只要客戶消費\n",
        "金額在 100000 元以上就打八折，\n",
        "金額在 50000 元以上就打八五折，\n",
        "金額在 30000 元以上就打九折，\n",
        "金額在 10000 元以上就打九五折，\n",
        "金額在 10000 元以下就不打折\n",
        "\n",
        "請幫該公司設計這個收銀台的程式，\n",
        "輸入顧客購買金額後，計算顧客應付的金錢。\n",
        "```"
      ]
    },
    {
      "cell_type": "code",
      "metadata": {
        "id": "R8Co-PCDmKOJ",
        "colab_type": "code",
        "colab": {
          "base_uri": "https://localhost:8080/",
          "height": 56
        },
        "outputId": "dd9261a9-e897-4f12-b358-39bc5a8c81b4"
      },
      "source": [
        "money = int(input(\"請輸入購物金額：\"))\n",
        "\n",
        "if(money >= 10000):\n",
        "    if(money >= 100000):\n",
        "        print(money * 0.8, end=\" 元\\n\")  #八折\n",
        "    elif(money >= 50000):\n",
        "        print(money * 0.85, end=\" 元\\n\")  #八五折\n",
        "    elif(money >= 30000):\n",
        "        print(money * 0.9, end=\" 元\\n\")  #九折\n",
        "    else:\n",
        "        print(money * 0.95, end=\" 元\\n\")  #九五折\n",
        "else:\n",
        "    print(money, end=\" 元\\n\")  #未打折\n"
      ],
      "execution_count": 14,
      "outputs": [
        {
          "output_type": "stream",
          "text": [
            "請輸入購物金額：65535\n",
            "55704.75 元\n"
          ],
          "name": "stdout"
        }
      ]
    }
  ]
}