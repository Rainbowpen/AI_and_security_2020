{
  "nbformat": 4,
  "nbformat_minor": 0,
  "metadata": {
    "colab": {
      "name": "4_廻圈loop.ipynb",
      "provenance": [],
      "collapsed_sections": [],
      "authorship_tag": "ABX9TyOxesrnQ1cZdZOMmSHLIVtK",
      "include_colab_link": true
    },
    "kernelspec": {
      "name": "python3",
      "display_name": "Python 3"
    }
  },
  "cells": [
    {
      "cell_type": "markdown",
      "metadata": {
        "id": "view-in-github",
        "colab_type": "text"
      },
      "source": [
        "<a href=\"https://colab.research.google.com/github/Rainbowpen/AI_and_security_2020/blob/master/4_%E5%BB%BB%E5%9C%88loop.ipynb\" target=\"_parent\"><img src=\"https://colab.research.google.com/assets/colab-badge.svg\" alt=\"Open In Colab\"/></a>"
      ]
    },
    {
      "cell_type": "markdown",
      "metadata": {
        "id": "f8en771ymcmI"
      },
      "source": [
        "```\n",
        "課程目標：\n",
        "\n",
        "[1].使用range 函式 的功能建立整數循序數列\n",
        "\n",
        "[2].使用for 廻圈 執行固定次數的廻圈運算(通常)\n",
        "[3].使用while 廻圈執行沒有固定次數的廻圈運算\n",
        "\n",
        "[4].continue 指令 \n",
        "  是在廻圈執行中途暫時停住不往下執行，而跳到廻圈的起始處執行\n",
        "[5].break 指令:可在廻圈執行中途強迫跳離廻圈，跳到廻圈後面的程式繼續執行。\n",
        "\n",
        "[6].廻圈中又包含廻圈的巢狀廻圈(Nested Loop)　===>設計九九乘法表\n",
        "\n",
        "\n",
        "PS:Python沒有do… while 廻圈\n",
        "你自己實作一個吧?!!\n",
        "```"
      ]
    },
    {
      "cell_type": "markdown",
      "metadata": {
        "id": "jJLxsancmdyg"
      },
      "source": [
        "#range() 函式\n",
        "---\n",
        "```\n",
        " 使用range 函式 的建立整數循序數列\n",
        " \n",
        "變數1 = range(整數值)\n",
        "變數2 = range(起始值, 終止值)\n",
        "變數3 = range(起始值, 終止值, 多少間隔)\n",
        "\n",
        "```\n",
        "\n",
        "####變數1 = range(整數值)"
      ]
    },
    {
      "cell_type": "code",
      "metadata": {
        "id": "NZeXy-gLmlnA",
        "outputId": "b433d738-135a-4909-c1d3-55e872fdd390",
        "colab": {
          "base_uri": "https://localhost:8080/"
        }
      },
      "source": [
        "\n",
        "\n",
        "list1=range(10)\n",
        "print(list1)\n",
        "\n",
        "print(list(list1))\n"
      ],
      "execution_count": 1,
      "outputs": [
        {
          "output_type": "stream",
          "text": [
            "range(0, 10)\n",
            "[0, 1, 2, 3, 4, 5, 6, 7, 8, 9]\n"
          ],
          "name": "stdout"
        }
      ]
    },
    {
      "cell_type": "markdown",
      "metadata": {
        "id": "xxkKFoZ-mngR"
      },
      "source": [
        "####變數2 = range(起始值, 終止值)"
      ]
    },
    {
      "cell_type": "code",
      "metadata": {
        "id": "ov96i0tYmpf6",
        "outputId": "13bd5c19-9b88-4043-a62b-8831c9af43c6",
        "colab": {
          "base_uri": "https://localhost:8080/"
        }
      },
      "source": [
        "list2=range(-4,5)\n",
        "print(list(list2))"
      ],
      "execution_count": 2,
      "outputs": [
        {
          "output_type": "stream",
          "text": [
            "[-4, -3, -2, -1, 0, 1, 2, 3, 4]\n"
          ],
          "name": "stdout"
        }
      ]
    },
    {
      "cell_type": "markdown",
      "metadata": {
        "id": "F1g9POYYmq-Q"
      },
      "source": [
        "####變數3 = range(起始值, 終止值, 多少間隔)"
      ]
    },
    {
      "cell_type": "code",
      "metadata": {
        "id": "reKHjKbOmtGK",
        "outputId": "cdfd3350-6291-4c30-bfbb-3a414cec3eaa",
        "colab": {
          "base_uri": "https://localhost:8080/"
        }
      },
      "source": [
        "list3=range(-4,5,2)\n",
        "print(list(list3))"
      ],
      "execution_count": 3,
      "outputs": [
        {
          "output_type": "stream",
          "text": [
            "[-4, -2, 0, 2, 4]\n"
          ],
          "name": "stdout"
        }
      ]
    },
    {
      "cell_type": "code",
      "metadata": {
        "id": "CZGp-Mv-muRa",
        "outputId": "3fa91d11-b5a7-41bd-a8a7-e059e33c5096",
        "colab": {
          "base_uri": "https://localhost:8080/"
        }
      },
      "source": [
        "list4=range(-4,6,2)\n",
        "print(list(list4))\n"
      ],
      "execution_count": 4,
      "outputs": [
        {
          "output_type": "stream",
          "text": [
            "[-4, -2, 0, 2, 4]\n"
          ],
          "name": "stdout"
        }
      ]
    },
    {
      "cell_type": "markdown",
      "metadata": {
        "id": "JAuNLF4nmv8Q"
      },
      "source": [
        "#[2]for 廻圈\n",
        "---\n",
        "```\n",
        "使用for 廻圈 執行固定次數的廻圈運算(通常)\n",
        "```"
      ]
    },
    {
      "cell_type": "code",
      "metadata": {
        "id": "UTgbsN_FmzcZ",
        "outputId": "8e409220-abd2-4553-f1a9-7fb7948ad01e",
        "colab": {
          "base_uri": "https://localhost:8080/"
        }
      },
      "source": [
        "for n in range(5):\n",
        "  print(n)\n"
      ],
      "execution_count": 5,
      "outputs": [
        {
          "output_type": "stream",
          "text": [
            "0\n",
            "1\n",
            "2\n",
            "3\n",
            "4\n"
          ],
          "name": "stdout"
        }
      ]
    },
    {
      "cell_type": "code",
      "metadata": {
        "id": "j2YbCPntm1ad",
        "outputId": "88c37c20-f9bd-4294-9691-0ae4bb98c2d9",
        "colab": {
          "base_uri": "https://localhost:8080/"
        }
      },
      "source": [
        "for n in range(10):\n",
        "    print(n, end='@')\n",
        "\n",
        "    #print(n, end='%%%%')"
      ],
      "execution_count": 6,
      "outputs": [
        {
          "output_type": "stream",
          "text": [
            "0@1@2@3@4@5@6@7@8@9@"
          ],
          "name": "stdout"
        }
      ]
    },
    {
      "cell_type": "code",
      "metadata": {
        "id": "jFBzCHAHm2y6",
        "outputId": "2522b6bf-1e3e-4d37-f91d-820f34b187bc",
        "colab": {
          "base_uri": "https://localhost:8080/"
        }
      },
      "source": [
        "mysum = 0\n",
        "\n",
        "for n in range(5):\n",
        "  mysum += n\n",
        "  print(mysum)"
      ],
      "execution_count": 7,
      "outputs": [
        {
          "output_type": "stream",
          "text": [
            "0\n",
            "1\n",
            "3\n",
            "6\n",
            "10\n"
          ],
          "name": "stdout"
        }
      ]
    },
    {
      "cell_type": "code",
      "metadata": {
        "id": "duglVC0wm33w",
        "outputId": "0db4835e-2397-44fd-d0f1-ef692cd487b3",
        "colab": {
          "base_uri": "https://localhost:8080/"
        }
      },
      "source": [
        "mysum = 0\n",
        "\n",
        "for n in range(5):\n",
        "  mysum += n\n",
        "\n",
        "print(mysum)"
      ],
      "execution_count": 8,
      "outputs": [
        {
          "output_type": "stream",
          "text": [
            "10\n"
          ],
          "name": "stdout"
        }
      ]
    },
    {
      "cell_type": "code",
      "metadata": {
        "id": "VJej2Z1rm-ja",
        "outputId": "fc390ddc-fef4-488e-f0a9-b1d0c82b58de",
        "colab": {
          "base_uri": "https://localhost:8080/"
        }
      },
      "source": [
        "x = int(input(\"請輸入一個正整數:\"))\n",
        "mysum = 0\n",
        "\n",
        "for n in range(x):\n",
        "  mysum += n\n",
        "\n",
        "print(mysum)"
      ],
      "execution_count": 9,
      "outputs": [
        {
          "output_type": "stream",
          "text": [
            "請輸入一個正整數:123\n",
            "7503\n"
          ],
          "name": "stdout"
        }
      ]
    },
    {
      "cell_type": "markdown",
      "metadata": {
        "id": "MQs4Wpt2m_95"
      },
      "source": [
        "####[程式閱讀題]執行下列程式並說明其結果\n",
        "```\n",
        "底下程式如果第五行改成  if (number % 2 = 0):答案會是甚麼??\n",
        "\n",
        "numbers = [21, 4, 35, 1, 8, 7, 3, 6, 9]\n",
        "my_numbers = []\n",
        "\n",
        "for number in numbers:\n",
        "  if (number % 2 != 0): \n",
        "    my_numbers.append(number)\n",
        "\n",
        "print(my_numbers)\n",
        "```"
      ]
    },
    {
      "cell_type": "code",
      "metadata": {
        "id": "MZg293MXnJ1p",
        "outputId": "54857f71-1bb2-43f3-c7cb-f9ffa1a18d76",
        "colab": {
          "base_uri": "https://localhost:8080/"
        }
      },
      "source": [
        "numbers = [21, 4, 35, 1, 8, 7, 3, 6, 9]\n",
        "my_numbers = []\n",
        " \n",
        "for number in numbers:\n",
        "  if (number % 2 == 0): \n",
        "    my_numbers.append(number)\n",
        " \n",
        "print(my_numbers)\n",
        "#顯示偶數"
      ],
      "execution_count": 10,
      "outputs": [
        {
          "output_type": "stream",
          "text": [
            "[4, 8, 6]\n"
          ],
          "name": "stdout"
        }
      ]
    },
    {
      "cell_type": "markdown",
      "metadata": {
        "id": "NAQnoBFrnWFZ"
      },
      "source": [
        "#[3]While Loop\n",
        "---\n",
        "```\n",
        "### n階程的計算:n!=1*2*3*⋯*n\n",
        "1!　=　１\n",
        "2!　=　1*2　=　2\n",
        "3!　=　1*2*3　=　6\n",
        "```\n",
        "```\n",
        "輸入::一個正整數 n\n",
        "輸出::n!\n",
        "\n",
        "當使用者輸入一個正整數 n 後，程式就會顯示\n",
        "1*2*3*...*n 的乘積\n",
        "\n",
        "```\n",
        "```\n",
        "請使用 while loop設計這個程式\n",
        "```"
      ]
    },
    {
      "cell_type": "code",
      "metadata": {
        "id": "b0qDXXponhxJ",
        "outputId": "aee4afad-2828-4fed-9212-1a3f668846c5",
        "colab": {
          "base_uri": "https://localhost:8080/"
        }
      },
      "source": [
        "total = i = 1\n",
        "\n",
        "n = int(input(\"請輸入正整數 n 的值：\"))\n",
        "\n",
        "while(i<=n):\n",
        "    total *= i  \n",
        "    i+=1      \n",
        "\n",
        "print(\"%d!=%d\" % (n, total))"
      ],
      "execution_count": 11,
      "outputs": [
        {
          "output_type": "stream",
          "text": [
            "請輸入正整數 n 的值：553\n",
            "553!=2151132015896818131557007731239720916552356960227270844734803693069458868827732587597392155109291374034366951825991113353957448584934794035778421255347237776629048848092937745420667009907741434187349887099175827436569760518316791601177580570913850279802284848427996406326196904617077046463903734747091435155205747026555164034764200957461486933448992727948570119008975292136518518143917660968602327092665505766175999535144018023551244520092437508922675139688111052740162575859609082822066337250945337713103346732271048050462296069923730301772225945591217231009854074130829514095391684904905120400970209656029285540132647085281620661019711842420877721140000363515956927099074573213736177396175444153583750234291655689306274663218600811040451529109369595845173534296318385450009006998010602298480802703697616202211159069679269853149000876124585105904205010334142673376774422462776432605520782664805439088719563114206822542412592657721801480953263918067105042257211074619429585584840568838699429133605642200903262466607014911326997182010917390603434330059440103108645656343571479899467598589830998673710077311928855764016754862496723728207425044480000000000000000000000000000000000000000000000000000000000000000000000000000000000000000000000000000000000000000000000000000000000000000\n"
          ],
          "name": "stdout"
        }
      ]
    },
    {
      "cell_type": "markdown",
      "metadata": {
        "id": "NaQMB9wFnjpV"
      },
      "source": [
        "#[4]break 指令\n",
        "---\n",
        "```\n",
        "可在廻圈執行中途強迫跳離廻圈，跳到廻圈後面的程式繼續執行。\n",
        "```"
      ]
    },
    {
      "cell_type": "code",
      "metadata": {
        "id": "FXLh2QaQnoWY",
        "outputId": "6ac76fe8-ecbc-4d45-ddee-ed5e0bb8dc26",
        "colab": {
          "base_uri": "https://localhost:8080/",
          "height": 657
        }
      },
      "source": [
        "fruits = [\"香蕉\",\"蘋果\",\"橘子\",\"鳳梨\",\"西瓜\"]\n",
        "\n",
        "while True:\n",
        "    fruit = input(\"請輸入喜歡的水果(Enter 結束)：\")\n",
        "\n",
        "  #  if (fruit==\"\"):\n",
        "  #      break\n",
        "\n",
        "    n = fruits.count(fruit) \n",
        "    if (n>0):  # 串列元素存在\n",
        "        p=fruits.index(fruit)\n",
        "        print(\"%s 在串列中的第 %d 項\" %(fruit,p+1))\n",
        "    else:\n",
        "        print(fruit,\"不在串列中!\")"
      ],
      "execution_count": 12,
      "outputs": [
        {
          "output_type": "stream",
          "text": [
            "請輸入喜歡的水果(Enter 結束)：banana\n",
            "banana 不在串列中!\n",
            "請輸入喜歡的水果(Enter 結束)：香蕉\n",
            "香蕉 在串列中的第 1 項\n",
            "請輸入喜歡的水果(Enter 結束)：\n",
            " 不在串列中!\n"
          ],
          "name": "stdout"
        },
        {
          "output_type": "error",
          "ename": "KeyboardInterrupt",
          "evalue": "ignored",
          "traceback": [
            "\u001b[0;31m---------------------------------------------------------------------------\u001b[0m",
            "\u001b[0;31mKeyboardInterrupt\u001b[0m                         Traceback (most recent call last)",
            "\u001b[0;32m/usr/local/lib/python3.6/dist-packages/ipykernel/kernelbase.py\u001b[0m in \u001b[0;36m_input_request\u001b[0;34m(self, prompt, ident, parent, password)\u001b[0m\n\u001b[1;32m    728\u001b[0m             \u001b[0;32mtry\u001b[0m\u001b[0;34m:\u001b[0m\u001b[0;34m\u001b[0m\u001b[0;34m\u001b[0m\u001b[0m\n\u001b[0;32m--> 729\u001b[0;31m                 \u001b[0mident\u001b[0m\u001b[0;34m,\u001b[0m \u001b[0mreply\u001b[0m \u001b[0;34m=\u001b[0m \u001b[0mself\u001b[0m\u001b[0;34m.\u001b[0m\u001b[0msession\u001b[0m\u001b[0;34m.\u001b[0m\u001b[0mrecv\u001b[0m\u001b[0;34m(\u001b[0m\u001b[0mself\u001b[0m\u001b[0;34m.\u001b[0m\u001b[0mstdin_socket\u001b[0m\u001b[0;34m,\u001b[0m \u001b[0;36m0\u001b[0m\u001b[0;34m)\u001b[0m\u001b[0;34m\u001b[0m\u001b[0;34m\u001b[0m\u001b[0m\n\u001b[0m\u001b[1;32m    730\u001b[0m             \u001b[0;32mexcept\u001b[0m \u001b[0mException\u001b[0m\u001b[0;34m:\u001b[0m\u001b[0;34m\u001b[0m\u001b[0;34m\u001b[0m\u001b[0m\n",
            "\u001b[0;32m/usr/local/lib/python3.6/dist-packages/jupyter_client/session.py\u001b[0m in \u001b[0;36mrecv\u001b[0;34m(self, socket, mode, content, copy)\u001b[0m\n\u001b[1;32m    802\u001b[0m         \u001b[0;32mtry\u001b[0m\u001b[0;34m:\u001b[0m\u001b[0;34m\u001b[0m\u001b[0;34m\u001b[0m\u001b[0m\n\u001b[0;32m--> 803\u001b[0;31m             \u001b[0mmsg_list\u001b[0m \u001b[0;34m=\u001b[0m \u001b[0msocket\u001b[0m\u001b[0;34m.\u001b[0m\u001b[0mrecv_multipart\u001b[0m\u001b[0;34m(\u001b[0m\u001b[0mmode\u001b[0m\u001b[0;34m,\u001b[0m \u001b[0mcopy\u001b[0m\u001b[0;34m=\u001b[0m\u001b[0mcopy\u001b[0m\u001b[0;34m)\u001b[0m\u001b[0;34m\u001b[0m\u001b[0;34m\u001b[0m\u001b[0m\n\u001b[0m\u001b[1;32m    804\u001b[0m         \u001b[0;32mexcept\u001b[0m \u001b[0mzmq\u001b[0m\u001b[0;34m.\u001b[0m\u001b[0mZMQError\u001b[0m \u001b[0;32mas\u001b[0m \u001b[0me\u001b[0m\u001b[0;34m:\u001b[0m\u001b[0;34m\u001b[0m\u001b[0;34m\u001b[0m\u001b[0m\n",
            "\u001b[0;32m/usr/local/lib/python3.6/dist-packages/zmq/sugar/socket.py\u001b[0m in \u001b[0;36mrecv_multipart\u001b[0;34m(self, flags, copy, track)\u001b[0m\n\u001b[1;32m    490\u001b[0m         \"\"\"\n\u001b[0;32m--> 491\u001b[0;31m         \u001b[0mparts\u001b[0m \u001b[0;34m=\u001b[0m \u001b[0;34m[\u001b[0m\u001b[0mself\u001b[0m\u001b[0;34m.\u001b[0m\u001b[0mrecv\u001b[0m\u001b[0;34m(\u001b[0m\u001b[0mflags\u001b[0m\u001b[0;34m,\u001b[0m \u001b[0mcopy\u001b[0m\u001b[0;34m=\u001b[0m\u001b[0mcopy\u001b[0m\u001b[0;34m,\u001b[0m \u001b[0mtrack\u001b[0m\u001b[0;34m=\u001b[0m\u001b[0mtrack\u001b[0m\u001b[0;34m)\u001b[0m\u001b[0;34m]\u001b[0m\u001b[0;34m\u001b[0m\u001b[0;34m\u001b[0m\u001b[0m\n\u001b[0m\u001b[1;32m    492\u001b[0m         \u001b[0;31m# have first part already, only loop while more to receive\u001b[0m\u001b[0;34m\u001b[0m\u001b[0;34m\u001b[0m\u001b[0;34m\u001b[0m\u001b[0m\n",
            "\u001b[0;32mzmq/backend/cython/socket.pyx\u001b[0m in \u001b[0;36mzmq.backend.cython.socket.Socket.recv\u001b[0;34m()\u001b[0m\n",
            "\u001b[0;32mzmq/backend/cython/socket.pyx\u001b[0m in \u001b[0;36mzmq.backend.cython.socket.Socket.recv\u001b[0;34m()\u001b[0m\n",
            "\u001b[0;32mzmq/backend/cython/socket.pyx\u001b[0m in \u001b[0;36mzmq.backend.cython.socket._recv_copy\u001b[0;34m()\u001b[0m\n",
            "\u001b[0;32m/usr/local/lib/python3.6/dist-packages/zmq/backend/cython/checkrc.pxd\u001b[0m in \u001b[0;36mzmq.backend.cython.checkrc._check_rc\u001b[0;34m()\u001b[0m\n",
            "\u001b[0;31mKeyboardInterrupt\u001b[0m: ",
            "\nDuring handling of the above exception, another exception occurred:\n",
            "\u001b[0;31mKeyboardInterrupt\u001b[0m                         Traceback (most recent call last)",
            "\u001b[0;32m<ipython-input-12-281d147c13bf>\u001b[0m in \u001b[0;36m<module>\u001b[0;34m()\u001b[0m\n\u001b[1;32m      2\u001b[0m \u001b[0;34m\u001b[0m\u001b[0m\n\u001b[1;32m      3\u001b[0m \u001b[0;32mwhile\u001b[0m \u001b[0;32mTrue\u001b[0m\u001b[0;34m:\u001b[0m\u001b[0;34m\u001b[0m\u001b[0;34m\u001b[0m\u001b[0m\n\u001b[0;32m----> 4\u001b[0;31m     \u001b[0mfruit\u001b[0m \u001b[0;34m=\u001b[0m \u001b[0minput\u001b[0m\u001b[0;34m(\u001b[0m\u001b[0;34m\"請輸入喜歡的水果(Enter 結束)：\"\u001b[0m\u001b[0;34m)\u001b[0m\u001b[0;34m\u001b[0m\u001b[0;34m\u001b[0m\u001b[0m\n\u001b[0m\u001b[1;32m      5\u001b[0m \u001b[0;34m\u001b[0m\u001b[0m\n\u001b[1;32m      6\u001b[0m   \u001b[0;31m#  if (fruit==\"\"):\u001b[0m\u001b[0;34m\u001b[0m\u001b[0;34m\u001b[0m\u001b[0;34m\u001b[0m\u001b[0m\n",
            "\u001b[0;32m/usr/local/lib/python3.6/dist-packages/ipykernel/kernelbase.py\u001b[0m in \u001b[0;36mraw_input\u001b[0;34m(self, prompt)\u001b[0m\n\u001b[1;32m    702\u001b[0m             \u001b[0mself\u001b[0m\u001b[0;34m.\u001b[0m\u001b[0m_parent_ident\u001b[0m\u001b[0;34m,\u001b[0m\u001b[0;34m\u001b[0m\u001b[0;34m\u001b[0m\u001b[0m\n\u001b[1;32m    703\u001b[0m             \u001b[0mself\u001b[0m\u001b[0;34m.\u001b[0m\u001b[0m_parent_header\u001b[0m\u001b[0;34m,\u001b[0m\u001b[0;34m\u001b[0m\u001b[0;34m\u001b[0m\u001b[0m\n\u001b[0;32m--> 704\u001b[0;31m             \u001b[0mpassword\u001b[0m\u001b[0;34m=\u001b[0m\u001b[0;32mFalse\u001b[0m\u001b[0;34m,\u001b[0m\u001b[0;34m\u001b[0m\u001b[0;34m\u001b[0m\u001b[0m\n\u001b[0m\u001b[1;32m    705\u001b[0m         )\n\u001b[1;32m    706\u001b[0m \u001b[0;34m\u001b[0m\u001b[0m\n",
            "\u001b[0;32m/usr/local/lib/python3.6/dist-packages/ipykernel/kernelbase.py\u001b[0m in \u001b[0;36m_input_request\u001b[0;34m(self, prompt, ident, parent, password)\u001b[0m\n\u001b[1;32m    732\u001b[0m             \u001b[0;32mexcept\u001b[0m \u001b[0mKeyboardInterrupt\u001b[0m\u001b[0;34m:\u001b[0m\u001b[0;34m\u001b[0m\u001b[0;34m\u001b[0m\u001b[0m\n\u001b[1;32m    733\u001b[0m                 \u001b[0;31m# re-raise KeyboardInterrupt, to truncate traceback\u001b[0m\u001b[0;34m\u001b[0m\u001b[0;34m\u001b[0m\u001b[0;34m\u001b[0m\u001b[0m\n\u001b[0;32m--> 734\u001b[0;31m                 \u001b[0;32mraise\u001b[0m \u001b[0mKeyboardInterrupt\u001b[0m\u001b[0;34m\u001b[0m\u001b[0;34m\u001b[0m\u001b[0m\n\u001b[0m\u001b[1;32m    735\u001b[0m             \u001b[0;32melse\u001b[0m\u001b[0;34m:\u001b[0m\u001b[0;34m\u001b[0m\u001b[0;34m\u001b[0m\u001b[0m\n\u001b[1;32m    736\u001b[0m                 \u001b[0;32mbreak\u001b[0m\u001b[0;34m\u001b[0m\u001b[0;34m\u001b[0m\u001b[0m\n",
            "\u001b[0;31mKeyboardInterrupt\u001b[0m: "
          ]
        }
      ]
    },
    {
      "cell_type": "markdown",
      "metadata": {
        "id": "D2FerFGTnpTZ"
      },
      "source": [
        "#[5]continue 指令\n",
        "---\n",
        "```\n",
        "在廻圈執行中途暫時停住不往下執行，而跳到廻圈的起始處繼續執行\n",
        "```\n",
        "```\n",
        "撰寫一個可以排除數列中 5 的倍數的程式\n",
        "\n",
        "輸入::一個正整數 n\n",
        "輸出::\n",
        "使用者只要輸入一個正整數，\n",
        "程式會顯示由 1 到該整數的整數數列，但會將 5 的倍數排除\n",
        "```"
      ]
    },
    {
      "cell_type": "code",
      "metadata": {
        "id": "b9OH6X07nwbK",
        "outputId": "6c094ad7-9126-4f32-d5e2-55769d7c58a1",
        "colab": {
          "base_uri": "https://localhost:8080/"
        }
      },
      "source": [
        "n = int(input(\"請輸入正整數：\"))\n",
        "\n",
        "for i in range(1, n+1):\n",
        "    if i % 5 ==0:\n",
        "        continue\n",
        "    print(i,end=\" \")"
      ],
      "execution_count": 13,
      "outputs": [
        {
          "output_type": "stream",
          "text": [
            "請輸入正整數：223\n",
            "1 2 3 4 6 7 8 9 11 12 13 14 16 17 18 19 21 22 23 24 26 27 28 29 31 32 33 34 36 37 38 39 41 42 43 44 46 47 48 49 51 52 53 54 56 57 58 59 61 62 63 64 66 67 68 69 71 72 73 74 76 77 78 79 81 82 83 84 86 87 88 89 91 92 93 94 96 97 98 99 101 102 103 104 106 107 108 109 111 112 113 114 116 117 118 119 121 122 123 124 126 127 128 129 131 132 133 134 136 137 138 139 141 142 143 144 146 147 148 149 151 152 153 154 156 157 158 159 161 162 163 164 166 167 168 169 171 172 173 174 176 177 178 179 181 182 183 184 186 187 188 189 191 192 193 194 196 197 198 199 201 202 203 204 206 207 208 209 211 212 213 214 216 217 218 219 221 222 223 "
          ],
          "name": "stdout"
        }
      ]
    },
    {
      "cell_type": "markdown",
      "metadata": {
        "id": "WKe2emXcnxLh"
      },
      "source": [
        "#小小測驗:\n",
        "---\n",
        "####[程式閱讀題] 底下程式執行的結果為何?請說明其邏輯\n",
        "```python\n",
        "#!/usr/bin/python\n",
        "# -*- coding: UTF-8 -*-\n",
        " \n",
        "for i in range(1,6):\n",
        "    for j in range(1,5):\n",
        "        for k in range(1,7):\n",
        "            if( i != k ) and (i != j) and (j != k):\n",
        "                print(i,j,k)\n",
        "```"
      ]
    },
    {
      "cell_type": "code",
      "metadata": {
        "id": "ArI_TgLBn_1D",
        "outputId": "4deeb857-750a-405f-d803-3b864a903b30",
        "colab": {
          "base_uri": "https://localhost:8080/"
        }
      },
      "source": [
        "for i in range(1,6):\n",
        "    for j in range(1,5):\n",
        "        for k in range(1,7):\n",
        "            if( i != k ) and (i != j) and (j != k):\n",
        "            #列出 1-5, 1-4, 1-6 的各種組合並排除任何有數字重複的組合\n",
        "                print(i,j,k)"
      ],
      "execution_count": 14,
      "outputs": [
        {
          "output_type": "stream",
          "text": [
            "1 2 3\n",
            "1 2 4\n",
            "1 2 5\n",
            "1 2 6\n",
            "1 3 2\n",
            "1 3 4\n",
            "1 3 5\n",
            "1 3 6\n",
            "1 4 2\n",
            "1 4 3\n",
            "1 4 5\n",
            "1 4 6\n",
            "2 1 3\n",
            "2 1 4\n",
            "2 1 5\n",
            "2 1 6\n",
            "2 3 1\n",
            "2 3 4\n",
            "2 3 5\n",
            "2 3 6\n",
            "2 4 1\n",
            "2 4 3\n",
            "2 4 5\n",
            "2 4 6\n",
            "3 1 2\n",
            "3 1 4\n",
            "3 1 5\n",
            "3 1 6\n",
            "3 2 1\n",
            "3 2 4\n",
            "3 2 5\n",
            "3 2 6\n",
            "3 4 1\n",
            "3 4 2\n",
            "3 4 5\n",
            "3 4 6\n",
            "4 1 2\n",
            "4 1 3\n",
            "4 1 5\n",
            "4 1 6\n",
            "4 2 1\n",
            "4 2 3\n",
            "4 2 5\n",
            "4 2 6\n",
            "4 3 1\n",
            "4 3 2\n",
            "4 3 5\n",
            "4 3 6\n",
            "5 1 2\n",
            "5 1 3\n",
            "5 1 4\n",
            "5 1 6\n",
            "5 2 1\n",
            "5 2 3\n",
            "5 2 4\n",
            "5 2 6\n",
            "5 3 1\n",
            "5 3 2\n",
            "5 3 4\n",
            "5 3 6\n",
            "5 4 1\n",
            "5 4 2\n",
            "5 4 3\n",
            "5 4 6\n"
          ],
          "name": "stdout"
        }
      ]
    },
    {
      "cell_type": "markdown",
      "metadata": {
        "id": "2nPswQOFo7d6"
      },
      "source": [
        "####底下程式執行結果為何?"
      ]
    },
    {
      "cell_type": "code",
      "metadata": {
        "id": "hpdj9NSao8xl",
        "outputId": "0e5be303-fdd6-4457-928b-fb69882bda1b",
        "colab": {
          "base_uri": "https://localhost:8080/"
        }
      },
      "source": [
        "for x in range(19):\n",
        "  print(x)"
      ],
      "execution_count": 15,
      "outputs": [
        {
          "output_type": "stream",
          "text": [
            "0\n",
            "1\n",
            "2\n",
            "3\n",
            "4\n",
            "5\n",
            "6\n",
            "7\n",
            "8\n",
            "9\n",
            "10\n",
            "11\n",
            "12\n",
            "13\n",
            "14\n",
            "15\n",
            "16\n",
            "17\n",
            "18\n"
          ],
          "name": "stdout"
        }
      ]
    },
    {
      "cell_type": "code",
      "metadata": {
        "id": "Gfd-U0Gco92d",
        "outputId": "27fc3ccb-3bae-41fa-f5b4-07d2d925ac7f",
        "colab": {
          "base_uri": "https://localhost:8080/"
        }
      },
      "source": [
        "for x in range(0,19,2):\n",
        "  print(x)"
      ],
      "execution_count": 16,
      "outputs": [
        {
          "output_type": "stream",
          "text": [
            "0\n",
            "2\n",
            "4\n",
            "6\n",
            "8\n",
            "10\n",
            "12\n",
            "14\n",
            "16\n",
            "18\n"
          ],
          "name": "stdout"
        }
      ]
    },
    {
      "cell_type": "code",
      "metadata": {
        "id": "uc9B_osQo-5R",
        "outputId": "a0bfc70a-0e68-49e9-fb52-17b8290377a7",
        "colab": {
          "base_uri": "https://localhost:8080/"
        }
      },
      "source": [
        "for x in range(20,11,-1):\n",
        "  print(x)\n"
      ],
      "execution_count": 17,
      "outputs": [
        {
          "output_type": "stream",
          "text": [
            "20\n",
            "19\n",
            "18\n",
            "17\n",
            "16\n",
            "15\n",
            "14\n",
            "13\n",
            "12\n"
          ],
          "name": "stdout"
        }
      ]
    },
    {
      "cell_type": "code",
      "metadata": {
        "id": "3JPH1HIco_-B"
      },
      "source": [
        "for x in range(0,19,-1):\n",
        "  print(x)"
      ],
      "execution_count": 21,
      "outputs": []
    },
    {
      "cell_type": "code",
      "metadata": {
        "id": "l5NP2sEGpBct",
        "outputId": "36716522-39fd-4017-a812-f962d2defe2e",
        "colab": {
          "base_uri": "https://localhost:8080/"
        }
      },
      "source": [
        "output = ''\n",
        "\n",
        "for x in range(0,19,3):\n",
        "  output += str(x)\n",
        "  print(output, end=\" \")"
      ],
      "execution_count": 19,
      "outputs": [
        {
          "output_type": "stream",
          "text": [
            "0 03 036 0369 036912 03691215 0369121518 "
          ],
          "name": "stdout"
        }
      ]
    },
    {
      "cell_type": "code",
      "metadata": {
        "id": "m-Nh6uc4pCmt",
        "outputId": "73a3cba7-5499-420c-902f-6cbeed3b3d89",
        "colab": {
          "base_uri": "https://localhost:8080/"
        }
      },
      "source": [
        "output = ''\n",
        "\n",
        "for x in range(0,19,3):\n",
        "  print(x, end=\" \")\n"
      ],
      "execution_count": 20,
      "outputs": [
        {
          "output_type": "stream",
          "text": [
            "0 3 6 9 12 15 18 "
          ],
          "name": "stdout"
        }
      ]
    },
    {
      "cell_type": "code",
      "metadata": {
        "id": "fWlo973mpDxf",
        "outputId": "2d5ab204-4f9c-4f63-cc7c-b88b226f9b8f",
        "colab": {
          "base_uri": "https://localhost:8080/"
        }
      },
      "source": [
        "list1 = range(0,19,3)\n",
        "\n",
        "for x in list1:\n",
        "  print(x, end=\" \")"
      ],
      "execution_count": 22,
      "outputs": [
        {
          "output_type": "stream",
          "text": [
            "0 3 6 9 12 15 18 "
          ],
          "name": "stdout"
        }
      ]
    },
    {
      "cell_type": "markdown",
      "metadata": {
        "id": "GpTazuIVpFNG"
      },
      "source": [
        "####[程式閱讀題] 下列程式輸入淨利潤為11111時請問輸出為何?\n",
        "```python\n",
        "#!/usr/bin/python\n",
        "# -*- coding: UTF-8 -*-\n",
        " \n",
        "i = int(input('淨利潤:'))\n",
        "\n",
        "arr = [1000000,600000,400000,200000,100000,0]\n",
        "rat = [0.01,0.015,0.03,0.05,0.075,0.1]\n",
        "r = 0\n",
        "\n",
        "for idx in range(0,6):\n",
        "    if i>arr[idx]:\n",
        "        r+=(i-arr[idx])*rat[idx]\n",
        "        print((i-arr[idx])*rat[idx])\n",
        "        i=arr[idx]\n",
        "\n",
        "print(r)\n",
        "\n",
        "```"
      ]
    },
    {
      "cell_type": "code",
      "metadata": {
        "id": "rlxGc0R6pNae",
        "outputId": "35e57f99-d1cb-414b-a1da-7dfbb885af5d",
        "colab": {
          "base_uri": "https://localhost:8080/"
        }
      },
      "source": [
        "#!/usr/bin/python\n",
        "# -*- coding: UTF-8 -*-\n",
        " \n",
        "i = 11111 #int(input('淨利潤:'))\n",
        "\n",
        "arr = [1000000,600000,400000,200000,100000,0]\n",
        "rat = [0.01,0.015,0.03,0.05,0.075,0.1]\n",
        "r = 0\n",
        "\n",
        "for idx in range(0,6):\n",
        "    if i>arr[idx]:\n",
        "        r+=(i-arr[idx])*rat[idx]\n",
        "        print((i-arr[idx])*rat[idx])\n",
        "        i=arr[idx]\n",
        "\n",
        "print(r)\n",
        "#1111.1000000000001"
      ],
      "execution_count": 23,
      "outputs": [
        {
          "output_type": "stream",
          "text": [
            "1111.1000000000001\n",
            "1111.1000000000001\n"
          ],
          "name": "stdout"
        }
      ]
    },
    {
      "cell_type": "markdown",
      "metadata": {
        "id": "cf5vJR-ypf3r"
      },
      "source": [
        "#[6]巢狀廻圈Nested Loop[自主學習主題]\n",
        "----\n",
        "```\n",
        "廻圈中又包含廻圈的巢狀廻圈　\n",
        "\n",
        "留給你當作業：九九乘法表\n",
        "```"
      ]
    },
    {
      "cell_type": "code",
      "metadata": {
        "id": "ISHz3FlLpltS",
        "outputId": "99d0b6ab-9c1b-498b-e1f4-732db69d2419",
        "colab": {
          "base_uri": "https://localhost:8080/"
        }
      },
      "source": [
        "def print_line():\n",
        "    for i in range(8):\n",
        "        print(\"#------------\", end=\"\")\n",
        "    print(\"#\")\n",
        "\n",
        "print_line()\n",
        "\n",
        "for i in range(1,10):\n",
        "    for j in range(2,10):\n",
        "        if j == 2:\n",
        "            print(\"|\", end=\"\")\n",
        "        print(\"%2d x %d = %2d\" %(j, i, j*i), end=\" |\")\n",
        "        if j == 9:\n",
        "            print(\"\")\n",
        "\n",
        "print_line()"
      ],
      "execution_count": 24,
      "outputs": [
        {
          "output_type": "stream",
          "text": [
            "#------------#------------#------------#------------#------------#------------#------------#------------#\n",
            "| 2 x 1 =  2 | 3 x 1 =  3 | 4 x 1 =  4 | 5 x 1 =  5 | 6 x 1 =  6 | 7 x 1 =  7 | 8 x 1 =  8 | 9 x 1 =  9 |\n",
            "| 2 x 2 =  4 | 3 x 2 =  6 | 4 x 2 =  8 | 5 x 2 = 10 | 6 x 2 = 12 | 7 x 2 = 14 | 8 x 2 = 16 | 9 x 2 = 18 |\n",
            "| 2 x 3 =  6 | 3 x 3 =  9 | 4 x 3 = 12 | 5 x 3 = 15 | 6 x 3 = 18 | 7 x 3 = 21 | 8 x 3 = 24 | 9 x 3 = 27 |\n",
            "| 2 x 4 =  8 | 3 x 4 = 12 | 4 x 4 = 16 | 5 x 4 = 20 | 6 x 4 = 24 | 7 x 4 = 28 | 8 x 4 = 32 | 9 x 4 = 36 |\n",
            "| 2 x 5 = 10 | 3 x 5 = 15 | 4 x 5 = 20 | 5 x 5 = 25 | 6 x 5 = 30 | 7 x 5 = 35 | 8 x 5 = 40 | 9 x 5 = 45 |\n",
            "| 2 x 6 = 12 | 3 x 6 = 18 | 4 x 6 = 24 | 5 x 6 = 30 | 6 x 6 = 36 | 7 x 6 = 42 | 8 x 6 = 48 | 9 x 6 = 54 |\n",
            "| 2 x 7 = 14 | 3 x 7 = 21 | 4 x 7 = 28 | 5 x 7 = 35 | 6 x 7 = 42 | 7 x 7 = 49 | 8 x 7 = 56 | 9 x 7 = 63 |\n",
            "| 2 x 8 = 16 | 3 x 8 = 24 | 4 x 8 = 32 | 5 x 8 = 40 | 6 x 8 = 48 | 7 x 8 = 56 | 8 x 8 = 64 | 9 x 8 = 72 |\n",
            "| 2 x 9 = 18 | 3 x 9 = 27 | 4 x 9 = 36 | 5 x 9 = 45 | 6 x 9 = 54 | 7 x 9 = 63 | 8 x 9 = 72 | 9 x 9 = 81 |\n",
            "#------------#------------#------------#------------#------------#------------#------------#------------#\n"
          ],
          "name": "stdout"
        }
      ]
    }
  ]
}