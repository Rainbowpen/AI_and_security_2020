{
  "nbformat": 4,
  "nbformat_minor": 0,
  "metadata": {
    "colab": {
      "name": "Z1_使用Python編碼與解碼.ipynb",
      "provenance": [],
      "authorship_tag": "ABX9TyMLtbUWHJtVokstZoIwxhum",
      "include_colab_link": true
    },
    "kernelspec": {
      "name": "python3",
      "display_name": "Python 3"
    }
  },
  "cells": [
    {
      "cell_type": "markdown",
      "metadata": {
        "id": "view-in-github",
        "colab_type": "text"
      },
      "source": [
        "<a href=\"https://colab.research.google.com/github/Rainbowpen/AI_and_security_2020/blob/master/Z1_%E4%BD%BF%E7%94%A8Python%E7%B7%A8%E7%A2%BC%E8%88%87%E8%A7%A3%E7%A2%BC.ipynb\" target=\"_parent\"><img src=\"https://colab.research.google.com/assets/colab-badge.svg\" alt=\"Open In Colab\"/></a>"
      ]
    },
    {
      "cell_type": "markdown",
      "metadata": {
        "id": "-PyRUdyD67BP"
      },
      "source": [
        "# Python實戰 CTF::使用Python編碼與解碼\n",
        "```\n",
        "學習目標1:基礎必教篇 ==Python 內建函數 與 標準函式庫的示範\n",
        "[1]使用Python程式與內建函數進行ASCII的編碼與解碼\n",
        "[2]使用Python標準函式庫(Base 64模組)進行BASE64的編碼與解碼\n",
        "\n",
        "[3](可不教)補充教材:數字系統( number system)的轉換\n",
        "\n",
        "學習目標2:進階競賽\n",
        "[4]Internetwache CTF 2016 : The hidden message\n",
        "[5]需要神的靈光閃爍==SECCON CTF 2014: Easy Cipher \n",
        "\n",
        "其他參考資料\n",
        "```\n",
        "# 編碼與解碼101\n",
        "\n",
        "# [1]使用Python程式與內建函數進行ASCII的編碼與解碼\n",
        "\n",
        "### Python 內建函數(Built in Functions):chr()與ord()\n",
        "```https://docs.python.org/3/library/functions.html```"
      ]
    },
    {
      "cell_type": "code",
      "metadata": {
        "id": "s6m__8xB67-H",
        "outputId": "c821d914-5d06-400e-8d2e-38c25c56d152",
        "colab": {
          "base_uri": "https://localhost:8080/"
        }
      },
      "source": [
        "chr(97)\n",
        "\n",
        "chr(66)\n",
        "\n",
        "#ord('a')\n",
        "#print(bin(ord('a')))\n",
        "#oct(ord('a'))\n",
        "print(hex(ord('a')))"
      ],
      "execution_count": 4,
      "outputs": [
        {
          "output_type": "stream",
          "text": [
            "0x61\n"
          ],
          "name": "stdout"
        }
      ]
    },
    {
      "cell_type": "markdown",
      "metadata": {
        "id": "B6qHhDsd7FQM"
      },
      "source": [
        "### 編碼與解碼 101---ASCII編碼解題\n",
        "\n",
        "### 字串的分割"
      ]
    },
    {
      "cell_type": "code",
      "metadata": {
        "id": "MxO0CWjl7IaG",
        "outputId": "efedea87-91dd-4521-e547-7880150edb3e",
        "colab": {
          "base_uri": "https://localhost:8080/",
          "height": 242
        }
      },
      "source": [
        "a=\"66 114\".split(\"\")\n",
        "a\n",
        "\n",
        "a=\"66 114\".split(\"  \")\n",
        "a\n",
        "\n",
        "a=\"66 114\".split(\" \")\n",
        "a\n",
        "type(a)"
      ],
      "execution_count": 5,
      "outputs": [
        {
          "output_type": "error",
          "ename": "ValueError",
          "evalue": "ignored",
          "traceback": [
            "\u001b[0;31m---------------------------------------------------------------------------\u001b[0m",
            "\u001b[0;31mValueError\u001b[0m                                Traceback (most recent call last)",
            "\u001b[0;32m<ipython-input-5-2ae56806b103>\u001b[0m in \u001b[0;36m<module>\u001b[0;34m()\u001b[0m\n\u001b[0;32m----> 1\u001b[0;31m \u001b[0ma\u001b[0m\u001b[0;34m=\u001b[0m\u001b[0;34m\"66 114\"\u001b[0m\u001b[0;34m.\u001b[0m\u001b[0msplit\u001b[0m\u001b[0;34m(\u001b[0m\u001b[0;34m\"\"\u001b[0m\u001b[0;34m)\u001b[0m\u001b[0;34m\u001b[0m\u001b[0;34m\u001b[0m\u001b[0m\n\u001b[0m\u001b[1;32m      2\u001b[0m \u001b[0ma\u001b[0m\u001b[0;34m\u001b[0m\u001b[0;34m\u001b[0m\u001b[0m\n\u001b[1;32m      3\u001b[0m \u001b[0;34m\u001b[0m\u001b[0m\n\u001b[1;32m      4\u001b[0m \u001b[0ma\u001b[0m\u001b[0;34m=\u001b[0m\u001b[0;34m\"66 114\"\u001b[0m\u001b[0;34m.\u001b[0m\u001b[0msplit\u001b[0m\u001b[0;34m(\u001b[0m\u001b[0;34m\"  \"\u001b[0m\u001b[0;34m)\u001b[0m\u001b[0;34m\u001b[0m\u001b[0;34m\u001b[0m\u001b[0m\n\u001b[1;32m      5\u001b[0m \u001b[0ma\u001b[0m\u001b[0;34m\u001b[0m\u001b[0;34m\u001b[0m\u001b[0m\n",
            "\u001b[0;31mValueError\u001b[0m: empty separator"
          ]
        }
      ]
    },
    {
      "cell_type": "markdown",
      "metadata": {
        "id": "RxCysGq77Ro-"
      },
      "source": [
        "### 把每一個分割後的字串==轉成整數後===再編碼出ASCII的字"
      ]
    },
    {
      "cell_type": "code",
      "metadata": {
        "id": "NPi8iML57Utt",
        "outputId": "106a58fd-41b2-4aa7-bb24-6bf5d060e571",
        "colab": {
          "base_uri": "https://localhost:8080/",
          "height": 35
        }
      },
      "source": [
        "a=\"66 114\".split(\" \")\n",
        "\n",
        "result=''\n",
        "\n",
        "for x in a:\n",
        "  y=chr(int(x))\n",
        "  result += y\n",
        "# result = result + y \n",
        "\n",
        "result"
      ],
      "execution_count": 6,
      "outputs": [
        {
          "output_type": "execute_result",
          "data": {
            "application/vnd.google.colaboratory.intrinsic+json": {
              "type": "string"
            },
            "text/plain": [
              "'Br'"
            ]
          },
          "metadata": {
            "tags": []
          },
          "execution_count": 6
        }
      ]
    },
    {
      "cell_type": "markdown",
      "metadata": {
        "id": "xMlzJFbM7XK-"
      },
      "source": [
        "### 最後的解答"
      ]
    },
    {
      "cell_type": "code",
      "metadata": {
        "id": "x8R9FsCu7X8u",
        "outputId": "8afac9ac-7d9f-420d-8174-7cbceb7d55b5",
        "colab": {
          "base_uri": "https://localhost:8080/"
        }
      },
      "source": [
        "#!/usr/bin/python\n",
        "\n",
        "c = '66 114 101 97 107 65 76 76 67 84 70 123 65 109 118 48 117 68 121 101 114 118 80 116 109 86 114 57 83 83 83 75 125'\n",
        "\n",
        "flag = \"\"\n",
        "\n",
        "for _ in c.split(' '):\n",
        "  flag += chr(int(_))\n",
        "\n",
        "print(flag)"
      ],
      "execution_count": 7,
      "outputs": [
        {
          "output_type": "stream",
          "text": [
            "BreakALLCTF{Amv0uDyervPtmVr9SSSK}\n"
          ],
          "name": "stdout"
        }
      ]
    },
    {
      "cell_type": "code",
      "metadata": {
        "id": "sFgoHQ_v7bAK",
        "outputId": "8bdc526c-1571-48c2-8c05-7746be37fd3d",
        "colab": {
          "base_uri": "https://localhost:8080/"
        }
      },
      "source": [
        "#!/usr/bin/python\n",
        "\n",
        "c = '66 114 101 97 107 65 76 76 67 84 70 123 65 109 118 48 117 68 121 101 114 118 80 116 109 86 114 57 83 83 83 75 125'\n",
        "\n",
        "flag = \"\"\n",
        "\n",
        "for x in c.split(' '):\n",
        "  flag += chr(int(x))\n",
        "\n",
        "print(flag)"
      ],
      "execution_count": 8,
      "outputs": [
        {
          "output_type": "stream",
          "text": [
            "BreakALLCTF{Amv0uDyervPtmVr9SSSK}\n"
          ],
          "name": "stdout"
        }
      ]
    },
    {
      "cell_type": "markdown",
      "metadata": {
        "id": "WR8hlili7hr3"
      },
      "source": [
        "# [2]使用Python標準函式庫進行BASE64的編碼與解碼\n",
        "\n",
        "###  Python 標準函式庫 (Standard Library)\n",
        "```\n",
        "C++ 有強大的標準模板庫(Standard Template Library，STL）\n",
        "\n",
        "Python也有強大的標準函式庫 (Standard Library)\n",
        "\n",
        "本課程示範幾個範例,帶你認識Python 標準函式庫\n",
        "\n",
        "推薦書籍與資源\n",
        "\n",
        "[1]官方說明\n",
        "英文 https://docs.python.org/3/library/\n",
        "中文 https://docs.python.org/zh-tw/3/library/index.html\n",
        "\n",
        "[2]厚達上千頁的範例示範說明書\n",
        "\n",
        "The Python 3 Standard Library By Example\n",
        "Doug Hellmann\n",
        "\n",
        "https://pymotw.com/3/\n",
        "https://bitbucket.org/dhellmann/pymotw-3/src/master/\n",
        "```\n",
        "\n",
        "## Python 標準函式庫的Base 64 模組\n",
        "```\n",
        "What does the 'b' character do in front of a string literal?\n",
        "\n",
        "https://stackoverflow.com/questions/6269765/what-does-the-b-character-do-in-front-of-a-string-literal\n",
        "```\n",
        "### 使用Base 64 模組編碼:b64encode()"
      ]
    },
    {
      "cell_type": "code",
      "metadata": {
        "id": "Vy4VXEIj7kcu",
        "outputId": "9c1293cb-5b05-4aa3-b1b4-acfb6f36df0a",
        "colab": {
          "base_uri": "https://localhost:8080/"
        }
      },
      "source": [
        "import base64\n",
        "\n",
        "data =b'BreakAllCTF{HappyPythonDay}'\n",
        "encoded_data = base64.b64encode(data)\n",
        "print('Original Data :', data)\n",
        "print('Encoded :', encoded_data)"
      ],
      "execution_count": 9,
      "outputs": [
        {
          "output_type": "stream",
          "text": [
            "Original Data : b'BreakAllCTF{HappyPythonDay}'\n",
            "Encoded : b'QnJlYWtBbGxDVEZ7SGFwcHlQeXRob25EYXl9'\n"
          ],
          "name": "stdout"
        }
      ]
    },
    {
      "cell_type": "markdown",
      "metadata": {
        "id": "ev3MDTQw7k99"
      },
      "source": [
        "### 使用Base 64 模組解碼:b64decode()"
      ]
    },
    {
      "cell_type": "code",
      "metadata": {
        "id": "D05lQ5_e7qqt",
        "outputId": "5118349d-fd08-4c37-fa3a-e126253686da",
        "colab": {
          "base_uri": "https://localhost:8080/"
        }
      },
      "source": [
        "import base64\n",
        "\n",
        "encoded_data = b'QnJlYWtBTExDVEZ7NTN1c1pRM2hXVzI1ZGNoWjdkWGV9'\n",
        "decoded_data = base64.b64decode(encoded_data)\n",
        "print('Encoded :', encoded_data)\n",
        "print('Decoded :', decoded_data)"
      ],
      "execution_count": 10,
      "outputs": [
        {
          "output_type": "stream",
          "text": [
            "Encoded : b'QnJlYWtBTExDVEZ7NTN1c1pRM2hXVzI1ZGNoWjdkWGV9'\n",
            "Decoded : b'BreakALLCTF{53usZQ3hWW25dchZ7dXe}'\n"
          ],
          "name": "stdout"
        }
      ]
    },
    {
      "cell_type": "markdown",
      "metadata": {
        "id": "DBErHDgw7s6m"
      },
      "source": [
        "### 使用Base 64 模組也可以進行Base 32編碼與解碼"
      ]
    },
    {
      "cell_type": "code",
      "metadata": {
        "id": "atBxIYns8fzD",
        "outputId": "fad21dc5-8d53-416a-d96b-4fbec740f460",
        "colab": {
          "base_uri": "https://localhost:8080/"
        }
      },
      "source": [
        "import base64\n",
        "\n",
        "original_data = b'BreakAllCTF{HappyPythonDay}'\n",
        "print('Original data:', original_data)\n",
        "\n",
        "encoded_data = base64.b32encode(original_data)\n",
        "print('Encoded :', encoded_data)\n",
        "\n",
        "decoded_data = base64.b32decode(encoded_data)\n",
        "print('Decoded :', decoded_data)"
      ],
      "execution_count": 11,
      "outputs": [
        {
          "output_type": "stream",
          "text": [
            "Original data: b'BreakAllCTF{HappyPythonDay}'\n",
            "Encoded : b'IJZGKYLLIFWGYQ2UIZ5UQYLQOB4VA6LUNBXW4RDBPF6Q===='\n",
            "Decoded : b'BreakAllCTF{HappyPythonDay}'\n"
          ],
          "name": "stdout"
        }
      ]
    },
    {
      "cell_type": "markdown",
      "metadata": {
        "id": "eLpHyHwR8iwm"
      },
      "source": [
        "### [作業] 使用Pyhon程式解Crytpo 101: Base64及Base32哪兩題\n",
        "\n",
        "# 編碼與解碼102\n",
        "\n",
        "# [3]angstromCTF 2016 : what-the-hex 20\n",
        "```\n",
        "Decode using hex and see what you get...\n",
        "6236343a20615735305a584a755a58526659323975646d567963326c76626c3930623239736331397962324e72\n",
        "```\n",
        "\n",
        "#### [可以不必教]先試看看[底下程式要在Python 2 才會正常執行]\n",
        "\n",
        "步驟一:先將十六進位的數字轉成文字\n",
        "```\n",
        "'6236343a20615735305a584a755a58526659323975646d567963326c76626c3930623239736331397962324e72'.decode(\"hex\")\n",
        "```\n",
        "```\n",
        "'b64: aW50ZXJuZXRfY29udmVyc2lvbl90b29sc19yb2Nr'\n",
        "```\n",
        "步驟二:將獲得的文字再使用base 64解碼"
      ]
    },
    {
      "cell_type": "code",
      "metadata": {
        "id": "hkf4ntCk8jVH",
        "outputId": "ce997f9a-8dea-4380-f43a-e8f54180132e",
        "colab": {
          "base_uri": "https://localhost:8080/"
        }
      },
      "source": [
        "import base64\n",
        "base64.b64decode('aW50ZXJuZXRfY29udmVyc2lvbl90b29sc19yb2Nr')"
      ],
      "execution_count": 12,
      "outputs": [
        {
          "output_type": "execute_result",
          "data": {
            "text/plain": [
              "b'internet_conversion_tools_rock'"
            ]
          },
          "metadata": {
            "tags": []
          },
          "execution_count": 12
        }
      ]
    },
    {
      "cell_type": "markdown",
      "metadata": {
        "id": "eNkeGI058xH_"
      },
      "source": [
        "### Python 3的寫法[使用 標準函式庫的binascii模組]\n",
        "```\n",
        "binascii模組包含很多用來方法來轉換二進位制和各種ASCII編碼的二進位制表示法\n",
        "更多說明請參閱:\n",
        "https://docs.python.org/zh-cn/3/library/binascii.html\n",
        "```\n",
        "\n",
        "步驟一:先將十六進位的數字轉成文字"
      ]
    },
    {
      "cell_type": "code",
      "metadata": {
        "id": "UWiAvtJ183hR",
        "outputId": "a4841eff-415a-4c70-8ca2-72444cb71f19",
        "colab": {
          "base_uri": "https://localhost:8080/"
        }
      },
      "source": [
        "import binascii\n",
        "binascii.unhexlify('6236343a20615735305a584a755a58526659323975646d567963326c76626c3930623239736331397962324e72')"
      ],
      "execution_count": 13,
      "outputs": [
        {
          "output_type": "execute_result",
          "data": {
            "text/plain": [
              "b'b64: aW50ZXJuZXRfY29udmVyc2lvbl90b29sc19yb2Nr'"
            ]
          },
          "metadata": {
            "tags": []
          },
          "execution_count": 13
        }
      ]
    },
    {
      "cell_type": "markdown",
      "metadata": {
        "id": "7DwnzE5j85b_"
      },
      "source": [
        "步驟二:將獲得的文字再使用base 64解碼"
      ]
    },
    {
      "cell_type": "code",
      "metadata": {
        "id": "73nvVz-X8519",
        "outputId": "dbbfc91b-20ae-43d3-a4bd-5cb8e70d77e6",
        "colab": {
          "base_uri": "https://localhost:8080/"
        }
      },
      "source": [
        "import base64\n",
        "base64.b64decode('aW50ZXJuZXRfY29udmVyc2lvbl90b29sc19yb2Nr')"
      ],
      "execution_count": 14,
      "outputs": [
        {
          "output_type": "execute_result",
          "data": {
            "text/plain": [
              "b'internet_conversion_tools_rock'"
            ]
          },
          "metadata": {
            "tags": []
          },
          "execution_count": 14
        }
      ]
    },
    {
      "cell_type": "markdown",
      "metadata": {
        "id": "hI89bvem9AtW"
      },
      "source": [
        "# [3]補充教材:數字系統( number system)的轉換\n",
        "```\n",
        "10進位(Decimal)  二進位(binary)  八進位(Octal)  十六進位(Hexadecimal)\n",
        "\n",
        "1011(二進位) = 13(八進位) = B(十六進位) = 11(十進位)\n",
        "\n",
        "Python表示法:\n",
        "0b1011(二進位:0b開頭)  0o13(八進位:0o開頭)   0xb(十六進位:0x開頭)\n",
        "```\n",
        "\n",
        "###  使用Python 內建函數(Built in Functions)解決  數字系統的轉換問題\n",
        "\n",
        "```\n",
        "https://www.w3schools.com/python/python_ref_functions.asp\n",
        "\n",
        "bin()\n",
        "oct()\n",
        "int()\n",
        "hex()\n",
        "```"
      ]
    },
    {
      "cell_type": "code",
      "metadata": {
        "id": "iege3YpX9Bj-",
        "outputId": "762e9452-946c-4d43-f6b3-3c45e6bb8d78",
        "colab": {
          "base_uri": "https://localhost:8080/"
        }
      },
      "source": [
        "# 數字系統( number system)的轉換\n",
        "# 使用Python程式將10進位(Decimal)數字轉換成二進位(binary), 八進位(Octal) 及 十六進位(Hexadecimal) \n",
        "# https://www.programiz.com/python-programming/examples/conversion-binary-octal-hexadecimal\n",
        "\n",
        "bin_n = 0b1011\n",
        "\n",
        "print(\"上述二進位數字可被轉換成:\")\n",
        "print(bin_n,\"十進位(Decimal).\")\n",
        "print(oct(bin_n),\"八進位(octal).\")\n",
        "print(hex(bin_n),\"十六進位(hexadecimal).\")"
      ],
      "execution_count": 15,
      "outputs": [
        {
          "output_type": "stream",
          "text": [
            "上述二進位數字可被轉換成:\n",
            "11 十進位(Decimal).\n",
            "0o13 八進位(octal).\n",
            "0xb 十六進位(hexadecimal).\n"
          ],
          "name": "stdout"
        }
      ]
    },
    {
      "cell_type": "markdown",
      "metadata": {
        "id": "BL_G4dqf9EHm"
      },
      "source": [
        "### 給你十進位的 344, 二進位(binary)|八進位(octal)|十六進位(hexadecimal)是多少?"
      ]
    },
    {
      "cell_type": "code",
      "metadata": {
        "id": "VYUP6oB89KyF",
        "outputId": "b596f144-100a-40a9-d253-9907813c98f6",
        "colab": {
          "base_uri": "https://localhost:8080/"
        }
      },
      "source": [
        "dec = 344\n",
        "\n",
        "print(\"10進位數字\",dec,\"可被轉換成:\")\n",
        "print(bin(dec),\"二進位(binary).\")\n",
        "print(oct(dec),\"八進位(octal).\")\n",
        "print(hex(dec),\"十六進位(hexadecimal).\")"
      ],
      "execution_count": 16,
      "outputs": [
        {
          "output_type": "stream",
          "text": [
            "10進位數字 344 可被轉換成:\n",
            "0b101011000 二進位(binary).\n",
            "0o530 八進位(octal).\n",
            "0x158 十六進位(hexadecimal).\n"
          ],
          "name": "stdout"
        }
      ]
    },
    {
      "cell_type": "markdown",
      "metadata": {
        "id": "RjSS9SJt9Nxu"
      },
      "source": [
        "## int[]內建函數\n",
        "```\n",
        "功能:將一個字串或數位轉換為整數型。\n",
        "\n",
        "語法: int(x, base=10)\n",
        "\n",
        "參數說明:\n",
        "x -- 字串或數位。\n",
        "base -- 進制數，預設是十進位。\n",
        "\n",
        "返回值:會返回一個整數型資料。\n",
        "\n",
        "```\n",
        "### 底下程式執行結果為何?"
      ]
    },
    {
      "cell_type": "code",
      "metadata": {
        "id": "A_y4vjzY9PEG",
        "outputId": "e46fe54b-83de-4657-9fdf-948c3a2ed1be",
        "colab": {
          "base_uri": "https://localhost:8080/"
        }
      },
      "source": [
        "# [參考資料]From https://www.programiz.com/python-programming/methods/built-in/int\n",
        "\n",
        "# binary 0b or 0B\n",
        "print(\"For 1010, int is:\", int('1010', 2))\n",
        "print(\"For 0b1010, int is:\", int('0b1010', 2))\n",
        "\n",
        "# octal 0o or 0O\n",
        "print(\"For 12, int is:\", int('12', 8))\n",
        "print(\"For 0o12, int is:\", int('0o12', 8))\n",
        "\n",
        "# hexadecimal\n",
        "print(\"For A, int is:\", int('A', 16))\n",
        "print(\"For 0xA, int is:\", int('0xA', 16))"
      ],
      "execution_count": 17,
      "outputs": [
        {
          "output_type": "stream",
          "text": [
            "For 1010, int is: 10\n",
            "For 0b1010, int is: 10\n",
            "For 12, int is: 10\n",
            "For 0o12, int is: 10\n",
            "For A, int is: 10\n",
            "For 0xA, int is: 10\n"
          ],
          "name": "stdout"
        }
      ]
    },
    {
      "cell_type": "markdown",
      "metadata": {
        "id": "P2UJYZtb9U7-"
      },
      "source": [
        "# [4]Internetwache CTF 2016 : The hidden message\n",
        "```\n",
        "My friend really can’t remember passwords. So he uses some kind of obfuscation. Can you restore the plaintext?\n",
        "\n",
        "Attachment: misc50.zip\n",
        "```\n",
        "把misc50.zip解壓縮後可以得到:\n",
        "```\n",
        "0000000 126 062 126 163 142 103 102 153 142 062 065 154 111 121 157 113\n",
        "0000020 122 155 170 150 132 172 157 147 123 126 144 067 124 152 102 146\n",
        "0000040 115 107 065 154 130 062 116 150 142 154 071 172 144 104 102 167\n",
        "0000060 130 063 153 167 144 130 060 113 012\n",
        "0000071\n",
        "```\n",
        "\n",
        "```\n",
        "參考解答(writeups)\n",
        "https://0x90r00t.com/2016/02/22/internetwache-ctf-2016-misc-50-the-hidden-message-write-up/\n",
        "```\n",
        "## 第一種解法:使用線上工具解\n",
        "\n",
        "步驟一：線上工具\n",
        "```\n",
        "http://www.unit-conversion.info/texttools/octal/\n",
        "\n",
        "V2VsbCBkb25lIQoKRmxhZzogSVd7TjBfMG5lX2Nhbl9zdDBwX3kwdX0K\n",
        "```\n",
        "步驟二："
      ]
    },
    {
      "cell_type": "code",
      "metadata": {
        "id": "Io7oPgYY9XCl",
        "outputId": "c9aaa02c-6dc8-42bb-927e-41876c18c2e1",
        "colab": {
          "base_uri": "https://localhost:8080/"
        }
      },
      "source": [
        "import base64\n",
        "\n",
        "encoded_data = b'V2VsbCBkb25lIQoKRmxhZzogSVd7TjBfMG5lX2Nhbl9zdDBwX3kwdX0K'\n",
        "decoded_data = base64.b64decode(encoded_data)\n",
        "print('Encoded :', encoded_data)\n",
        "print('Decoded :', decoded_data)"
      ],
      "execution_count": 18,
      "outputs": [
        {
          "output_type": "stream",
          "text": [
            "Encoded : b'V2VsbCBkb25lIQoKRmxhZzogSVd7TjBfMG5lX2Nhbl9zdDBwX3kwdX0K'\n",
            "Decoded : b'Well done!\\n\\nFlag: IW{N0_0ne_can_st0p_y0u}\\n'\n"
          ],
          "name": "stdout"
        }
      ]
    },
    {
      "cell_type": "markdown",
      "metadata": {
        "id": "WQn3lTNl9ZPG"
      },
      "source": [
        "## 第二種解法\n",
        "\n",
        "### 先試看看是不是如你所想的一般......."
      ]
    },
    {
      "cell_type": "code",
      "metadata": {
        "id": "BoyjdEol9bLm",
        "outputId": "7d1d0268-2387-4385-f360-41998d3104b9",
        "colab": {
          "base_uri": "https://localhost:8080/"
        }
      },
      "source": [
        "#!/usr/bin/python\n",
        "\n",
        "c = '126 062 126 163 142 103 102 153 142 062 065 154 111 121 157 113 122 155 170 150 132 172 157 147 123 126 144 067 124 152 102 146 115 107 065 154 130 062 116 150 142 154 071 172 144 104 102 167 130 063 153 167 144 130 060 113 012'\n",
        "\n",
        "flag = \"\"\n",
        "\n",
        "for _ in c.split(' '):\n",
        "  flag += chr(int(_,8))\n",
        "\n",
        "print(flag)"
      ],
      "execution_count": 19,
      "outputs": [
        {
          "output_type": "stream",
          "text": [
            "V2VsbCBkb25lIQoKRmxhZzogSVd7TjBfMG5lX2Nhbl9zdDBwX3kwdX0K\n",
            "\n"
          ],
          "name": "stdout"
        }
      ]
    },
    {
      "cell_type": "markdown",
      "metadata": {
        "id": "5VI-psKc9czu"
      },
      "source": [
        "## 接著就可以完成大業......"
      ]
    },
    {
      "cell_type": "code",
      "metadata": {
        "id": "7XZMKBso9db1",
        "outputId": "3fb84f72-8eda-41e6-b754-fb1547d7b0b5",
        "colab": {
          "base_uri": "https://localhost:8080/"
        }
      },
      "source": [
        "#!/usr/bin/python\n",
        "import base64\n",
        "\n",
        "c = '126 062 126 163 142 103 102 153 142 062 065 154 111 121 157 113 122 155 170 150 132 172 157 147 123 126 144 067 124 152 102 146 115 107 065 154 130 062 116 150 142 154 071 172 144 104 102 167 130 063 153 167 144 130 060 113 012'\n",
        "\n",
        "flag = \"\"\n",
        "\n",
        "for _ in c.split(' '):\n",
        "  flag += chr(int(_,8))\n",
        "  \n",
        "\n",
        "solution = base64.b64decode(flag)\n",
        "print(solution)"
      ],
      "execution_count": 20,
      "outputs": [
        {
          "output_type": "stream",
          "text": [
            "b'Well done!\\n\\nFlag: IW{N0_0ne_can_st0p_y0u}\\n'\n"
          ],
          "name": "stdout"
        }
      ]
    },
    {
      "cell_type": "markdown",
      "metadata": {
        "id": "QHChlJkg9iG2"
      },
      "source": [
        "# [5]SECCON CTF 2014: Easy Cipher \n",
        "```\n",
        "87 101 108 1100011 0157 6d 0145 040 116 0157 100000 0164 104 1100101 32 0123 69 67 0103 1001111 1001110 040 062 060 49 064 100000 0157 110 6c 0151 1101110 101 040 0103 1010100 70 101110 0124 1101000 101 100000 1010011 1000101 67 0103 4f 4e 100000 105 1110011 040 116 1101000 0145 040 1100010 0151 103 103 0145 1110011 0164 100000 1101000 0141 99 6b 1100101 0162 32 0143 111 1101110 1110100 101 0163 0164 040 0151 0156 040 74 0141 1110000 1100001 0156 056 4f 0157 0160 115 44 040 0171 1101111 117 100000 1110111 0141 0156 1110100 32 0164 6f 32 6b 1101110 1101111 1110111 100000 0164 1101000 0145 040 0146 6c 97 1100111 2c 100000 0144 111 110 100111 116 100000 1111001 6f 117 63 0110 1100101 0162 0145 100000 1111001 111 117 100000 97 114 0145 46 1010011 0105 0103 67 79 1001110 123 87 110011 110001 67 110000 1001101 32 55 060 100000 110111 0110 110011 32 53 51 0103 0103 060 0116 040 5a 0117 73 0101 7d 1001000 0141 1110110 1100101 100000 102 0165 0156 33\n",
        "```\n",
        "```\n",
        "[參考解答]\n",
        "http://4ngelboy.blogspot.com/2014/12/span-display-block-overflow-hidden.html\n",
        "\n",
        "\n",
        "很明顯的這段文字是由四種不同進位的數字所組成，必須判斷出他是屬於哪個進位在轉換成 ASCII code 印出，\n",
        "不過起初在解的時候沒有發現有特別的規則，導致剛開始一直判別不出來，仔細觀察過後可發現每個進位的數字有不同的特徵：\n",
        "2 進位：字串長度 >= 6\n",
        "8 進位：開頭一定是 0\n",
        "16 進位：必有英文字 6d\n",
        "10 進位：上述之外的\n",
        "\n",
        "https://github.com/S42X/CTF/blob/master/SECCON/EasyCipher.md\n",
        "```"
      ]
    },
    {
      "cell_type": "code",
      "metadata": {
        "id": "aq9RNSrp9inl",
        "outputId": "126a08ed-681d-4f0d-9174-8293b9f4d6f2",
        "colab": {
          "base_uri": "https://localhost:8080/",
          "height": 35
        }
      },
      "source": [
        "\n",
        "ord('a')\n",
        "\n",
        "oct(10)\n",
        "\n",
        "hex(10)"
      ],
      "execution_count": 21,
      "outputs": [
        {
          "output_type": "execute_result",
          "data": {
            "application/vnd.google.colaboratory.intrinsic+json": {
              "type": "string"
            },
            "text/plain": [
              "'0xa'"
            ]
          },
          "metadata": {
            "tags": []
          },
          "execution_count": 21
        }
      ]
    },
    {
      "cell_type": "markdown",
      "metadata": {
        "id": "ELJH7Xd29kZ-"
      },
      "source": [
        "```\n",
        "https://www.quora.com/How-do-I-convert-hex-into-a-string-using-Python\n",
        "\n",
        "https://stackoverflow.com/questions/18806772/most-pythonic-way-to-convert-a-string-to-a-octal-number\n",
        "\n",
        "http://mini-stable.blogspot.com/2015/03/python-int-hex-char-string.html\n",
        "```\n",
        "### Python - int, hex, char, string的轉換"
      ]
    },
    {
      "cell_type": "code",
      "metadata": {
        "id": "a98gpSzE9ncl",
        "outputId": "32c37991-68fc-41a5-99bd-2e19258e45bd",
        "colab": {
          "base_uri": "https://localhost:8080/",
          "height": 135
        }
      },
      "source": [
        "Int to Hex:   hex(97)  # '0x61'\n",
        "Int to Char:   chr(97)  # 'a'\n",
        "Int to String:  str(97)  # '97'\n",
        "Hex to int:  int('0x61', 16)  # 97\n",
        "Hex to Char:   chr(int('0x61', 16)) # 'a'\n",
        "Hex to String:\n",
        "string = '61626364'\n",
        "''.join(chr(int(string[i:i+2], 16)) for i in range(0, len(string), 2))  # 'abcd'"
      ],
      "execution_count": 22,
      "outputs": [
        {
          "output_type": "error",
          "ename": "SyntaxError",
          "evalue": "ignored",
          "traceback": [
            "\u001b[0;36m  File \u001b[0;32m\"<ipython-input-22-804f72a89e86>\"\u001b[0;36m, line \u001b[0;32m1\u001b[0m\n\u001b[0;31m    Int to Hex:   hex(97)  # '0x61'\u001b[0m\n\u001b[0m         ^\u001b[0m\n\u001b[0;31mSyntaxError\u001b[0m\u001b[0;31m:\u001b[0m invalid syntax\n"
          ]
        }
      ]
    },
    {
      "cell_type": "code",
      "metadata": {
        "id": "8CB2E4Ui9p99",
        "outputId": "8b823830-fef9-4a78-aa0a-7458fdabe250",
        "colab": {
          "base_uri": "https://localhost:8080/",
          "height": 135
        }
      },
      "source": [
        "Char to Int: ord('a')  # 97\n",
        "Char to Hex: hex(ord('a'))  # '0x61'\n",
        "String to Int: int('97')  # 97\n",
        "String to Hex:\n",
        "\n",
        "string = 'abcd'\n",
        "''.join([hex(ord(x))[2:] for x in string])  # '61626364'"
      ],
      "execution_count": 23,
      "outputs": [
        {
          "output_type": "error",
          "ename": "SyntaxError",
          "evalue": "ignored",
          "traceback": [
            "\u001b[0;36m  File \u001b[0;32m\"<ipython-input-23-da04d93240c4>\"\u001b[0;36m, line \u001b[0;32m1\u001b[0m\n\u001b[0;31m    Char to Int: ord('a')  # 97\u001b[0m\n\u001b[0m          ^\u001b[0m\n\u001b[0;31mSyntaxError\u001b[0m\u001b[0;31m:\u001b[0m invalid syntax\n"
          ]
        }
      ]
    },
    {
      "cell_type": "code",
      "metadata": {
        "id": "lCzJ4MNf9sQW",
        "outputId": "3da59dae-17cf-461b-d234-9e9306533779",
        "colab": {
          "base_uri": "https://localhost:8080/",
          "height": 35
        }
      },
      "source": [
        "string = '61626364'\n",
        "''.join(chr(int(string[i:i+2], 16)) for i in range(0, len(string), 2))  # 'abcd'"
      ],
      "execution_count": 24,
      "outputs": [
        {
          "output_type": "execute_result",
          "data": {
            "application/vnd.google.colaboratory.intrinsic+json": {
              "type": "string"
            },
            "text/plain": [
              "'abcd'"
            ]
          },
          "metadata": {
            "tags": []
          },
          "execution_count": 24
        }
      ]
    },
    {
      "cell_type": "markdown",
      "metadata": {
        "id": "wPAGHcWj9vbY"
      },
      "source": [
        "### 使用python內建模組 binascii\n",
        "```\n",
        "https://docs.python.org/2/library/binascii.html\n",
        "```"
      ]
    },
    {
      "cell_type": "code",
      "metadata": {
        "id": "NgLrP09Q9yBf",
        "outputId": "682f2fbc-384b-43c3-d577-d495586e7dc3",
        "colab": {
          "base_uri": "https://localhost:8080/",
          "height": 135
        }
      },
      "source": [
        "#coding:utf-8\n",
        "import binascii\n",
        "a = 'HappyCTF{Useful tools binascii}'\n",
        "b = binascii.b2a_hex(a)\n",
        "print b\n",
        "print binascii.a2b_hex(b)"
      ],
      "execution_count": 25,
      "outputs": [
        {
          "output_type": "error",
          "ename": "SyntaxError",
          "evalue": "ignored",
          "traceback": [
            "\u001b[0;36m  File \u001b[0;32m\"<ipython-input-25-8510081f9497>\"\u001b[0;36m, line \u001b[0;32m5\u001b[0m\n\u001b[0;31m    print b\u001b[0m\n\u001b[0m          ^\u001b[0m\n\u001b[0;31mSyntaxError\u001b[0m\u001b[0;31m:\u001b[0m Missing parentheses in call to 'print'. Did you mean print(b)?\n"
          ]
        }
      ]
    },
    {
      "cell_type": "markdown",
      "metadata": {
        "id": "WqfeuLWh92Uw"
      },
      "source": [
        "```\n",
        "Python2 Online\n",
        "https://paiza.io/en/languages/python\n",
        "```\n",
        "\n",
        "```\n",
        "https://nandynarwhals.org/seccon2014-easycipher/\n",
        "```"
      ]
    },
    {
      "cell_type": "markdown",
      "metadata": {
        "id": "TAfm9ThS94WM"
      },
      "source": [
        "#!/usr/bin/python\n",
        "\n",
        "vals = \"87 101 108 1100011 0157 6d 0145 040 116 0157 100000 0164 104 1100101 32 0123 69 67 0103 1001111 1001110 040 062 060 49 064 100000 0157 110 6c 0151 1101110 101 040 0103 1010100 70 101110 0124 1101000 101 100000 1010011 1000101 67 0103 4f 4e 100000 105 1110011 040 116 1101000 0145 040 1100010 0151 103 103 0145 1110011 0164 100000 1101000 0141 99 6b 1100101 0162 32 0143 111 1101110 1110100 101 0163 0164 040 0151 0156 040 74 0141 1110000 1100001 0156 056 4f 0157 0160 115 44 040 0171 1101111 117 100000 1110111 0141 0156 1110100 32 0164 6f 32 6b 1101110 1101111 1110111 100000 0164 1101000 0145 040 0146 6c 97 1100111 2c 100000 0144 111 110 100111 116 100000 1111001 6f 117 63 0110 1100101 0162 0145 100000 1111001 111 117 100000 97 114 0145 46 1010011 0105 0103 67 79 1001110 123 87 110011 110001 67 110000 1001101 32 55 060 100000 110111 0110 110011 32 53 51 0103 0103 060 0116 040 5a 0117 73 0101 7d 1001000 0141 1110110 1100101 100000 102 0165 0156 33\"\n",
        "vals = vals.split()\n",
        "\n",
        "def contains_hex(val):\n",
        "    h = \"abcdef\"\n",
        "    for i in val:\n",
        "        if i in h:\n",
        "            return True\n",
        "    return False\n",
        "\n",
        "def main():\n",
        "    flag = []\n",
        "    for i in vals:\n",
        "        if len(i) > 5:\n",
        "            flag.append(int(i, 2))\n",
        "        elif i[0] == \"0\":\n",
        "            flag.append(int(i, 8))\n",
        "        elif contains_hex(i):\n",
        "            flag.append(int(i, 16))\n",
        "        else:\n",
        "            flag.append(int(i))\n",
        "    print(\"%s\" % \"\".join(map(chr, flag)))\n",
        "\n",
        "if __name__ == \"__main__\":\n",
        "    main()"
      ]
    },
    {
      "cell_type": "markdown",
      "metadata": {
        "id": "nKU41tDX97xm"
      },
      "source": [
        "### 使用正規表達法regression expression\n",
        "```\n",
        "https://wiremask.eu/writeups/seccon-ctf-2014-crypto-100-easy-cipher/\n",
        "```"
      ]
    },
    {
      "cell_type": "code",
      "metadata": {
        "id": "1XJS1Dyi98jf",
        "outputId": "1ec5bdef-ed45-4600-a3e6-702b5bfacefb",
        "colab": {
          "base_uri": "https://localhost:8080/"
        }
      },
      "source": [
        "#!/usr/bin/env python\n",
        "import re\n",
        "import sys\n",
        "\n",
        "message = \"87 101 108 1100011 0157 6d 0145 040 116 0157 100000 0164 104 1100101 32 0123 69 67 0103 1001111 1001110 040 062 060 49 064 100000 0157 110 6c 0151 1101110 101 040 0103 1010100 70 101110 0124 1101000 101 100000 1010011 1000101 67 0103 4f 4e 100000 105 1110011 040 116 1101000 0145 040 1100010 0151 103 103 0145 1110011 0164 100000 1101000 0141 99 6b 1100101 0162 32 0143 111 1101110 1110100 101 0163 0164 040 0151 0156 040 74 0141 1110000 1100001 0156 056 4f 0157 0160 115 44 040 0171 1101111 117 100000 1110111 0141 0156 1110100 32 0164 6f 32 6b 1101110 1101111 1110111 100000 0164 1101000 0145 040 0146 6c 97 1100111 2c 100000 0144 111 110 100111 116 100000 1111001 6f 117 63 0110 1100101 0162 0145 100000 1111001 111 117 100000 97 114 0145 46 1010011 0105 0103 67 79 1001110 123 87 110011 110001 67 110000 1001101 32 55 060 100000 110111 0110 110011 32 53 51 0103 0103 060 0116 040 5a 0117 73 0101 7d 1001000 0141 1110110 1100101 100000 102 0165 0156 33\"\n",
        "codes = message.split()\n",
        "\n",
        "for i, code in enumerate(codes):\n",
        "    if re.match(\"^[01]+$\", code)  and code[0] == \"1\" and len(code) > 3:\n",
        "        sys.stdout.write(chr(int(code, 2)))\n",
        "    elif re.match(\"^[0-9]+$\", code) and code[0] == \"0\":\n",
        "        sys.stdout.write(chr(int(code, 8)))\n",
        "    elif re.match(\"^[0-9]+$\", code):\n",
        "        sys.stdout.write(chr(int(code, 10)))\n",
        "    else:\n",
        "        sys.stdout.write(chr(int(code, 16)))"
      ],
      "execution_count": 26,
      "outputs": [
        {
          "output_type": "stream",
          "text": [
            "Welcome to the SECCON 2014 online CTF.The SECCON is the biggest hacker contest in Japan.Oops, you want to know the flag, don't you?Here you are.SECCON{W31C0M 70 7H3 53CC0N ZOIA}Have fun!"
          ],
          "name": "stdout"
        }
      ]
    }
  ]
}